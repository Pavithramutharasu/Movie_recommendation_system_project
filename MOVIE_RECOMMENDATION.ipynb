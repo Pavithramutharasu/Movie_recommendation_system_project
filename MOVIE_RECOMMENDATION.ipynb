{
  "nbformat": 4,
  "nbformat_minor": 0,
  "metadata": {
    "colab": {
      "provenance": []
    },
    "kernelspec": {
      "name": "python3",
      "display_name": "Python 3"
    },
    "language_info": {
      "name": "python"
    }
  },
  "cells": [
    {
      "cell_type": "markdown",
      "source": [
        "# MOVIE RECOMMENDATION\n",
        "      "
      ],
      "metadata": {
        "id": "CZzzu7ZtzlOl"
      }
    },
    {
      "cell_type": "markdown",
      "source": [
        "**OBJECTIVE:-**\n",
        "        \n",
        "        To create an advanced movie recommendation system that personalizes movie suggestions for users by analyzing their historical viewing pattern, ratings and preferences.The system aims to enhance user satisfaction and engagement by delivering relevent and appealing movie recommendations."
      ],
      "metadata": {
        "id": "8r4HLlGiCOvy"
      }
    },
    {
      "cell_type": "markdown",
      "source": [
        "**Data Source:-**\n",
        "         \n",
        "         \n",
        "         \n",
        "         \n",
        "         \n",
        "         \n",
        "         \n",
        "        dataset : https://github.com/YBIFoundation/Dataset/blob/main/Movies%20Recommendation.csv"
      ],
      "metadata": {
        "id": "Q-byN7HlIR3i"
      }
    },
    {
      "cell_type": "code",
      "execution_count": 7,
      "metadata": {
        "id": "AHdwr-Jjzj5x"
      },
      "outputs": [],
      "source": [
        "import pandas as pd\n",
        "import numpy as np"
      ]
    },
    {
      "cell_type": "code",
      "source": [
        "df = pd.read_csv(\"/content/Movies Recommendation.csv\")"
      ],
      "metadata": {
        "id": "W74xzL4TJYjz"
      },
      "execution_count": 8,
      "outputs": []
    },
    {
      "cell_type": "code",
      "source": [
        "df.head()"
      ],
      "metadata": {
        "colab": {
          "base_uri": "https://localhost:8080/",
          "height": 672
        },
        "id": "mp4Muio7KLX0",
        "outputId": "62275db7-a25f-409a-9c2b-03b34a080108"
      },
      "execution_count": 9,
      "outputs": [
        {
          "output_type": "execute_result",
          "data": {
            "text/plain": [
              "   Movie_ID      Movie_Title                       Movie_Genre Movie_Language  \\\n",
              "0         1       Four Rooms                      Crime Comedy             en   \n",
              "1         2        Star Wars  Adventure Action Science Fiction             en   \n",
              "2         3     Finding Nemo                  Animation Family             en   \n",
              "3         4     Forrest Gump              Comedy Drama Romance             en   \n",
              "4         5  American Beauty                             Drama             en   \n",
              "\n",
              "   Movie_Budget  Movie_Popularity Movie_Release_Date  Movie_Revenue  \\\n",
              "0       4000000         22.876230         09-12-1995        4300000   \n",
              "1      11000000        126.393695         25-05-1977      775398007   \n",
              "2      94000000         85.688789         30-05-2003      940335536   \n",
              "3      55000000        138.133331         06-07-1994      677945399   \n",
              "4      15000000         80.878605         15-09-1999      356296601   \n",
              "\n",
              "   Movie_Runtime  Movie_Vote  ...  \\\n",
              "0           98.0         6.5  ...   \n",
              "1          121.0         8.1  ...   \n",
              "2          100.0         7.6  ...   \n",
              "3          142.0         8.2  ...   \n",
              "4          122.0         7.9  ...   \n",
              "\n",
              "                                      Movie_Homepage  \\\n",
              "0                                                NaN   \n",
              "1  http://www.starwars.com/films/star-wars-episod...   \n",
              "2              http://movies.disney.com/finding-nemo   \n",
              "3                                                NaN   \n",
              "4                      http://www.dreamworks.com/ab/   \n",
              "\n",
              "                                      Movie_Keywords  \\\n",
              "0          hotel new year's eve witch bet hotel room   \n",
              "1        android galaxy hermit death star lightsaber   \n",
              "2  father son relationship harbor underwater fish...   \n",
              "3  vietnam veteran hippie mentally disabled runni...   \n",
              "4  male nudity female nudity adultery midlife cri...   \n",
              "\n",
              "                                      Movie_Overview  \\\n",
              "0  It's Ted the Bellhop's first night on the job....   \n",
              "1  Princess Leia is captured and held hostage by ...   \n",
              "2  Nemo, an adventurous young clownfish, is unexp...   \n",
              "3  A man with a low IQ has accomplished great thi...   \n",
              "4  Lester Burnham, a depressed suburban father in...   \n",
              "\n",
              "                              Movie_Production_House  \\\n",
              "0  [{\"name\": \"Miramax Films\", \"id\": 14}, {\"name\":...   \n",
              "1  [{\"name\": \"Lucasfilm\", \"id\": 1}, {\"name\": \"Twe...   \n",
              "2     [{\"name\": \"Pixar Animation Studios\", \"id\": 3}]   \n",
              "3          [{\"name\": \"Paramount Pictures\", \"id\": 4}]   \n",
              "4  [{\"name\": \"DreamWorks SKG\", \"id\": 27}, {\"name\"...   \n",
              "\n",
              "                            Movie_Production_Country  \\\n",
              "0  [{\"iso_3166_1\": \"US\", \"name\": \"United States o...   \n",
              "1  [{\"iso_3166_1\": \"US\", \"name\": \"United States o...   \n",
              "2  [{\"iso_3166_1\": \"US\", \"name\": \"United States o...   \n",
              "3  [{\"iso_3166_1\": \"US\", \"name\": \"United States o...   \n",
              "4  [{\"iso_3166_1\": \"US\", \"name\": \"United States o...   \n",
              "\n",
              "                      Movie_Spoken_Language  \\\n",
              "0  [{\"iso_639_1\": \"en\", \"name\": \"English\"}]   \n",
              "1  [{\"iso_639_1\": \"en\", \"name\": \"English\"}]   \n",
              "2  [{\"iso_639_1\": \"en\", \"name\": \"English\"}]   \n",
              "3  [{\"iso_639_1\": \"en\", \"name\": \"English\"}]   \n",
              "4  [{\"iso_639_1\": \"en\", \"name\": \"English\"}]   \n",
              "\n",
              "                                       Movie_Tagline  \\\n",
              "0  Twelve outrageous guests. Four scandalous requ...   \n",
              "1       A long time ago in a galaxy far, far away...   \n",
              "2  There are 3.7 trillion fish in the ocean, they...   \n",
              "3  The world will never be the same, once you've ...   \n",
              "4                                       Look closer.   \n",
              "\n",
              "                                          Movie_Cast  \\\n",
              "0  Tim Roth Antonio Banderas Jennifer Beals Madon...   \n",
              "1  Mark Hamill Harrison Ford Carrie Fisher Peter ...   \n",
              "2  Albert Brooks Ellen DeGeneres Alexander Gould ...   \n",
              "3  Tom Hanks Robin Wright Gary Sinise Mykelti Wil...   \n",
              "4  Kevin Spacey Annette Bening Thora Birch Wes Be...   \n",
              "\n",
              "                                          Movie_Crew   Movie_Director  \n",
              "0  [{'name': 'Allison Anders', 'gender': 1, 'depa...   Allison Anders  \n",
              "1  [{'name': 'George Lucas', 'gender': 2, 'depart...     George Lucas  \n",
              "2  [{'name': 'Andrew Stanton', 'gender': 2, 'depa...   Andrew Stanton  \n",
              "3  [{'name': 'Alan Silvestri', 'gender': 2, 'depa...  Robert Zemeckis  \n",
              "4  [{'name': 'Thomas Newman', 'gender': 2, 'depar...       Sam Mendes  \n",
              "\n",
              "[5 rows x 21 columns]"
            ],
            "text/html": [
              "\n",
              "  <div id=\"df-383545af-fe27-43dd-a5bd-61ba23f54c93\" class=\"colab-df-container\">\n",
              "    <div>\n",
              "<style scoped>\n",
              "    .dataframe tbody tr th:only-of-type {\n",
              "        vertical-align: middle;\n",
              "    }\n",
              "\n",
              "    .dataframe tbody tr th {\n",
              "        vertical-align: top;\n",
              "    }\n",
              "\n",
              "    .dataframe thead th {\n",
              "        text-align: right;\n",
              "    }\n",
              "</style>\n",
              "<table border=\"1\" class=\"dataframe\">\n",
              "  <thead>\n",
              "    <tr style=\"text-align: right;\">\n",
              "      <th></th>\n",
              "      <th>Movie_ID</th>\n",
              "      <th>Movie_Title</th>\n",
              "      <th>Movie_Genre</th>\n",
              "      <th>Movie_Language</th>\n",
              "      <th>Movie_Budget</th>\n",
              "      <th>Movie_Popularity</th>\n",
              "      <th>Movie_Release_Date</th>\n",
              "      <th>Movie_Revenue</th>\n",
              "      <th>Movie_Runtime</th>\n",
              "      <th>Movie_Vote</th>\n",
              "      <th>...</th>\n",
              "      <th>Movie_Homepage</th>\n",
              "      <th>Movie_Keywords</th>\n",
              "      <th>Movie_Overview</th>\n",
              "      <th>Movie_Production_House</th>\n",
              "      <th>Movie_Production_Country</th>\n",
              "      <th>Movie_Spoken_Language</th>\n",
              "      <th>Movie_Tagline</th>\n",
              "      <th>Movie_Cast</th>\n",
              "      <th>Movie_Crew</th>\n",
              "      <th>Movie_Director</th>\n",
              "    </tr>\n",
              "  </thead>\n",
              "  <tbody>\n",
              "    <tr>\n",
              "      <th>0</th>\n",
              "      <td>1</td>\n",
              "      <td>Four Rooms</td>\n",
              "      <td>Crime Comedy</td>\n",
              "      <td>en</td>\n",
              "      <td>4000000</td>\n",
              "      <td>22.876230</td>\n",
              "      <td>09-12-1995</td>\n",
              "      <td>4300000</td>\n",
              "      <td>98.0</td>\n",
              "      <td>6.5</td>\n",
              "      <td>...</td>\n",
              "      <td>NaN</td>\n",
              "      <td>hotel new year's eve witch bet hotel room</td>\n",
              "      <td>It's Ted the Bellhop's first night on the job....</td>\n",
              "      <td>[{\"name\": \"Miramax Films\", \"id\": 14}, {\"name\":...</td>\n",
              "      <td>[{\"iso_3166_1\": \"US\", \"name\": \"United States o...</td>\n",
              "      <td>[{\"iso_639_1\": \"en\", \"name\": \"English\"}]</td>\n",
              "      <td>Twelve outrageous guests. Four scandalous requ...</td>\n",
              "      <td>Tim Roth Antonio Banderas Jennifer Beals Madon...</td>\n",
              "      <td>[{'name': 'Allison Anders', 'gender': 1, 'depa...</td>\n",
              "      <td>Allison Anders</td>\n",
              "    </tr>\n",
              "    <tr>\n",
              "      <th>1</th>\n",
              "      <td>2</td>\n",
              "      <td>Star Wars</td>\n",
              "      <td>Adventure Action Science Fiction</td>\n",
              "      <td>en</td>\n",
              "      <td>11000000</td>\n",
              "      <td>126.393695</td>\n",
              "      <td>25-05-1977</td>\n",
              "      <td>775398007</td>\n",
              "      <td>121.0</td>\n",
              "      <td>8.1</td>\n",
              "      <td>...</td>\n",
              "      <td>http://www.starwars.com/films/star-wars-episod...</td>\n",
              "      <td>android galaxy hermit death star lightsaber</td>\n",
              "      <td>Princess Leia is captured and held hostage by ...</td>\n",
              "      <td>[{\"name\": \"Lucasfilm\", \"id\": 1}, {\"name\": \"Twe...</td>\n",
              "      <td>[{\"iso_3166_1\": \"US\", \"name\": \"United States o...</td>\n",
              "      <td>[{\"iso_639_1\": \"en\", \"name\": \"English\"}]</td>\n",
              "      <td>A long time ago in a galaxy far, far away...</td>\n",
              "      <td>Mark Hamill Harrison Ford Carrie Fisher Peter ...</td>\n",
              "      <td>[{'name': 'George Lucas', 'gender': 2, 'depart...</td>\n",
              "      <td>George Lucas</td>\n",
              "    </tr>\n",
              "    <tr>\n",
              "      <th>2</th>\n",
              "      <td>3</td>\n",
              "      <td>Finding Nemo</td>\n",
              "      <td>Animation Family</td>\n",
              "      <td>en</td>\n",
              "      <td>94000000</td>\n",
              "      <td>85.688789</td>\n",
              "      <td>30-05-2003</td>\n",
              "      <td>940335536</td>\n",
              "      <td>100.0</td>\n",
              "      <td>7.6</td>\n",
              "      <td>...</td>\n",
              "      <td>http://movies.disney.com/finding-nemo</td>\n",
              "      <td>father son relationship harbor underwater fish...</td>\n",
              "      <td>Nemo, an adventurous young clownfish, is unexp...</td>\n",
              "      <td>[{\"name\": \"Pixar Animation Studios\", \"id\": 3}]</td>\n",
              "      <td>[{\"iso_3166_1\": \"US\", \"name\": \"United States o...</td>\n",
              "      <td>[{\"iso_639_1\": \"en\", \"name\": \"English\"}]</td>\n",
              "      <td>There are 3.7 trillion fish in the ocean, they...</td>\n",
              "      <td>Albert Brooks Ellen DeGeneres Alexander Gould ...</td>\n",
              "      <td>[{'name': 'Andrew Stanton', 'gender': 2, 'depa...</td>\n",
              "      <td>Andrew Stanton</td>\n",
              "    </tr>\n",
              "    <tr>\n",
              "      <th>3</th>\n",
              "      <td>4</td>\n",
              "      <td>Forrest Gump</td>\n",
              "      <td>Comedy Drama Romance</td>\n",
              "      <td>en</td>\n",
              "      <td>55000000</td>\n",
              "      <td>138.133331</td>\n",
              "      <td>06-07-1994</td>\n",
              "      <td>677945399</td>\n",
              "      <td>142.0</td>\n",
              "      <td>8.2</td>\n",
              "      <td>...</td>\n",
              "      <td>NaN</td>\n",
              "      <td>vietnam veteran hippie mentally disabled runni...</td>\n",
              "      <td>A man with a low IQ has accomplished great thi...</td>\n",
              "      <td>[{\"name\": \"Paramount Pictures\", \"id\": 4}]</td>\n",
              "      <td>[{\"iso_3166_1\": \"US\", \"name\": \"United States o...</td>\n",
              "      <td>[{\"iso_639_1\": \"en\", \"name\": \"English\"}]</td>\n",
              "      <td>The world will never be the same, once you've ...</td>\n",
              "      <td>Tom Hanks Robin Wright Gary Sinise Mykelti Wil...</td>\n",
              "      <td>[{'name': 'Alan Silvestri', 'gender': 2, 'depa...</td>\n",
              "      <td>Robert Zemeckis</td>\n",
              "    </tr>\n",
              "    <tr>\n",
              "      <th>4</th>\n",
              "      <td>5</td>\n",
              "      <td>American Beauty</td>\n",
              "      <td>Drama</td>\n",
              "      <td>en</td>\n",
              "      <td>15000000</td>\n",
              "      <td>80.878605</td>\n",
              "      <td>15-09-1999</td>\n",
              "      <td>356296601</td>\n",
              "      <td>122.0</td>\n",
              "      <td>7.9</td>\n",
              "      <td>...</td>\n",
              "      <td>http://www.dreamworks.com/ab/</td>\n",
              "      <td>male nudity female nudity adultery midlife cri...</td>\n",
              "      <td>Lester Burnham, a depressed suburban father in...</td>\n",
              "      <td>[{\"name\": \"DreamWorks SKG\", \"id\": 27}, {\"name\"...</td>\n",
              "      <td>[{\"iso_3166_1\": \"US\", \"name\": \"United States o...</td>\n",
              "      <td>[{\"iso_639_1\": \"en\", \"name\": \"English\"}]</td>\n",
              "      <td>Look closer.</td>\n",
              "      <td>Kevin Spacey Annette Bening Thora Birch Wes Be...</td>\n",
              "      <td>[{'name': 'Thomas Newman', 'gender': 2, 'depar...</td>\n",
              "      <td>Sam Mendes</td>\n",
              "    </tr>\n",
              "  </tbody>\n",
              "</table>\n",
              "<p>5 rows × 21 columns</p>\n",
              "</div>\n",
              "    <div class=\"colab-df-buttons\">\n",
              "\n",
              "  <div class=\"colab-df-container\">\n",
              "    <button class=\"colab-df-convert\" onclick=\"convertToInteractive('df-383545af-fe27-43dd-a5bd-61ba23f54c93')\"\n",
              "            title=\"Convert this dataframe to an interactive table.\"\n",
              "            style=\"display:none;\">\n",
              "\n",
              "  <svg xmlns=\"http://www.w3.org/2000/svg\" height=\"24px\" viewBox=\"0 -960 960 960\">\n",
              "    <path d=\"M120-120v-720h720v720H120Zm60-500h600v-160H180v160Zm220 220h160v-160H400v160Zm0 220h160v-160H400v160ZM180-400h160v-160H180v160Zm440 0h160v-160H620v160ZM180-180h160v-160H180v160Zm440 0h160v-160H620v160Z\"/>\n",
              "  </svg>\n",
              "    </button>\n",
              "\n",
              "  <style>\n",
              "    .colab-df-container {\n",
              "      display:flex;\n",
              "      gap: 12px;\n",
              "    }\n",
              "\n",
              "    .colab-df-convert {\n",
              "      background-color: #E8F0FE;\n",
              "      border: none;\n",
              "      border-radius: 50%;\n",
              "      cursor: pointer;\n",
              "      display: none;\n",
              "      fill: #1967D2;\n",
              "      height: 32px;\n",
              "      padding: 0 0 0 0;\n",
              "      width: 32px;\n",
              "    }\n",
              "\n",
              "    .colab-df-convert:hover {\n",
              "      background-color: #E2EBFA;\n",
              "      box-shadow: 0px 1px 2px rgba(60, 64, 67, 0.3), 0px 1px 3px 1px rgba(60, 64, 67, 0.15);\n",
              "      fill: #174EA6;\n",
              "    }\n",
              "\n",
              "    .colab-df-buttons div {\n",
              "      margin-bottom: 4px;\n",
              "    }\n",
              "\n",
              "    [theme=dark] .colab-df-convert {\n",
              "      background-color: #3B4455;\n",
              "      fill: #D2E3FC;\n",
              "    }\n",
              "\n",
              "    [theme=dark] .colab-df-convert:hover {\n",
              "      background-color: #434B5C;\n",
              "      box-shadow: 0px 1px 3px 1px rgba(0, 0, 0, 0.15);\n",
              "      filter: drop-shadow(0px 1px 2px rgba(0, 0, 0, 0.3));\n",
              "      fill: #FFFFFF;\n",
              "    }\n",
              "  </style>\n",
              "\n",
              "    <script>\n",
              "      const buttonEl =\n",
              "        document.querySelector('#df-383545af-fe27-43dd-a5bd-61ba23f54c93 button.colab-df-convert');\n",
              "      buttonEl.style.display =\n",
              "        google.colab.kernel.accessAllowed ? 'block' : 'none';\n",
              "\n",
              "      async function convertToInteractive(key) {\n",
              "        const element = document.querySelector('#df-383545af-fe27-43dd-a5bd-61ba23f54c93');\n",
              "        const dataTable =\n",
              "          await google.colab.kernel.invokeFunction('convertToInteractive',\n",
              "                                                    [key], {});\n",
              "        if (!dataTable) return;\n",
              "\n",
              "        const docLinkHtml = 'Like what you see? Visit the ' +\n",
              "          '<a target=\"_blank\" href=https://colab.research.google.com/notebooks/data_table.ipynb>data table notebook</a>'\n",
              "          + ' to learn more about interactive tables.';\n",
              "        element.innerHTML = '';\n",
              "        dataTable['output_type'] = 'display_data';\n",
              "        await google.colab.output.renderOutput(dataTable, element);\n",
              "        const docLink = document.createElement('div');\n",
              "        docLink.innerHTML = docLinkHtml;\n",
              "        element.appendChild(docLink);\n",
              "      }\n",
              "    </script>\n",
              "  </div>\n",
              "\n",
              "\n",
              "<div id=\"df-07f3a28e-c7dd-497d-a3b5-80def9cabcf6\">\n",
              "  <button class=\"colab-df-quickchart\" onclick=\"quickchart('df-07f3a28e-c7dd-497d-a3b5-80def9cabcf6')\"\n",
              "            title=\"Suggest charts\"\n",
              "            style=\"display:none;\">\n",
              "\n",
              "<svg xmlns=\"http://www.w3.org/2000/svg\" height=\"24px\"viewBox=\"0 0 24 24\"\n",
              "     width=\"24px\">\n",
              "    <g>\n",
              "        <path d=\"M19 3H5c-1.1 0-2 .9-2 2v14c0 1.1.9 2 2 2h14c1.1 0 2-.9 2-2V5c0-1.1-.9-2-2-2zM9 17H7v-7h2v7zm4 0h-2V7h2v10zm4 0h-2v-4h2v4z\"/>\n",
              "    </g>\n",
              "</svg>\n",
              "  </button>\n",
              "\n",
              "<style>\n",
              "  .colab-df-quickchart {\n",
              "      --bg-color: #E8F0FE;\n",
              "      --fill-color: #1967D2;\n",
              "      --hover-bg-color: #E2EBFA;\n",
              "      --hover-fill-color: #174EA6;\n",
              "      --disabled-fill-color: #AAA;\n",
              "      --disabled-bg-color: #DDD;\n",
              "  }\n",
              "\n",
              "  [theme=dark] .colab-df-quickchart {\n",
              "      --bg-color: #3B4455;\n",
              "      --fill-color: #D2E3FC;\n",
              "      --hover-bg-color: #434B5C;\n",
              "      --hover-fill-color: #FFFFFF;\n",
              "      --disabled-bg-color: #3B4455;\n",
              "      --disabled-fill-color: #666;\n",
              "  }\n",
              "\n",
              "  .colab-df-quickchart {\n",
              "    background-color: var(--bg-color);\n",
              "    border: none;\n",
              "    border-radius: 50%;\n",
              "    cursor: pointer;\n",
              "    display: none;\n",
              "    fill: var(--fill-color);\n",
              "    height: 32px;\n",
              "    padding: 0;\n",
              "    width: 32px;\n",
              "  }\n",
              "\n",
              "  .colab-df-quickchart:hover {\n",
              "    background-color: var(--hover-bg-color);\n",
              "    box-shadow: 0 1px 2px rgba(60, 64, 67, 0.3), 0 1px 3px 1px rgba(60, 64, 67, 0.15);\n",
              "    fill: var(--button-hover-fill-color);\n",
              "  }\n",
              "\n",
              "  .colab-df-quickchart-complete:disabled,\n",
              "  .colab-df-quickchart-complete:disabled:hover {\n",
              "    background-color: var(--disabled-bg-color);\n",
              "    fill: var(--disabled-fill-color);\n",
              "    box-shadow: none;\n",
              "  }\n",
              "\n",
              "  .colab-df-spinner {\n",
              "    border: 2px solid var(--fill-color);\n",
              "    border-color: transparent;\n",
              "    border-bottom-color: var(--fill-color);\n",
              "    animation:\n",
              "      spin 1s steps(1) infinite;\n",
              "  }\n",
              "\n",
              "  @keyframes spin {\n",
              "    0% {\n",
              "      border-color: transparent;\n",
              "      border-bottom-color: var(--fill-color);\n",
              "      border-left-color: var(--fill-color);\n",
              "    }\n",
              "    20% {\n",
              "      border-color: transparent;\n",
              "      border-left-color: var(--fill-color);\n",
              "      border-top-color: var(--fill-color);\n",
              "    }\n",
              "    30% {\n",
              "      border-color: transparent;\n",
              "      border-left-color: var(--fill-color);\n",
              "      border-top-color: var(--fill-color);\n",
              "      border-right-color: var(--fill-color);\n",
              "    }\n",
              "    40% {\n",
              "      border-color: transparent;\n",
              "      border-right-color: var(--fill-color);\n",
              "      border-top-color: var(--fill-color);\n",
              "    }\n",
              "    60% {\n",
              "      border-color: transparent;\n",
              "      border-right-color: var(--fill-color);\n",
              "    }\n",
              "    80% {\n",
              "      border-color: transparent;\n",
              "      border-right-color: var(--fill-color);\n",
              "      border-bottom-color: var(--fill-color);\n",
              "    }\n",
              "    90% {\n",
              "      border-color: transparent;\n",
              "      border-bottom-color: var(--fill-color);\n",
              "    }\n",
              "  }\n",
              "</style>\n",
              "\n",
              "  <script>\n",
              "    async function quickchart(key) {\n",
              "      const quickchartButtonEl =\n",
              "        document.querySelector('#' + key + ' button');\n",
              "      quickchartButtonEl.disabled = true;  // To prevent multiple clicks.\n",
              "      quickchartButtonEl.classList.add('colab-df-spinner');\n",
              "      try {\n",
              "        const charts = await google.colab.kernel.invokeFunction(\n",
              "            'suggestCharts', [key], {});\n",
              "      } catch (error) {\n",
              "        console.error('Error during call to suggestCharts:', error);\n",
              "      }\n",
              "      quickchartButtonEl.classList.remove('colab-df-spinner');\n",
              "      quickchartButtonEl.classList.add('colab-df-quickchart-complete');\n",
              "    }\n",
              "    (() => {\n",
              "      let quickchartButtonEl =\n",
              "        document.querySelector('#df-07f3a28e-c7dd-497d-a3b5-80def9cabcf6 button');\n",
              "      quickchartButtonEl.style.display =\n",
              "        google.colab.kernel.accessAllowed ? 'block' : 'none';\n",
              "    })();\n",
              "  </script>\n",
              "</div>\n",
              "\n",
              "    </div>\n",
              "  </div>\n"
            ],
            "application/vnd.google.colaboratory.intrinsic+json": {
              "type": "dataframe",
              "variable_name": "df"
            }
          },
          "metadata": {},
          "execution_count": 9
        }
      ]
    },
    {
      "cell_type": "code",
      "source": [
        "df.info()"
      ],
      "metadata": {
        "id": "7XZfWMkPKTyY",
        "colab": {
          "base_uri": "https://localhost:8080/"
        },
        "outputId": "afa4e236-8367-46b9-f18c-573c27da1962"
      },
      "execution_count": 10,
      "outputs": [
        {
          "output_type": "stream",
          "name": "stdout",
          "text": [
            "<class 'pandas.core.frame.DataFrame'>\n",
            "RangeIndex: 4760 entries, 0 to 4759\n",
            "Data columns (total 21 columns):\n",
            " #   Column                    Non-Null Count  Dtype  \n",
            "---  ------                    --------------  -----  \n",
            " 0   Movie_ID                  4760 non-null   int64  \n",
            " 1   Movie_Title               4760 non-null   object \n",
            " 2   Movie_Genre               4760 non-null   object \n",
            " 3   Movie_Language            4760 non-null   object \n",
            " 4   Movie_Budget              4760 non-null   int64  \n",
            " 5   Movie_Popularity          4760 non-null   float64\n",
            " 6   Movie_Release_Date        4760 non-null   object \n",
            " 7   Movie_Revenue             4760 non-null   int64  \n",
            " 8   Movie_Runtime             4758 non-null   float64\n",
            " 9   Movie_Vote                4760 non-null   float64\n",
            " 10  Movie_Vote_Count          4760 non-null   int64  \n",
            " 11  Movie_Homepage            1699 non-null   object \n",
            " 12  Movie_Keywords            4373 non-null   object \n",
            " 13  Movie_Overview            4757 non-null   object \n",
            " 14  Movie_Production_House    4760 non-null   object \n",
            " 15  Movie_Production_Country  4760 non-null   object \n",
            " 16  Movie_Spoken_Language     4760 non-null   object \n",
            " 17  Movie_Tagline             3942 non-null   object \n",
            " 18  Movie_Cast                4733 non-null   object \n",
            " 19  Movie_Crew                4760 non-null   object \n",
            " 20  Movie_Director            4738 non-null   object \n",
            "dtypes: float64(3), int64(4), object(14)\n",
            "memory usage: 781.1+ KB\n"
          ]
        }
      ]
    },
    {
      "cell_type": "code",
      "source": [
        "df.shape"
      ],
      "metadata": {
        "colab": {
          "base_uri": "https://localhost:8080/"
        },
        "id": "F8zVRuKb2fDZ",
        "outputId": "237ad008-9bff-4a78-dbbe-f9df31d70a15"
      },
      "execution_count": 11,
      "outputs": [
        {
          "output_type": "execute_result",
          "data": {
            "text/plain": [
              "(4760, 21)"
            ]
          },
          "metadata": {},
          "execution_count": 11
        }
      ]
    },
    {
      "cell_type": "code",
      "source": [
        "df.columns"
      ],
      "metadata": {
        "colab": {
          "base_uri": "https://localhost:8080/"
        },
        "id": "yLTihKS52hPM",
        "outputId": "47d80aac-ffb9-4b15-b770-82007b166f4f"
      },
      "execution_count": 12,
      "outputs": [
        {
          "output_type": "execute_result",
          "data": {
            "text/plain": [
              "Index(['Movie_ID', 'Movie_Title', 'Movie_Genre', 'Movie_Language',\n",
              "       'Movie_Budget', 'Movie_Popularity', 'Movie_Release_Date',\n",
              "       'Movie_Revenue', 'Movie_Runtime', 'Movie_Vote', 'Movie_Vote_Count',\n",
              "       'Movie_Homepage', 'Movie_Keywords', 'Movie_Overview',\n",
              "       'Movie_Production_House', 'Movie_Production_Country',\n",
              "       'Movie_Spoken_Language', 'Movie_Tagline', 'Movie_Cast', 'Movie_Crew',\n",
              "       'Movie_Director'],\n",
              "      dtype='object')"
            ]
          },
          "metadata": {},
          "execution_count": 12
        }
      ]
    },
    {
      "cell_type": "code",
      "source": [
        "# Select five features for movie recommendation\n",
        "df_feature = df[['Movie_Cast','Movie_Keywords','Movie_Genre','Movie_Spoken_Language','Movie_Director']].fillna('')"
      ],
      "metadata": {
        "id": "RKC_qaC56j32"
      },
      "execution_count": 17,
      "outputs": []
    },
    {
      "cell_type": "code",
      "source": [
        "df_feature.shape"
      ],
      "metadata": {
        "colab": {
          "base_uri": "https://localhost:8080/"
        },
        "id": "bs1ZvYAS7Ygr",
        "outputId": "4ca2d048-219b-45ca-c3b5-476a784f3512"
      },
      "execution_count": 18,
      "outputs": [
        {
          "output_type": "execute_result",
          "data": {
            "text/plain": [
              "(4760, 5)"
            ]
          },
          "metadata": {},
          "execution_count": 18
        }
      ]
    },
    {
      "cell_type": "code",
      "source": [
        "df_feature"
      ],
      "metadata": {
        "colab": {
          "base_uri": "https://localhost:8080/",
          "height": 423
        },
        "id": "RG9Bpmmr7ceZ",
        "outputId": "d78681d5-8436-4145-eac8-4f15e84b9072"
      },
      "execution_count": 19,
      "outputs": [
        {
          "output_type": "execute_result",
          "data": {
            "text/plain": [
              "                                             Movie_Cast  \\\n",
              "0     Tim Roth Antonio Banderas Jennifer Beals Madon...   \n",
              "1     Mark Hamill Harrison Ford Carrie Fisher Peter ...   \n",
              "2     Albert Brooks Ellen DeGeneres Alexander Gould ...   \n",
              "3     Tom Hanks Robin Wright Gary Sinise Mykelti Wil...   \n",
              "4     Kevin Spacey Annette Bening Thora Birch Wes Be...   \n",
              "...                                                 ...   \n",
              "4755  Lisa Hart Carroll Michael Des Barres Paul Drak...   \n",
              "4756  Roni Akurati Brighton Sharbino Jason Lee Anjul...   \n",
              "4757  Nicole Smolen Kim Baldwin Ariana Stephens Brys...   \n",
              "4758                                                      \n",
              "4759                                    Tony Oppedisano   \n",
              "\n",
              "                                         Movie_Keywords  \\\n",
              "0             hotel new year's eve witch bet hotel room   \n",
              "1           android galaxy hermit death star lightsaber   \n",
              "2     father son relationship harbor underwater fish...   \n",
              "3     vietnam veteran hippie mentally disabled runni...   \n",
              "4     male nudity female nudity adultery midlife cri...   \n",
              "...                                                 ...   \n",
              "4755                                                      \n",
              "4756                                                      \n",
              "4757                     christian film sex trafficking   \n",
              "4758                                                      \n",
              "4759  music actors legendary perfomer classic hollyw...   \n",
              "\n",
              "                           Movie_Genre  \\\n",
              "0                         Crime Comedy   \n",
              "1     Adventure Action Science Fiction   \n",
              "2                     Animation Family   \n",
              "3                 Comedy Drama Romance   \n",
              "4                                Drama   \n",
              "...                                ...   \n",
              "4755                            Horror   \n",
              "4756               Comedy Family Drama   \n",
              "4757                    Thriller Drama   \n",
              "4758                            Family   \n",
              "4759                       Documentary   \n",
              "\n",
              "                         Movie_Spoken_Language     Movie_Director  \n",
              "0     [{\"iso_639_1\": \"en\", \"name\": \"English\"}]     Allison Anders  \n",
              "1     [{\"iso_639_1\": \"en\", \"name\": \"English\"}]       George Lucas  \n",
              "2     [{\"iso_639_1\": \"en\", \"name\": \"English\"}]     Andrew Stanton  \n",
              "3     [{\"iso_639_1\": \"en\", \"name\": \"English\"}]    Robert Zemeckis  \n",
              "4     [{\"iso_639_1\": \"en\", \"name\": \"English\"}]         Sam Mendes  \n",
              "...                                        ...                ...  \n",
              "4755  [{\"iso_639_1\": \"en\", \"name\": \"English\"}]         Pece Dingo  \n",
              "4756  [{\"iso_639_1\": \"en\", \"name\": \"English\"}]       Frank Lotito  \n",
              "4757  [{\"iso_639_1\": \"en\", \"name\": \"English\"}]       Jaco Booyens  \n",
              "4758                                        []                     \n",
              "4759                                        []  Simon Napier-Bell  \n",
              "\n",
              "[4760 rows x 5 columns]"
            ],
            "text/html": [
              "\n",
              "  <div id=\"df-caa68039-f15b-4160-bab6-d7adb4d24138\" class=\"colab-df-container\">\n",
              "    <div>\n",
              "<style scoped>\n",
              "    .dataframe tbody tr th:only-of-type {\n",
              "        vertical-align: middle;\n",
              "    }\n",
              "\n",
              "    .dataframe tbody tr th {\n",
              "        vertical-align: top;\n",
              "    }\n",
              "\n",
              "    .dataframe thead th {\n",
              "        text-align: right;\n",
              "    }\n",
              "</style>\n",
              "<table border=\"1\" class=\"dataframe\">\n",
              "  <thead>\n",
              "    <tr style=\"text-align: right;\">\n",
              "      <th></th>\n",
              "      <th>Movie_Cast</th>\n",
              "      <th>Movie_Keywords</th>\n",
              "      <th>Movie_Genre</th>\n",
              "      <th>Movie_Spoken_Language</th>\n",
              "      <th>Movie_Director</th>\n",
              "    </tr>\n",
              "  </thead>\n",
              "  <tbody>\n",
              "    <tr>\n",
              "      <th>0</th>\n",
              "      <td>Tim Roth Antonio Banderas Jennifer Beals Madon...</td>\n",
              "      <td>hotel new year's eve witch bet hotel room</td>\n",
              "      <td>Crime Comedy</td>\n",
              "      <td>[{\"iso_639_1\": \"en\", \"name\": \"English\"}]</td>\n",
              "      <td>Allison Anders</td>\n",
              "    </tr>\n",
              "    <tr>\n",
              "      <th>1</th>\n",
              "      <td>Mark Hamill Harrison Ford Carrie Fisher Peter ...</td>\n",
              "      <td>android galaxy hermit death star lightsaber</td>\n",
              "      <td>Adventure Action Science Fiction</td>\n",
              "      <td>[{\"iso_639_1\": \"en\", \"name\": \"English\"}]</td>\n",
              "      <td>George Lucas</td>\n",
              "    </tr>\n",
              "    <tr>\n",
              "      <th>2</th>\n",
              "      <td>Albert Brooks Ellen DeGeneres Alexander Gould ...</td>\n",
              "      <td>father son relationship harbor underwater fish...</td>\n",
              "      <td>Animation Family</td>\n",
              "      <td>[{\"iso_639_1\": \"en\", \"name\": \"English\"}]</td>\n",
              "      <td>Andrew Stanton</td>\n",
              "    </tr>\n",
              "    <tr>\n",
              "      <th>3</th>\n",
              "      <td>Tom Hanks Robin Wright Gary Sinise Mykelti Wil...</td>\n",
              "      <td>vietnam veteran hippie mentally disabled runni...</td>\n",
              "      <td>Comedy Drama Romance</td>\n",
              "      <td>[{\"iso_639_1\": \"en\", \"name\": \"English\"}]</td>\n",
              "      <td>Robert Zemeckis</td>\n",
              "    </tr>\n",
              "    <tr>\n",
              "      <th>4</th>\n",
              "      <td>Kevin Spacey Annette Bening Thora Birch Wes Be...</td>\n",
              "      <td>male nudity female nudity adultery midlife cri...</td>\n",
              "      <td>Drama</td>\n",
              "      <td>[{\"iso_639_1\": \"en\", \"name\": \"English\"}]</td>\n",
              "      <td>Sam Mendes</td>\n",
              "    </tr>\n",
              "    <tr>\n",
              "      <th>...</th>\n",
              "      <td>...</td>\n",
              "      <td>...</td>\n",
              "      <td>...</td>\n",
              "      <td>...</td>\n",
              "      <td>...</td>\n",
              "    </tr>\n",
              "    <tr>\n",
              "      <th>4755</th>\n",
              "      <td>Lisa Hart Carroll Michael Des Barres Paul Drak...</td>\n",
              "      <td></td>\n",
              "      <td>Horror</td>\n",
              "      <td>[{\"iso_639_1\": \"en\", \"name\": \"English\"}]</td>\n",
              "      <td>Pece Dingo</td>\n",
              "    </tr>\n",
              "    <tr>\n",
              "      <th>4756</th>\n",
              "      <td>Roni Akurati Brighton Sharbino Jason Lee Anjul...</td>\n",
              "      <td></td>\n",
              "      <td>Comedy Family Drama</td>\n",
              "      <td>[{\"iso_639_1\": \"en\", \"name\": \"English\"}]</td>\n",
              "      <td>Frank Lotito</td>\n",
              "    </tr>\n",
              "    <tr>\n",
              "      <th>4757</th>\n",
              "      <td>Nicole Smolen Kim Baldwin Ariana Stephens Brys...</td>\n",
              "      <td>christian film sex trafficking</td>\n",
              "      <td>Thriller Drama</td>\n",
              "      <td>[{\"iso_639_1\": \"en\", \"name\": \"English\"}]</td>\n",
              "      <td>Jaco Booyens</td>\n",
              "    </tr>\n",
              "    <tr>\n",
              "      <th>4758</th>\n",
              "      <td></td>\n",
              "      <td></td>\n",
              "      <td>Family</td>\n",
              "      <td>[]</td>\n",
              "      <td></td>\n",
              "    </tr>\n",
              "    <tr>\n",
              "      <th>4759</th>\n",
              "      <td>Tony Oppedisano</td>\n",
              "      <td>music actors legendary perfomer classic hollyw...</td>\n",
              "      <td>Documentary</td>\n",
              "      <td>[]</td>\n",
              "      <td>Simon Napier-Bell</td>\n",
              "    </tr>\n",
              "  </tbody>\n",
              "</table>\n",
              "<p>4760 rows × 5 columns</p>\n",
              "</div>\n",
              "    <div class=\"colab-df-buttons\">\n",
              "\n",
              "  <div class=\"colab-df-container\">\n",
              "    <button class=\"colab-df-convert\" onclick=\"convertToInteractive('df-caa68039-f15b-4160-bab6-d7adb4d24138')\"\n",
              "            title=\"Convert this dataframe to an interactive table.\"\n",
              "            style=\"display:none;\">\n",
              "\n",
              "  <svg xmlns=\"http://www.w3.org/2000/svg\" height=\"24px\" viewBox=\"0 -960 960 960\">\n",
              "    <path d=\"M120-120v-720h720v720H120Zm60-500h600v-160H180v160Zm220 220h160v-160H400v160Zm0 220h160v-160H400v160ZM180-400h160v-160H180v160Zm440 0h160v-160H620v160ZM180-180h160v-160H180v160Zm440 0h160v-160H620v160Z\"/>\n",
              "  </svg>\n",
              "    </button>\n",
              "\n",
              "  <style>\n",
              "    .colab-df-container {\n",
              "      display:flex;\n",
              "      gap: 12px;\n",
              "    }\n",
              "\n",
              "    .colab-df-convert {\n",
              "      background-color: #E8F0FE;\n",
              "      border: none;\n",
              "      border-radius: 50%;\n",
              "      cursor: pointer;\n",
              "      display: none;\n",
              "      fill: #1967D2;\n",
              "      height: 32px;\n",
              "      padding: 0 0 0 0;\n",
              "      width: 32px;\n",
              "    }\n",
              "\n",
              "    .colab-df-convert:hover {\n",
              "      background-color: #E2EBFA;\n",
              "      box-shadow: 0px 1px 2px rgba(60, 64, 67, 0.3), 0px 1px 3px 1px rgba(60, 64, 67, 0.15);\n",
              "      fill: #174EA6;\n",
              "    }\n",
              "\n",
              "    .colab-df-buttons div {\n",
              "      margin-bottom: 4px;\n",
              "    }\n",
              "\n",
              "    [theme=dark] .colab-df-convert {\n",
              "      background-color: #3B4455;\n",
              "      fill: #D2E3FC;\n",
              "    }\n",
              "\n",
              "    [theme=dark] .colab-df-convert:hover {\n",
              "      background-color: #434B5C;\n",
              "      box-shadow: 0px 1px 3px 1px rgba(0, 0, 0, 0.15);\n",
              "      filter: drop-shadow(0px 1px 2px rgba(0, 0, 0, 0.3));\n",
              "      fill: #FFFFFF;\n",
              "    }\n",
              "  </style>\n",
              "\n",
              "    <script>\n",
              "      const buttonEl =\n",
              "        document.querySelector('#df-caa68039-f15b-4160-bab6-d7adb4d24138 button.colab-df-convert');\n",
              "      buttonEl.style.display =\n",
              "        google.colab.kernel.accessAllowed ? 'block' : 'none';\n",
              "\n",
              "      async function convertToInteractive(key) {\n",
              "        const element = document.querySelector('#df-caa68039-f15b-4160-bab6-d7adb4d24138');\n",
              "        const dataTable =\n",
              "          await google.colab.kernel.invokeFunction('convertToInteractive',\n",
              "                                                    [key], {});\n",
              "        if (!dataTable) return;\n",
              "\n",
              "        const docLinkHtml = 'Like what you see? Visit the ' +\n",
              "          '<a target=\"_blank\" href=https://colab.research.google.com/notebooks/data_table.ipynb>data table notebook</a>'\n",
              "          + ' to learn more about interactive tables.';\n",
              "        element.innerHTML = '';\n",
              "        dataTable['output_type'] = 'display_data';\n",
              "        await google.colab.output.renderOutput(dataTable, element);\n",
              "        const docLink = document.createElement('div');\n",
              "        docLink.innerHTML = docLinkHtml;\n",
              "        element.appendChild(docLink);\n",
              "      }\n",
              "    </script>\n",
              "  </div>\n",
              "\n",
              "\n",
              "<div id=\"df-9189f888-eff9-4e7b-a70b-f7d7ca7d9dc1\">\n",
              "  <button class=\"colab-df-quickchart\" onclick=\"quickchart('df-9189f888-eff9-4e7b-a70b-f7d7ca7d9dc1')\"\n",
              "            title=\"Suggest charts\"\n",
              "            style=\"display:none;\">\n",
              "\n",
              "<svg xmlns=\"http://www.w3.org/2000/svg\" height=\"24px\"viewBox=\"0 0 24 24\"\n",
              "     width=\"24px\">\n",
              "    <g>\n",
              "        <path d=\"M19 3H5c-1.1 0-2 .9-2 2v14c0 1.1.9 2 2 2h14c1.1 0 2-.9 2-2V5c0-1.1-.9-2-2-2zM9 17H7v-7h2v7zm4 0h-2V7h2v10zm4 0h-2v-4h2v4z\"/>\n",
              "    </g>\n",
              "</svg>\n",
              "  </button>\n",
              "\n",
              "<style>\n",
              "  .colab-df-quickchart {\n",
              "      --bg-color: #E8F0FE;\n",
              "      --fill-color: #1967D2;\n",
              "      --hover-bg-color: #E2EBFA;\n",
              "      --hover-fill-color: #174EA6;\n",
              "      --disabled-fill-color: #AAA;\n",
              "      --disabled-bg-color: #DDD;\n",
              "  }\n",
              "\n",
              "  [theme=dark] .colab-df-quickchart {\n",
              "      --bg-color: #3B4455;\n",
              "      --fill-color: #D2E3FC;\n",
              "      --hover-bg-color: #434B5C;\n",
              "      --hover-fill-color: #FFFFFF;\n",
              "      --disabled-bg-color: #3B4455;\n",
              "      --disabled-fill-color: #666;\n",
              "  }\n",
              "\n",
              "  .colab-df-quickchart {\n",
              "    background-color: var(--bg-color);\n",
              "    border: none;\n",
              "    border-radius: 50%;\n",
              "    cursor: pointer;\n",
              "    display: none;\n",
              "    fill: var(--fill-color);\n",
              "    height: 32px;\n",
              "    padding: 0;\n",
              "    width: 32px;\n",
              "  }\n",
              "\n",
              "  .colab-df-quickchart:hover {\n",
              "    background-color: var(--hover-bg-color);\n",
              "    box-shadow: 0 1px 2px rgba(60, 64, 67, 0.3), 0 1px 3px 1px rgba(60, 64, 67, 0.15);\n",
              "    fill: var(--button-hover-fill-color);\n",
              "  }\n",
              "\n",
              "  .colab-df-quickchart-complete:disabled,\n",
              "  .colab-df-quickchart-complete:disabled:hover {\n",
              "    background-color: var(--disabled-bg-color);\n",
              "    fill: var(--disabled-fill-color);\n",
              "    box-shadow: none;\n",
              "  }\n",
              "\n",
              "  .colab-df-spinner {\n",
              "    border: 2px solid var(--fill-color);\n",
              "    border-color: transparent;\n",
              "    border-bottom-color: var(--fill-color);\n",
              "    animation:\n",
              "      spin 1s steps(1) infinite;\n",
              "  }\n",
              "\n",
              "  @keyframes spin {\n",
              "    0% {\n",
              "      border-color: transparent;\n",
              "      border-bottom-color: var(--fill-color);\n",
              "      border-left-color: var(--fill-color);\n",
              "    }\n",
              "    20% {\n",
              "      border-color: transparent;\n",
              "      border-left-color: var(--fill-color);\n",
              "      border-top-color: var(--fill-color);\n",
              "    }\n",
              "    30% {\n",
              "      border-color: transparent;\n",
              "      border-left-color: var(--fill-color);\n",
              "      border-top-color: var(--fill-color);\n",
              "      border-right-color: var(--fill-color);\n",
              "    }\n",
              "    40% {\n",
              "      border-color: transparent;\n",
              "      border-right-color: var(--fill-color);\n",
              "      border-top-color: var(--fill-color);\n",
              "    }\n",
              "    60% {\n",
              "      border-color: transparent;\n",
              "      border-right-color: var(--fill-color);\n",
              "    }\n",
              "    80% {\n",
              "      border-color: transparent;\n",
              "      border-right-color: var(--fill-color);\n",
              "      border-bottom-color: var(--fill-color);\n",
              "    }\n",
              "    90% {\n",
              "      border-color: transparent;\n",
              "      border-bottom-color: var(--fill-color);\n",
              "    }\n",
              "  }\n",
              "</style>\n",
              "\n",
              "  <script>\n",
              "    async function quickchart(key) {\n",
              "      const quickchartButtonEl =\n",
              "        document.querySelector('#' + key + ' button');\n",
              "      quickchartButtonEl.disabled = true;  // To prevent multiple clicks.\n",
              "      quickchartButtonEl.classList.add('colab-df-spinner');\n",
              "      try {\n",
              "        const charts = await google.colab.kernel.invokeFunction(\n",
              "            'suggestCharts', [key], {});\n",
              "      } catch (error) {\n",
              "        console.error('Error during call to suggestCharts:', error);\n",
              "      }\n",
              "      quickchartButtonEl.classList.remove('colab-df-spinner');\n",
              "      quickchartButtonEl.classList.add('colab-df-quickchart-complete');\n",
              "    }\n",
              "    (() => {\n",
              "      let quickchartButtonEl =\n",
              "        document.querySelector('#df-9189f888-eff9-4e7b-a70b-f7d7ca7d9dc1 button');\n",
              "      quickchartButtonEl.style.display =\n",
              "        google.colab.kernel.accessAllowed ? 'block' : 'none';\n",
              "    })();\n",
              "  </script>\n",
              "</div>\n",
              "\n",
              "  <div id=\"id_eba4085a-b120-427b-b139-e71575da6119\">\n",
              "    <style>\n",
              "      .colab-df-generate {\n",
              "        background-color: #E8F0FE;\n",
              "        border: none;\n",
              "        border-radius: 50%;\n",
              "        cursor: pointer;\n",
              "        display: none;\n",
              "        fill: #1967D2;\n",
              "        height: 32px;\n",
              "        padding: 0 0 0 0;\n",
              "        width: 32px;\n",
              "      }\n",
              "\n",
              "      .colab-df-generate:hover {\n",
              "        background-color: #E2EBFA;\n",
              "        box-shadow: 0px 1px 2px rgba(60, 64, 67, 0.3), 0px 1px 3px 1px rgba(60, 64, 67, 0.15);\n",
              "        fill: #174EA6;\n",
              "      }\n",
              "\n",
              "      [theme=dark] .colab-df-generate {\n",
              "        background-color: #3B4455;\n",
              "        fill: #D2E3FC;\n",
              "      }\n",
              "\n",
              "      [theme=dark] .colab-df-generate:hover {\n",
              "        background-color: #434B5C;\n",
              "        box-shadow: 0px 1px 3px 1px rgba(0, 0, 0, 0.15);\n",
              "        filter: drop-shadow(0px 1px 2px rgba(0, 0, 0, 0.3));\n",
              "        fill: #FFFFFF;\n",
              "      }\n",
              "    </style>\n",
              "    <button class=\"colab-df-generate\" onclick=\"generateWithVariable('df_feature')\"\n",
              "            title=\"Generate code using this dataframe.\"\n",
              "            style=\"display:none;\">\n",
              "\n",
              "  <svg xmlns=\"http://www.w3.org/2000/svg\" height=\"24px\"viewBox=\"0 0 24 24\"\n",
              "       width=\"24px\">\n",
              "    <path d=\"M7,19H8.4L18.45,9,17,7.55,7,17.6ZM5,21V16.75L18.45,3.32a2,2,0,0,1,2.83,0l1.4,1.43a1.91,1.91,0,0,1,.58,1.4,1.91,1.91,0,0,1-.58,1.4L9.25,21ZM18.45,9,17,7.55Zm-12,3A5.31,5.31,0,0,0,4.9,8.1,5.31,5.31,0,0,0,1,6.5,5.31,5.31,0,0,0,4.9,4.9,5.31,5.31,0,0,0,6.5,1,5.31,5.31,0,0,0,8.1,4.9,5.31,5.31,0,0,0,12,6.5,5.46,5.46,0,0,0,6.5,12Z\"/>\n",
              "  </svg>\n",
              "    </button>\n",
              "    <script>\n",
              "      (() => {\n",
              "      const buttonEl =\n",
              "        document.querySelector('#id_eba4085a-b120-427b-b139-e71575da6119 button.colab-df-generate');\n",
              "      buttonEl.style.display =\n",
              "        google.colab.kernel.accessAllowed ? 'block' : 'none';\n",
              "\n",
              "      buttonEl.onclick = () => {\n",
              "        google.colab.notebook.generateWithVariable('df_feature');\n",
              "      }\n",
              "      })();\n",
              "    </script>\n",
              "  </div>\n",
              "\n",
              "    </div>\n",
              "  </div>\n"
            ],
            "application/vnd.google.colaboratory.intrinsic+json": {
              "type": "dataframe",
              "variable_name": "df_feature",
              "summary": "{\n  \"name\": \"df_feature\",\n  \"rows\": 4760,\n  \"fields\": [\n    {\n      \"column\": \"Movie_Cast\",\n      \"properties\": {\n        \"dtype\": \"string\",\n        \"num_unique_values\": 4715,\n        \"samples\": [\n          \"Robin Tunney Fairuza Balk Neve Campbell Rachel True Skeet Ulrich\",\n          \"Peter Sellers Christopher Plummer Herbert Lom Catherine Schell Peter Arne\",\n          \"John Wayne Laraine Day Cedric Hardwicke Judith Anderson Anthony Quinn\"\n        ],\n        \"semantic_type\": \"\",\n        \"description\": \"\"\n      }\n    },\n    {\n      \"column\": \"Movie_Keywords\",\n      \"properties\": {\n        \"dtype\": \"string\",\n        \"num_unique_values\": 4203,\n        \"samples\": [\n          \"canada nazis sequel spin off ancient evil\",\n          \"sex professor wedding woman director columbia university\",\n          \"prophecy sea beach gold small town\"\n        ],\n        \"semantic_type\": \"\",\n        \"description\": \"\"\n      }\n    },\n    {\n      \"column\": \"Movie_Genre\",\n      \"properties\": {\n        \"dtype\": \"category\",\n        \"num_unique_values\": 1164,\n        \"samples\": [\n          \"Family Animation Adventure\",\n          \"Adventure Science Fiction Action\",\n          \"Action Crime Drama Romance Thriller\"\n        ],\n        \"semantic_type\": \"\",\n        \"description\": \"\"\n      }\n    },\n    {\n      \"column\": \"Movie_Spoken_Language\",\n      \"properties\": {\n        \"dtype\": \"category\",\n        \"num_unique_values\": 541,\n        \"samples\": [\n          \"[{\\\"iso_639_1\\\": \\\"en\\\", \\\"name\\\": \\\"English\\\"}, {\\\"iso_639_1\\\": \\\"fr\\\", \\\"name\\\": \\\"Fran\\\\u00e7ais\\\"}, {\\\"iso_639_1\\\": \\\"zh\\\", \\\"name\\\": \\\"\\\\u666e\\\\u901a\\\\u8bdd\\\"}, {\\\"iso_639_1\\\": \\\"ru\\\", \\\"name\\\": \\\"P\\\\u0443\\\\u0441\\\\u0441\\\\u043a\\\\u0438\\\\u0439\\\"}, {\\\"iso_639_1\\\": \\\"es\\\", \\\"name\\\": \\\"Espa\\\\u00f1ol\\\"}]\",\n          \"[{\\\"iso_639_1\\\": \\\"sq\\\", \\\"name\\\": \\\"shqip\\\"}, {\\\"iso_639_1\\\": \\\"en\\\", \\\"name\\\": \\\"English\\\"}]\",\n          \"[{\\\"iso_639_1\\\": \\\"fr\\\", \\\"name\\\": \\\"Fran\\\\u00e7ais\\\"}, {\\\"iso_639_1\\\": \\\"hi\\\", \\\"name\\\": \\\"\\\\u0939\\\\u093f\\\\u0928\\\\u094d\\\\u0926\\\\u0940\\\"}, {\\\"iso_639_1\\\": \\\"en\\\", \\\"name\\\": \\\"English\\\"}]\"\n        ],\n        \"semantic_type\": \"\",\n        \"description\": \"\"\n      }\n    },\n    {\n      \"column\": \"Movie_Director\",\n      \"properties\": {\n        \"dtype\": \"category\",\n        \"num_unique_values\": 2332,\n        \"samples\": [\n          \"Rob McKittrick\",\n          \"Terron R. Parsons\",\n          \"Cyrus Nowrasteh\"\n        ],\n        \"semantic_type\": \"\",\n        \"description\": \"\"\n      }\n    }\n  ]\n}"
            }
          },
          "metadata": {},
          "execution_count": 19
        }
      ]
    },
    {
      "cell_type": "code",
      "source": [
        "X = df_feature['Movie_Cast']+''+df_feature['Movie_Genre']+''+df_feature['Movie_Spoken_Language']+''+df_feature['Movie_Keywords']+''+df_feature['Movie_Director']"
      ],
      "metadata": {
        "id": "kbEEqWXYjW9X"
      },
      "execution_count": 20,
      "outputs": []
    },
    {
      "cell_type": "code",
      "source": [
        "X.shape"
      ],
      "metadata": {
        "colab": {
          "base_uri": "https://localhost:8080/"
        },
        "id": "G71FY72wmMgv",
        "outputId": "9c3d7951-e21a-489c-ee4d-50708251d1a5"
      },
      "execution_count": 21,
      "outputs": [
        {
          "output_type": "execute_result",
          "data": {
            "text/plain": [
              "(4760,)"
            ]
          },
          "metadata": {},
          "execution_count": 21
        }
      ]
    },
    {
      "cell_type": "code",
      "source": [
        "from sklearn.feature_extraction.text import TfidfVectorizer"
      ],
      "metadata": {
        "id": "16jqsunsmRHI"
      },
      "execution_count": 22,
      "outputs": []
    },
    {
      "cell_type": "code",
      "source": [
        "tfidf = TfidfVectorizer()"
      ],
      "metadata": {
        "id": "wWUQ6EIumcx0"
      },
      "execution_count": 23,
      "outputs": []
    },
    {
      "cell_type": "code",
      "source": [
        "x = tfidf.fit_transform(X)"
      ],
      "metadata": {
        "id": "C2Gs8Z5YmmTW"
      },
      "execution_count": 24,
      "outputs": []
    },
    {
      "cell_type": "code",
      "source": [
        "x.shape"
      ],
      "metadata": {
        "colab": {
          "base_uri": "https://localhost:8080/"
        },
        "id": "s__TXeKqmwbm",
        "outputId": "284f332d-aab0-4774-f988-4ec7a3b7fcb3"
      },
      "execution_count": 25,
      "outputs": [
        {
          "output_type": "execute_result",
          "data": {
            "text/plain": [
              "(4760, 21505)"
            ]
          },
          "metadata": {},
          "execution_count": 25
        }
      ]
    },
    {
      "cell_type": "code",
      "source": [
        "print(x)"
      ],
      "metadata": {
        "colab": {
          "base_uri": "https://localhost:8080/"
        },
        "id": "aN9e9npHnSzB",
        "outputId": "35417ab2-36fe-4a0a-f337-32deb6a83f98"
      },
      "execution_count": 26,
      "outputs": [
        {
          "output_type": "stream",
          "name": "stdout",
          "text": [
            "  (0, 669)\t0.24649875710984795\n",
            "  (0, 16380)\t0.2974895147457546\n",
            "  (0, 1868)\t0.25049180044501707\n",
            "  (0, 21012)\t0.19269796816755902\n",
            "  (0, 6321)\t0.23151988246193833\n",
            "  (0, 21263)\t0.24292685813056858\n",
            "  (0, 13749)\t0.14346416764078218\n",
            "  (0, 9107)\t0.3809237638830394\n",
            "  (0, 6153)\t0.03607778350280176\n",
            "  (0, 13588)\t0.03437493922986536\n",
            "  (0, 6135)\t0.03607778350280176\n",
            "  (0, 9662)\t0.03437493922986536\n",
            "  (0, 3916)\t0.09784663109869064\n",
            "  (0, 19205)\t0.2974895147457546\n",
            "  (0, 12187)\t0.21468983567989688\n",
            "  (0, 11911)\t0.25049180044501707\n",
            "  (0, 1644)\t0.2739906575953858\n",
            "  (0, 9886)\t0.14851028517320383\n",
            "  (0, 1406)\t0.21468983567989688\n",
            "  (0, 821)\t0.20349408614427955\n",
            "  (0, 16432)\t0.21777393221916938\n",
            "  (0, 19137)\t0.16919911101719026\n",
            "  (1, 11716)\t0.19852941681467928\n",
            "  (1, 11397)\t0.3027310858973207\n",
            "  (1, 18132)\t0.20707951917159056\n",
            "  :\t:\n",
            "  (4757, 18213)\t0.2985299288968976\n",
            "  (4757, 1365)\t0.22571212153255846\n",
            "  (4757, 17200)\t0.17780574830603413\n",
            "  (4757, 13807)\t0.21679131064748644\n",
            "  (4757, 6780)\t0.16687761923037894\n",
            "  (4757, 3582)\t0.19774168578163542\n",
            "  (4757, 10572)\t0.20675703050277594\n",
            "  (4757, 5556)\t0.09347085701656282\n",
            "  (4757, 6153)\t0.04042514489448641\n",
            "  (4757, 13588)\t0.038517108430415545\n",
            "  (4757, 6135)\t0.04042514489448641\n",
            "  (4757, 9662)\t0.038517108430415545\n",
            "  (4758, 6484)\t1.0\n",
            "  (4759, 17578)\t0.33503397482015\n",
            "  (4759, 14714)\t0.33503397482015\n",
            "  (4759, 11197)\t0.33503397482015\n",
            "  (4759, 148)\t0.33503397482015\n",
            "  (4759, 14192)\t0.33503397482015\n",
            "  (4759, 8983)\t0.28210494623541194\n",
            "  (4759, 3706)\t0.31955322635931505\n",
            "  (4759, 13598)\t0.30856946052778095\n",
            "  (4759, 7149)\t0.21449899305906253\n",
            "  (4759, 19221)\t0.20780966177686597\n",
            "  (4759, 1748)\t0.21449899305906253\n",
            "  (4759, 13478)\t0.16323023576837326\n"
          ]
        }
      ]
    },
    {
      "cell_type": "markdown",
      "source": [
        "Get similarity score using cosine_similarity"
      ],
      "metadata": {
        "id": "0MoKsXKprtX-"
      }
    },
    {
      "cell_type": "code",
      "source": [
        "from sklearn.metrics.pairwise import cosine_similarity"
      ],
      "metadata": {
        "id": "pFiN8FUDrB7F"
      },
      "execution_count": 27,
      "outputs": []
    },
    {
      "cell_type": "code",
      "source": [
        "similarity_score = cosine_similarity(x)"
      ],
      "metadata": {
        "id": "4lOdUmjHrNs9"
      },
      "execution_count": 28,
      "outputs": []
    },
    {
      "cell_type": "code",
      "source": [
        "similarity_score"
      ],
      "metadata": {
        "colab": {
          "base_uri": "https://localhost:8080/"
        },
        "id": "V32aYzV6rawO",
        "outputId": "180847d9-1684-4a26-bb7c-d049a314ccfd"
      },
      "execution_count": 29,
      "outputs": [
        {
          "output_type": "execute_result",
          "data": {
            "text/plain": [
              "array([[1.        , 0.00505399, 0.00458708, ..., 0.00556495, 0.        ,\n",
              "        0.        ],\n",
              "       [0.00505399, 1.        , 0.0046679 , ..., 0.005663  , 0.        ,\n",
              "        0.        ],\n",
              "       [0.00458708, 0.0046679 , 1.        , ..., 0.00513982, 0.09987509,\n",
              "        0.        ],\n",
              "       ...,\n",
              "       [0.00556495, 0.005663  , 0.00513982, ..., 1.        , 0.        ,\n",
              "        0.        ],\n",
              "       [0.        , 0.        , 0.09987509, ..., 0.        , 1.        ,\n",
              "        0.        ],\n",
              "       [0.        , 0.        , 0.        , ..., 0.        , 0.        ,\n",
              "        1.        ]])"
            ]
          },
          "metadata": {},
          "execution_count": 29
        }
      ]
    },
    {
      "cell_type": "code",
      "source": [
        "similarity_score.shape"
      ],
      "metadata": {
        "colab": {
          "base_uri": "https://localhost:8080/"
        },
        "id": "ggADTnJkreX8",
        "outputId": "134437a8-7d4b-428e-9b69-74b1de2fd61c"
      },
      "execution_count": 30,
      "outputs": [
        {
          "output_type": "execute_result",
          "data": {
            "text/plain": [
              "(4760, 4760)"
            ]
          },
          "metadata": {},
          "execution_count": 30
        }
      ]
    },
    {
      "cell_type": "markdown",
      "source": [
        "Get movie name as input from the user"
      ],
      "metadata": {
        "id": "Qepv58uhr0dq"
      }
    },
    {
      "cell_type": "code",
      "source": [
        "movie_name = input(\"Enter the movie name : \")"
      ],
      "metadata": {
        "colab": {
          "base_uri": "https://localhost:8080/"
        },
        "id": "kXfjtdfYr5Qr",
        "outputId": "9cedadda-be9b-4828-b338-3a90cbd5d983"
      },
      "execution_count": 31,
      "outputs": [
        {
          "name": "stdout",
          "output_type": "stream",
          "text": [
            "Enter the movie name : avtaar\n"
          ]
        }
      ]
    },
    {
      "cell_type": "code",
      "source": [
        "movie_list = df['Movie_Title'].tolist()"
      ],
      "metadata": {
        "id": "kQLxG1mHtjQ5"
      },
      "execution_count": 32,
      "outputs": []
    },
    {
      "cell_type": "code",
      "source": [
        "import difflib"
      ],
      "metadata": {
        "id": "khiEUYxhttVI"
      },
      "execution_count": 33,
      "outputs": []
    },
    {
      "cell_type": "code",
      "source": [
        "movie_recommendation = difflib.get_close_matches(movie_name,movie_list)\n",
        "print(movie_recommendation)"
      ],
      "metadata": {
        "colab": {
          "base_uri": "https://localhost:8080/"
        },
        "id": "7-QJ4r2WtytI",
        "outputId": "68853593-1af7-440d-87a9-c887bd772927"
      },
      "execution_count": 35,
      "outputs": [
        {
          "output_type": "stream",
          "name": "stdout",
          "text": [
            "['Avatar', 'Gattaca']\n"
          ]
        }
      ]
    },
    {
      "cell_type": "code",
      "source": [
        "close_match = movie_recommendation[0]\n",
        "print(close_match)"
      ],
      "metadata": {
        "colab": {
          "base_uri": "https://localhost:8080/"
        },
        "id": "3pXJW2f_uH99",
        "outputId": "49bca343-bce6-4c24-a0b9-e46c6bc59346"
      },
      "execution_count": 37,
      "outputs": [
        {
          "output_type": "stream",
          "name": "stdout",
          "text": [
            "Avatar\n"
          ]
        }
      ]
    },
    {
      "cell_type": "code",
      "source": [
        "movie_index = df[df.Movie_Title == close_match]['Movie_ID'].values[0]\n",
        "print(movie_index)"
      ],
      "metadata": {
        "colab": {
          "base_uri": "https://localhost:8080/"
        },
        "id": "ekxJ5E52uTkK",
        "outputId": "c9d8a136-7aa2-4abd-94d1-f9d739b018a2"
      },
      "execution_count": 39,
      "outputs": [
        {
          "output_type": "stream",
          "name": "stdout",
          "text": [
            "2692\n"
          ]
        }
      ]
    },
    {
      "cell_type": "code",
      "source": [
        "# Get a list of similar movies\n",
        "\n",
        "recommendation_score = list(enumerate(similarity_score[movie_index]))\n",
        "print(recommendation_score)"
      ],
      "metadata": {
        "colab": {
          "base_uri": "https://localhost:8080/"
        },
        "id": "f0yiQlHMu6O1",
        "outputId": "aec16484-6e15-4ae8-d35c-1b414fdc8955"
      },
      "execution_count": 40,
      "outputs": [
        {
          "output_type": "stream",
          "name": "stdout",
          "text": [
            "[(0, 0.004704113243851237), (1, 0.004786996649989914), (2, 0.00434475170750537), (3, 0.011186944097954543), (4, 0.004577436215533949), (5, 0.00467488874325846), (6, 0.015827529797449363), (7, 0.0017751957494087926), (8, 0.004521698231242121), (9, 0.004362390165987367), (10, 0.00864692639461473), (11, 0.0095210446189176), (12, 0.009466185539622082), (13, 0.004744817337868868), (14, 0.004360771355082343), (15, 0.011807861619874693), (16, 0.007178224535273291), (17, 0.00841553255931917), (18, 0.011672912141554423), (19, 0.006097857242197214), (20, 0.004816341654439268), (21, 0.021464438139738196), (22, 0.0046848445923995796), (23, 0.006420437113306964), (24, 0.00639768226487933), (25, 0.03201131276698514), (26, 0.004470511821462117), (27, 0.011289012054430045), (28, 0.00666809856759413), (29, 0.008549561145042888), (30, 0.011419489230064361), (31, 0.021234403347497186), (32, 0.0019383464440311108), (33, 0.006260613183341976), (34, 0.011407676092833276), (35, 0.011620400711020573), (36, 0.006060464373593574), (37, 0.007231687011857765), (38, 0.005050937268487573), (39, 0.01332469787699912), (40, 0.004697965187051335), (41, 0.01182934731194983), (42, 0.004822690577053874), (43, 0.013439978262855558), (44, 0.01925713111155042), (45, 0.13892762104802417), (46, 0.012417505768560894), (47, 0.005852256375684019), (48, 0.02095973556999117), (49, 0.008812779334835014), (50, 0.009330128927618378), (51, 0.011922883870015055), (52, 0.016636623678144984), (53, 0.004704318975228711), (54, 0.004736602463247813), (55, 0.004561621011367478), (56, 0.0046958518117564555), (57, 0.0018427649695946114), (58, 0.001876369160054153), (59, 0.004774905733877026), (60, 0.013853796025603148), (61, 0.010583775605216804), (62, 0.0051794882796250205), (63, 0.007778968855635143), (64, 0.0017767475949188804), (65, 0.044009216687807585), (66, 0.006540485827599569), (67, 0.049547055728548686), (68, 0.013299974295088146), (69, 0.013381970885444848), (70, 0.006823806881901181), (71, 0.011163028651607346), (72, 0.011034138437488447), (73, 0.004766490913887342), (74, 0.004970823052486731), (75, 0.006049734635468682), (76, 0.010235159830012747), (77, 0.012802615835312482), (78, 0.009817120129952412), (79, 0.011361462198925124), (80, 0.010577220883648954), (81, 0.004622586024542057), (82, 0.010240077614072198), (83, 0.014861618963441289), (84, 0.08536666070545877), (85, 0.01525270864427713), (86, 0.004851545702405607), (87, 0.012174879162392852), (88, 0.010078887667783802), (89, 0.048776407846530354), (90, 0.010590827984720823), (91, 0.00465877795249464), (92, 0.015453467444389784), (93, 0.010925581333165835), (94, 0.010558140888111583), (95, 0.012076464314342863), (96, 0.006871727539200765), (97, 0.006079605362189468), (98, 0.004969610571209438), (99, 0.010119816543111317), (100, 0.005254329848918471), (101, 0.008374823353801427), (102, 0.01194267944840184), (103, 0.007186895411472834), (104, 0.006739880764715919), (105, 0.011395369432131914), (106, 0.010434960749231057), (107, 0.01550557509954779), (108, 0.010001484834359047), (109, 0.008324039277990745), (110, 0.11598852507997257), (111, 0.010896548135039916), (112, 0.022617965221512583), (113, 0.011732701949466125), (114, 0.004667309715599008), (115, 0.01328978100012125), (116, 0.016588880524329486), (117, 0.008194702735514963), (118, 0.0138262629775084), (119, 0.010306158533672881), (120, 0.010616131835933601), (121, 0.005100698403948296), (122, 0.006818038731310521), (123, 0.0140860540479255), (124, 0.01923271929498447), (125, 0.012070844489966436), (126, 0.0048629358192956215), (127, 0.010118868726612952), (128, 0.01415547893444838), (129, 0.010311299372775026), (130, 0.004087094395217208), (131, 0.005046314108421214), (132, 0.010412726345720573), (133, 0.004274910048732617), (134, 0.006309988949940211), (135, 0.010752650184671532), (136, 0.009857782803439796), (137, 0.01625852708008412), (138, 0.03447668583408242), (139, 0.004687976347448911), (140, 0.007495320466298878), (141, 0.004806480860615777), (142, 0.009285339529113572), (143, 0.007242497398210666), (144, 0.013042153317980639), (145, 0.012320322792700431), (146, 0.008905776620609337), (147, 0.010466453977518879), (148, 0.011867273606521029), (149, 0.018983015557440457), (150, 0.006874911013140611), (151, 0.004645644828108921), (152, 0.013075032944273392), (153, 0.01178695318356411), (154, 0.008880687412644228), (155, 0.004481589391617972), (156, 0.007684644928990212), (157, 0.007670509345969202), (158, 0.010617691127920319), (159, 0.007250560452523192), (160, 0.012787958107538128), (161, 0.055968040778226466), (162, 0.005220101642225009), (163, 0.004508098974186379), (164, 0.006710571511191081), (165, 0.013273543087931635), (166, 0.01949769993091088), (167, 0.004829590022845231), (168, 0.0036023477299826673), (169, 0.012826718665849383), (170, 0.013775829654142688), (171, 0.006340311640838977), (172, 0.0501109855556868), (173, 0.004678243572101629), (174, 0.03818853378931259), (175, 0.01433693225030109), (176, 0.03516359441730496), (177, 0.004230810547942842), (178, 0.00982091730287728), (179, 0.04531338066798382), (180, 0.004864607915047307), (181, 0.004591218390070203), (182, 0.020438057380456804), (183, 0.00784861992886747), (184, 0.009010699612735242), (185, 0.05097936460439308), (186, 0.0019588735367508667), (187, 0.006376996548121829), (188, 0.004366993896374151), (189, 0.01596679069049943), (190, 0.011460674701810008), (191, 0.01042736769284114), (192, 0.0048170312720872185), (193, 0.00526011602229102), (194, 0.00402343629043828), (195, 0.010173969472104086), (196, 0.006342270879039909), (197, 0.013038787006245348), (198, 0.004906566447726744), (199, 0.010343744193651827), (200, 0.016581655505899857), (201, 0.015440032836320635), (202, 0.010809114799725008), (203, 0.004993056050015071), (204, 0.014553082249642905), (205, 0.006441044667016359), (206, 0.01356074380608195), (207, 0.012680583445590395), (208, 0.019424028991547004), (209, 0.011996779837331271), (210, 0.048262499095493946), (211, 0.013996801734022181), (212, 0.013582484606092644), (213, 0.04395630915941982), (214, 0.0050112890093884244), (215, 0.011674125930694465), (216, 0.004952545868158878), (217, 0.00499307502985521), (218, 0.011949832172773017), (219, 0.004567131959125971), (220, 0.01323748549920251), (221, 0.006524569457182492), (222, 0.011984473434610288), (223, 0.004374830890923215), (224, 0.0016233199950719938), (225, 0.005092402819819226), (226, 0.00489632586087335), (227, 0.004444174925594152), (228, 0.0067486296853724115), (229, 0.004275329462021106), (230, 0.004776339530625497), (231, 0.007805556123748414), (232, 0.00672140373361526), (233, 0.015868770392511895), (234, 0.010528864242661687), (235, 0.0050940029898703), (236, 0.018271469531282107), (237, 0.008701034889093719), (238, 0.018852106837835017), (239, 0.0114662485176365), (240, 0.04345596116862721), (241, 0.010414445370433893), (242, 0.009916539623231663), (243, 0.0074896992074607125), (244, 0.013463964563072498), (245, 0.005103339964481949), (246, 0.01407377240611672), (247, 0.011615675679143546), (248, 0.004323066923483043), (249, 0.005279451522176598), (250, 0.03966387579378083), (251, 0.010653132476282497), (252, 0.0017149338115502505), (253, 0.013289553232112535), (254, 0.07300498505869298), (255, 0.019445324471827258), (256, 0.0019806280127029), (257, 0.004784497421443894), (258, 0.004895000892521564), (259, 0.004431479607331322), (260, 0.010332851814779175), (261, 0.012833831516491635), (262, 0.0065647917628873925), (263, 0.006595727229180347), (264, 0.004474181275150548), (265, 0.0043907358166776055), (266, 0.016596024674501636), (267, 0.005415059063229923), (268, 0.003417111601379741), (269, 0.006272697902806033), (270, 0.01123970948749166), (271, 0.009948396100859775), (272, 0.004613989606121068), (273, 0.01830924175377708), (274, 0.0050109399973365665), (275, 0.007509471865248208), (276, 0.0161234180964229), (277, 0.004765970416370877), (278, 0.012175049478127501), (279, 0.01162187074526028), (280, 0.0065960824940703745), (281, 0.01167867642917702), (282, 0.013201635129647393), (283, 0.004827496507959758), (284, 0.04603640043905995), (285, 0.010573218656719806), (286, 0.011376945563389331), (287, 0.01146648993809548), (288, 0.013795062126674583), (289, 0.01224938172096253), (290, 0.012020143975760789), (291, 0.011270988341335995), (292, 0.010743752803162279), (293, 0.0017100693928083564), (294, 0.012932202883201398), (295, 0.012355387134634958), (296, 0.006306626393629762), (297, 0.004881602934611464), (298, 0.004800984561676129), (299, 0.004621922700134293), (300, 0.006601152334921374), (301, 0.004760298377415658), (302, 0.008750878882158038), (303, 0.011647846886888736), (304, 0.009431485283543286), (305, 0.013440492806458452), (306, 0.012071250182747021), (307, 0.004888753012141116), (308, 0.004969943212892115), (309, 0.004286556427398976), (310, 0.013782405313042277), (311, 0.004394539497978262), (312, 0.004617345698365059), (313, 0.01163540429455301), (314, 0.011748363306314374), (315, 0.012607421423855257), (316, 0.014549505505431638), (317, 0.004211307975168497), (318, 0.01361508432318009), (319, 0.0041452385496894215), (320, 0.012383857661170887), (321, 0.017018189647150746), (322, 0.013039556151557455), (323, 0.013576123204694913), (324, 0.004576453994321229), (325, 0.010464615394304402), (326, 0.007115157127997094), (327, 0.015735666531116386), (328, 0.046686302617781776), (329, 0.01953138339409445), (330, 0.010783669934866876), (331, 0.004689530231869454), (332, 0.01147186190708732), (333, 0.012164061316288218), (334, 0.01321219164309733), (335, 0.004486602642682051), (336, 0.007611477383356885), (337, 0.004192797780602256), (338, 0.004374953051620483), (339, 0.004906549546155986), (340, 0.004888596623515779), (341, 0.014665646477136028), (342, 0.007354991205944407), (343, 0.004489372944356959), (344, 0.004664766880637458), (345, 0.007031868669793027), (346, 0.0109797841935567), (347, 0.006413925461682686), (348, 0.00612590301048351), (349, 0.004922280932672265), (350, 0.020655848881477562), (351, 0.011387107006442345), (352, 0.004919683669090987), (353, 0.006045813398733403), (354, 0.015134479510772859), (355, 0.006800813052859183), (356, 0.013582394344733203), (357, 0.01012273202635572), (358, 0.004537044685109447), (359, 0.010083686167273306), (360, 0.05641597009747934), (361, 0.004962026415851604), (362, 0.004893990464383035), (363, 0.002269883734911973), (364, 0.012274410578749414), (365, 0.005010594178949003), (366, 0.004575483141130586), (367, 0.004871207355201889), (368, 0.007353067316100526), (369, 0.010160970357658767), (370, 0.018522210816242442), (371, 0.014145133623466446), (372, 0.004338933696014086), (373, 0.008993507274747604), (374, 0.007390180990096824), (375, 0.015157077628696052), (376, 0.004440683191808523), (377, 0.010852882067682234), (378, 0.015079959172326449), (379, 0.006492599466673859), (380, 0.012266713246136022), (381, 0.04612170565899913), (382, 0.004179405307521795), (383, 0.03399232710454002), (384, 0.04060285977772588), (385, 0.006960298403511138), (386, 0.006552801794152621), (387, 0.04170651374406469), (388, 0.004917712050272771), (389, 0.004679456309487556), (390, 0.004537425644439212), (391, 0.0050908343224747785), (392, 0.00476096624187341), (393, 0.009335879405404162), (394, 0.004250291470246442), (395, 0.004798393638206472), (396, 0.011136778023512378), (397, 0.004509005884997584), (398, 0.034625163181007924), (399, 0.00470527051688747), (400, 0.010124973334287865), (401, 0.005227684095025871), (402, 0.005016798168442572), (403, 0.0040673613808990036), (404, 0.004469701180360089), (405, 0.00463033285859004), (406, 0.00802945110537667), (407, 0.00601621345698103), (408, 0.048162870695569675), (409, 0.009452020620984087), (410, 0.010485291339248949), (411, 0.006318311435156232), (412, 0.004470125477911284), (413, 0.004852523259539679), (414, 0.0060249140880156045), (415, 0.004889757348946953), (416, 0.00414330952906239), (417, 0.009857643836833846), (418, 0.013793971833181462), (419, 0.013307557223395253), (420, 0.01169987712596659), (421, 0.04530173689966123), (422, 0.006968881385868332), (423, 0.01064230791428431), (424, 0.04532286490182951), (425, 0.012479535299567454), (426, 0.01745216373070466), (427, 0.004520848354657558), (428, 0.010287059040862839), (429, 0.00894702517285716), (430, 0.03776099799319607), (431, 0.011707536281704595), (432, 0.004932909136563974), (433, 0.01276097610993805), (434, 0.005251591174737471), (435, 0.012043954041154256), (436, 0.01309983103929566), (437, 0.005743207434468112), (438, 0.004200881782580273), (439, 0.006572283548594444), (440, 0.004623510489339876), (441, 0.007574031737723528), (442, 0.018159449283669662), (443, 0.012798602995804072), (444, 0.004939065335737406), (445, 0.01110492291276002), (446, 0.008450683344543509), (447, 0.014123159056222932), (448, 0.0052510231192764755), (449, 0.006442117275408905), (450, 0.020831771069199867), (451, 0.0042443471542455095), (452, 0.010713776015921085), (453, 0.0060576313205644265), (454, 0.004782744399074957), (455, 0.04410737172642879), (456, 0.012660980720587241), (457, 0.0109066156996374), (458, 0.021431928521708325), (459, 0.03742418777077126), (460, 0.012131782249706246), (461, 0.004904159534965102), (462, 0.005442894833829221), (463, 0.012960879276451969), (464, 0.007729328664003927), (465, 0.004427330423536697), (466, 0.004563018643999559), (467, 0.011149610992361943), (468, 0.011366405295760707), (469, 0.011519893720118588), (470, 0.01318216570953553), (471, 0.010368500700418693), (472, 0.00469767278335148), (473, 0.00960997388756775), (474, 0.004664711499255684), (475, 0.0018563268048745621), (476, 0.005956906056858887), (477, 0.006784408758127492), (478, 0.004853852420283936), (479, 0.06498947038359462), (480, 0.007720093949763798), (481, 0.013377202591551764), (482, 0.010803501941012223), (483, 0.01150786273607374), (484, 0.008270568005671634), (485, 0.012365635833762356), (486, 0.004462630405253319), (487, 0.009997738702194899), (488, 0.0052117410767430535), (489, 0.01176104830211034), (490, 0.005075307917542455), (491, 0.008978554113081261), (492, 0.006240430466611881), (493, 0.018981585012175877), (494, 0.010462899733015283), (495, 0.007825251227628623), (496, 0.009339132921554623), (497, 0.00426643878248294), (498, 0.004693736853622794), (499, 0.01108124921432873), (500, 0.016904314897318813), (501, 0.012216555005631197), (502, 0.013840085009205179), (503, 0.004322435260640802), (504, 0.0045827792794183395), (505, 0.00957059941877556), (506, 0.004447100752572982), (507, 0.01024990838111941), (508, 0.013547606640930094), (509, 0.015398575082251635), (510, 0.013347798723162507), (511, 0.01096846075419257), (512, 0.01712496450204542), (513, 0.015440633349099488), (514, 0.013930027111838024), (515, 0.011833413948847024), (516, 0.005076757897056238), (517, 0.004771040606179196), (518, 0.00496885474377126), (519, 0.046130695316244544), (520, 0.004976087579624847), (521, 0.004863583660471658), (522, 0.00502009138372286), (523, 0.005081572463971165), (524, 0.010444315981139554), (525, 0.0047282243344697345), (526, 0.0025239568854737364), (527, 0.007478134478500765), (528, 0.007283242190034496), (529, 0.005069882162715889), (530, 0.012492329202585714), (531, 0.005355108784527832), (532, 0.0050156791876426595), (533, 0.020008937235750465), (534, 0.0194517831579147), (535, 0.006217804415973478), (536, 0.004695628712528146), (537, 0.011961692606118068), (538, 0.007606476821435625), (539, 0.004492135827670373), (540, 0.013534882418688124), (541, 0.010586379270759512), (542, 0.020087303389020837), (543, 0.018486675880899438), (544, 0.013807867876670795), (545, 0.008346981594783316), (546, 0.004488491051595583), (547, 0.03376811217418917), (548, 0.008276579039392457), (549, 0.006714695442821718), (550, 0.013177643710972447), (551, 0.004672980829595027), (552, 0.006997181268368164), (553, 0.004939674703852703), (554, 0.004632919301378989), (555, 0.0044085432750289415), (556, 0.004533542973021122), (557, 0.006427554824977656), (558, 0.0063423797611554394), (559, 0.009923097408358308), (560, 0.012629558526102692), (561, 0.004741770957685755), (562, 0.018287440278207112), (563, 0.013005277662421419), (564, 0.008610125818450956), (565, 0.0078122953376602924), (566, 0.010215059909558346), (567, 0.007738785320579236), (568, 0.0062802564923508004), (569, 0.0066871641673630616), (570, 0.010367241970486317), (571, 0.010708233082772226), (572, 0.008562580917798372), (573, 0.006184724908444211), (574, 0.0049281358952104155), (575, 0.00401054948076593), (576, 0.004721843984972001), (577, 0.004799323124649186), (578, 0.004536061443023116), (579, 0.013323837370367896), (580, 0.02011735938961799), (581, 0.013916640595725425), (582, 0.00570555419303056), (583, 0.004657950080988691), (584, 0.021159599403506937), (585, 0.006654251960599858), (586, 0.004831641536401224), (587, 0.00507846363982231), (588, 0.011135037797963824), (589, 0.011777448709876806), (590, 0.07514227686459743), (591, 0.006921781555923319), (592, 0.006769652959665273), (593, 0.04212936864114941), (594, 0.01010623761919362), (595, 0.013701097433676236), (596, 0.006281759149810483), (597, 0.004407526198816857), (598, 0.007949945764156505), (599, 0.0046994292812857635), (600, 0.004487668290897542), (601, 0.005085198923759214), (602, 0.004964476649999077), (603, 0.004764786118185128), (604, 0.011685223961935755), (605, 0.013973811943500943), (606, 0.012470663941051174), (607, 0.005994414577426627), (608, 0.014939803654939444), (609, 0.010634432401709708), (610, 0.00624956491731412), (611, 0.0033705591783641116), (612, 0.005567537797328938), (613, 0.004455519508750371), (614, 0.007537121355455792), (615, 0.050659886626750104), (616, 0.00446596291143698), (617, 0.018471922043606374), (618, 0.033516903097793586), (619, 0.011357498898499617), (620, 0.006400280446353933), (621, 0.013918860456346483), (622, 0.019759978152630003), (623, 0.012644149535620998), (624, 0.004400182383755889), (625, 0.010701209753166397), (626, 0.0050013985579753974), (627, 0.01290246559365861), (628, 0.10470540654704749), (629, 0.008076836246741655), (630, 0.005085333963672277), (631, 0.011377190555334425), (632, 0.048613501435347234), (633, 0.013600794383338615), (634, 0.014223446209887091), (635, 0.01544866424753463), (636, 0.01635039038200281), (637, 0.05755674411498563), (638, 0.004782481978447555), (639, 0.010568118430859625), (640, 0.012652889562567196), (641, 0.01062972595501862), (642, 0.013008304131587302), (643, 0.013834112747682556), (644, 0.01955398959774878), (645, 0.0017178840165351982), (646, 0.014024716362996117), (647, 0.0019022703007777744), (648, 0.004167951740664263), (649, 0.004536167998121539), (650, 0.004516143855236514), (651, 0.004531126886311137), (652, 0.017948394843585527), (653, 0.019639616635183276), (654, 0.012817301533158815), (655, 0.011034357614487185), (656, 0.004747468877610657), (657, 0.011128225235631386), (658, 0.005220761009962948), (659, 0.004718831290520064), (660, 0.018484278038755006), (661, 0.014167895764745498), (662, 0.004542281496255414), (663, 0.004872653930917044), (664, 0.008642618147408923), (665, 0.004695939698321483), (666, 0.012273867897164961), (667, 0.012085522197544584), (668, 0.01180016269151946), (669, 0.017138185364781296), (670, 0.022809786002790017), (671, 0.004681292678380439), (672, 0.028694739812061713), (673, 0.012484567277483065), (674, 0.004437171331916092), (675, 0.012042198777605527), (676, 0.019796149649516027), (677, 0.005018448122472358), (678, 0.014837802219974388), (679, 0.007712482927121546), (680, 0.004742124800070421), (681, 0.005229542772656372), (682, 0.04985098919834569), (683, 0.012457018929787579), (684, 0.012777562630638643), (685, 0.004854249393608611), (686, 0.004879686791364506), (687, 0.013673608760045261), (688, 0.012083412066416768), (689, 0.012988328317711038), (690, 0.014484338953807076), (691, 0.009833519914838872), (692, 0.010387559593101604), (693, 0.0019624984415951966), (694, 0.05195146134274642), (695, 0.00845653513282844), (696, 0.014061201834729354), (697, 0.01082524876089307), (698, 0.011233654803512013), (699, 0.009926804172494263), (700, 0.00519920507453245), (701, 0.019602256377010536), (702, 0.004766045188889182), (703, 0.01096284427184421), (704, 0.004479713861487228), (705, 0.004767301528097887), (706, 0.003995497362281977), (707, 0.009377910086863828), (708, 0.0055358392188091955), (709, 0.00505694911987108), (710, 0.0396951511402001), (711, 0.005688443470048132), (712, 0.009338020294549183), (713, 0.004703592026197065), (714, 0.00448233764473458), (715, 0.011459844575889016), (716, 0.019733500576755644), (717, 0.004512806058640247), (718, 0.009735356997979153), (719, 0.02146823506493759), (720, 0.003723966873708887), (721, 0.04085469228793224), (722, 0.005645304179043402), (723, 0.011075601319994), (724, 0.004425193865664024), (725, 0.004475262631469065), (726, 0.0038246003061237054), (727, 0.024479375219262262), (728, 0.023187399258796967), (729, 0.02265064668722204), (730, 0.006336628454986055), (731, 0.005287462855990369), (732, 0.014124779700139112), (733, 0.01042568365899088), (734, 0.006291581708274978), (735, 0.016213047016832714), (736, 0.007906121739578402), (737, 0.013859129060371565), (738, 0.012523686304666253), (739, 0.004940413819845725), (740, 0.011284578029419831), (741, 0.004789804824319753), (742, 0.012639123881572668), (743, 0.012254399489219036), (744, 0.011138992957132728), (745, 0.004422796812208652), (746, 0.0043195114739058476), (747, 0.004962772856868511), (748, 0.004941854576385872), (749, 0.011716477885189595), (750, 0.013088048193130954), (751, 0.005484124561872275), (752, 0.004752820965166991), (753, 0.014381153634616976), (754, 0.005172323727863989), (755, 0.004341907549514604), (756, 0.010899343643944757), (757, 0.013311352535593988), (758, 0.004861662113000266), (759, 0.010909809260345333), (760, 0.01461238904954067), (761, 0.03607760007757985), (762, 0.004428730705542755), (763, 0.004310344149534144), (764, 0.005995315533845282), (765, 0.0114695008016523), (766, 0.005482316808159587), (767, 0.004472725705128723), (768, 0.004835604190436854), (769, 0.011512401229780237), (770, 0.004209714817925268), (771, 0.005037753290346132), (772, 0.00476044294850328), (773, 0.005102075256299771), (774, 0.049913376272689346), (775, 0.010736262547964712), (776, 0.004542025493120777), (777, 0.007065217645282529), (778, 0.006843378036326465), (779, 0.009456541505707093), (780, 0.0048806821349092755), (781, 0.005313688784614616), (782, 0.004746691505897453), (783, 0.0), (784, 0.004452012674951248), (785, 0.004289269615851226), (786, 0.006229025391400061), (787, 0.004073594070454178), (788, 0.04546747049724884), (789, 0.009851032025459098), (790, 0.012742496182323633), (791, 0.008057122378558806), (792, 0.010255374988953755), (793, 0.012791924414105586), (794, 0.01042053542695476), (795, 0.005284616705691436), (796, 0.007972153734361189), (797, 0.007072422200877657), (798, 0.004515637468360225), (799, 0.021083149424199525), (800, 0.018415656447802048), (801, 0.010750761893486031), (802, 0.012307157090719313), (803, 0.011311131182244907), (804, 0.021655912000741403), (805, 0.004562825531487557), (806, 0.012437059550692714), (807, 0.00448006015167177), (808, 0.012218169468018942), (809, 0.01129737262589643), (810, 0.01170868742842269), (811, 0.011288522122866467), (812, 0.03648348930871435), (813, 0.005288217950961525), (814, 0.00466018973373475), (815, 0.010772729730596297), (816, 0.010608416541684757), (817, 0.004687357757994346), (818, 0.004559349139714753), (819, 0.004702653478190386), (820, 0.006852155898130555), (821, 0.008711896498651303), (822, 0.004863720400864767), (823, 0.007563266437787734), (824, 0.011208946628742212), (825, 0.014011513153151186), (826, 0.012257490471862156), (827, 0.013776162084119574), (828, 0.010142505953581819), (829, 0.009503427011194469), (830, 0.04997554318077934), (831, 0.014073631188716447), (832, 0.011859549935794831), (833, 0.0049765322599032), (834, 0.005162753920669253), (835, 0.004736631291596478), (836, 0.04211878449847641), (837, 0.004540139628037317), (838, 0.0017976447288588664), (839, 0.005420515778780527), (840, 0.004929889753009426), (841, 0.005119500402151225), (842, 0.01719824119036241), (843, 0.006297373978464098), (844, 0.004738100415501059), (845, 0.013324277514548531), (846, 0.007863519474276976), (847, 0.005105571915948194), (848, 0.01162925121292206), (849, 0.017217418781528958), (850, 0.004902144425861475), (851, 0.010774643620922994), (852, 0.012185048948209598), (853, 0.018119494205289452), (854, 0.010613206039754824), (855, 0.012341818814424105), (856, 0.010563323999997973), (857, 0.009192938988546357), (858, 0.03903512986596306), (859, 0.005016856482095308), (860, 0.018243692569605528), (861, 0.012085203382058771), (862, 0.00539784722601472), (863, 0.010255096324755032), (864, 0.004497733461434464), (865, 0.005140578697297806), (866, 0.018412873372034868), (867, 0.0048156189532363525), (868, 0.01341126661147055), (869, 0.004850827154811442), (870, 0.0178898508864758), (871, 0.011026454644671894), (872, 0.011551302309130804), (873, 0.04651690782084457), (874, 0.010798351127704756), (875, 0.01375120388156507), (876, 0.0124574818977311), (877, 0.012066263756637292), (878, 0.018946859092292514), (879, 0.019508554741029305), (880, 0.018464655111605142), (881, 0.004771137291844521), (882, 0.0018640698065766866), (883, 0.013153938723531778), (884, 0.011192531337033438), (885, 0.04479324385677912), (886, 0.004288037532344127), (887, 0.0121841532631718), (888, 0.01848076786337771), (889, 0.005297163377057271), (890, 0.011310427102096877), (891, 0.012950014724741303), (892, 0.007533605714791031), (893, 0.01060202164041298), (894, 0.004675288777909936), (895, 0.0045168484850529236), (896, 0.019267954606743447), (897, 0.006773188499398482), (898, 0.01281813036480424), (899, 0.004554722161136886), (900, 0.011529548774755951), (901, 0.004638322921778442), (902, 0.014706764919452836), (903, 0.04372130784057577), (904, 0.051680616340033445), (905, 0.014361822772201209), (906, 0.004415635961506933), (907, 0.006229138341913201), (908, 0.004721695290256369), (909, 0.004539534319992201), (910, 0.012243223158424655), (911, 0.023317836933365588), (912, 0.0042726834237744), (913, 0.0068818682020735916), (914, 0.005235826481821214), (915, 0.01221326301539209), (916, 0.011744753039218282), (917, 0.02840780840722213), (918, 0.013407356882522358), (919, 0.012158481934678592), (920, 0.004122546072646731), (921, 0.011340310628367968), (922, 0.004728487274145316), (923, 0.01808561843734427), (924, 0.003925582328810625), (925, 0.004834045933732788), (926, 0.004556412864234092), (927, 0.01608519991667346), (928, 0.014017798402079071), (929, 0.00826164948439792), (930, 0.012720506906987351), (931, 0.011669632190454875), (932, 0.011445496709220675), (933, 0.008024079496378438), (934, 0.011796680705592217), (935, 0.0496859453956609), (936, 0.02162594483000373), (937, 0.01915396915305226), (938, 0.004963737663474105), (939, 0.01678977346447199), (940, 0.010051944574722494), (941, 0.007350224914922826), (942, 0.015650244079513376), (943, 0.004207914103055278), (944, 0.00426968403010395), (945, 0.006564694376140228), (946, 0.008183818583205108), (947, 0.02291981689506665), (948, 0.008447633233140168), (949, 0.0074965494445497025), (950, 0.008653919293733854), (951, 0.009179132321484876), (952, 0.013955825987773045), (953, 0.016830960303626765), (954, 0.004407186078433871), (955, 0.005116574476701297), (956, 0.006213965854363741), (957, 0.004916859289255672), (958, 0.004474609028506325), (959, 0.005079052841670476), (960, 0.0049121645158174895), (961, 0.01022561841323539), (962, 0.004970983476297031), (963, 0.010053134838660206), (964, 0.005844606024413878), (965, 0.00475042380692677), (966, 0.012416914420069803), (967, 0.014333616252818464), (968, 0.013311352348897087), (969, 0.013892226907827807), (970, 0.004166001671617959), (971, 0.004711632008858917), (972, 0.004364620717194633), (973, 0.013546442178970509), (974, 0.014942733251374095), (975, 0.004381426197930128), (976, 0.01141471934357744), (977, 0.0046938684401567985), (978, 0.004292461783132831), (979, 0.009743974342833212), (980, 0.01135460173517271), (981, 0.02044457601413664), (982, 0.007873483786397), (983, 0.004586654551197236), (984, 0.0128285745944605), (985, 0.007666960165819404), (986, 0.021234685828390824), (987, 0.006717865409959833), (988, 0.018788308417890354), (989, 0.018883868883964802), (990, 0.006235711146135328), (991, 0.011932070559247854), (992, 0.013035266676583147), (993, 0.004681300009425711), (994, 0.01148680482930249), (995, 0.004680175037550886), (996, 0.014572307842088919), (997, 0.011182310634901547), (998, 0.011247289112748473), (999, 0.013511324516141558), (1000, 0.016794563000935604), (1001, 0.01893531683494461), (1002, 0.011331586270707525), (1003, 0.01210795327891834), (1004, 0.004369877386025029), (1005, 0.0017744763574798316), (1006, 0.004521967459349414), (1007, 0.014459800505359936), (1008, 0.004226542153972666), (1009, 0.011116257509653298), (1010, 0.006544559498223013), (1011, 0.007180090440963848), (1012, 0.01663614514031386), (1013, 0.0048712705440255456), (1014, 0.004952615280969835), (1015, 0.014842599996353695), (1016, 0.0047268427474116475), (1017, 0.01890651699200968), (1018, 0.012495892966081295), (1019, 0.00713348644528894), (1020, 0.001817070144080827), (1021, 0.06602653660451317), (1022, 0.0046280032143229104), (1023, 0.005605740648829344), (1024, 0.04505010605978682), (1025, 0.004282850320885313), (1026, 0.004660495007689561), (1027, 0.004819892947818802), (1028, 0.0047424953062762155), (1029, 0.0061832368336976265), (1030, 0.040793825858555635), (1031, 0.004710394702709468), (1032, 0.004314966663703429), (1033, 0.006484052837973479), (1034, 0.006232552334141181), (1035, 0.01839130980367848), (1036, 0.012762474101517547), (1037, 0.001618881428366022), (1038, 0.00461155227983499), (1039, 0.0048318557458377435), (1040, 0.003147498503234029), (1041, 0.010885250755040644), (1042, 0.008551462306755419), (1043, 0.012310203562362431), (1044, 0.021037781716450026), (1045, 0.004513504479402564), (1046, 0.004409262147417395), (1047, 0.012696942738060053), (1048, 0.004707928013694105), (1049, 0.011759191805669767), (1050, 0.01088447183772803), (1051, 0.008654549732485589), (1052, 0.008790097825263788), (1053, 0.012072539006956214), (1054, 0.004687884740974775), (1055, 0.004165129154856133), (1056, 0.004733872559373534), (1057, 0.004889900244461032), (1058, 0.013005319639484958), (1059, 0.04047496960486872), (1060, 0.00652678990415094), (1061, 0.012202270890685039), (1062, 0.0043436109612601595), (1063, 0.04106453826516438), (1064, 0.01983440606880441), (1065, 0.012062734723998358), (1066, 0.004590988393182421), (1067, 0.0042886333936031015), (1068, 0.004354609817276277), (1069, 0.0023560577113266802), (1070, 0.10696429277397615), (1071, 0.014711237726515093), (1072, 0.004202539225307528), (1073, 0.004245471623844731), (1074, 0.014379312236724145), (1075, 0.006351974927718614), (1076, 0.006569176778672791), (1077, 0.006046016927302621), (1078, 0.009106578183105162), (1079, 0.010474360482169797), (1080, 0.012181872331684291), (1081, 0.0037606278779007732), (1082, 0.01096271873863794), (1083, 0.01205934351369211), (1084, 0.010687179037270619), (1085, 0.05406275470409025), (1086, 0.007815486688420886), (1087, 0.012360898711310318), (1088, 0.012721752426832754), (1089, 0.004706666673663054), (1090, 0.004832636680474542), (1091, 0.006867205127418185), (1092, 0.012250300529741793), (1093, 0.00440156003614707), (1094, 0.004988548000125156), (1095, 0.03424914917136435), (1096, 0.012845591938589801), (1097, 0.0071295966603546635), (1098, 0.03499593964337881), (1099, 0.014586015852097182), (1100, 0.011950462359732381), (1101, 0.004879177963900522), (1102, 0.004851181828359286), (1103, 0.004894371656304152), (1104, 0.01167985466008702), (1105, 0.004827343059190085), (1106, 0.004769022015758901), (1107, 0.01297502681693521), (1108, 0.004540507760650125), (1109, 0.01258541879370794), (1110, 0.005224605622749787), (1111, 0.004643182686809601), (1112, 0.011622464281965752), (1113, 0.008214751192152623), (1114, 0.01057253620729773), (1115, 0.010598441354193622), (1116, 0.006572427919433839), (1117, 0.011009471436586798), (1118, 0.07810813720658807), (1119, 0.018828993481541673), (1120, 0.0066293380507790375), (1121, 0.005135516479830798), (1122, 0.011611647054752924), (1123, 0.010707004167749546), (1124, 0.011377059262627607), (1125, 0.006833649196187421), (1126, 0.0047492556420118195), (1127, 0.015472815120834246), (1128, 0.006361960108080655), (1129, 0.014761102712558096), (1130, 0.004751993900089898), (1131, 0.006358030563443667), (1132, 0.01870308494858668), (1133, 0.00481788975081711), (1134, 0.04661098814828966), (1135, 0.005977367927802528), (1136, 0.012010458197993717), (1137, 0.03271702483700407), (1138, 0.019753248159565757), (1139, 0.004606922003476132), (1140, 0.01188679238666467), (1141, 0.019442345179109952), (1142, 0.004923469883554542), (1143, 0.004990091985154187), (1144, 0.0018504192773781205), (1145, 0.01352309155579094), (1146, 0.04078312320341468), (1147, 0.004532346545522939), (1148, 0.053219138166204404), (1149, 0.00431806770825323), (1150, 0.011639193356914877), (1151, 0.0045742851366188785), (1152, 0.008451685207616272), (1153, 0.010192178334113974), (1154, 0.004944189715000988), (1155, 0.004763084122632337), (1156, 0.005618381311380651), (1157, 0.008822364439749708), (1158, 0.011564202370381318), (1159, 0.004802878585573291), (1160, 0.009198750882594437), (1161, 0.007814584707439861), (1162, 0.011845991454963867), (1163, 0.004465295778530942), (1164, 0.009064746098559494), (1165, 0.005012356175971261), (1166, 0.004724842604572813), (1167, 0.011834455432656371), (1168, 0.0053994871317037604), (1169, 0.013710447546235509), (1170, 0.01157217435155411), (1171, 0.007474748351160111), (1172, 0.006782750027890102), (1173, 0.012718276602357583), (1174, 0.018783803605152378), (1175, 0.012113341301801927), (1176, 0.004595736336230767), (1177, 0.013440922507151745), (1178, 0.005502572248186615), (1179, 0.01832391101934949), (1180, 0.004678676555624039), (1181, 0.007769115162391072), (1182, 0.0044769163131130885), (1183, 0.017257229996875914), (1184, 0.01217811213463296), (1185, 0.01128692173477604), (1186, 0.03375795991990577), (1187, 0.01178143775542258), (1188, 0.013974760821053528), (1189, 0.0048079741078389335), (1190, 0.00797585300624415), (1191, 0.014387085997103088), (1192, 0.012772783674763973), (1193, 0.004848264142981215), (1194, 0.005584766516333987), (1195, 0.03690684058301392), (1196, 0.0048778589463380154), (1197, 0.01081357037894605), (1198, 0.004470115602530115), (1199, 0.012776153059795514), (1200, 0.009002221678690612), (1201, 0.006922559793794431), (1202, 0.011058849558117095), (1203, 0.01237977924643565), (1204, 0.011311639723280328), (1205, 0.006763303434083667), (1206, 0.011455729865040837), (1207, 0.012467198270763018), (1208, 0.013246182496148385), (1209, 0.009282409075559595), (1210, 0.010588937058959913), (1211, 0.010711990437849109), (1212, 0.004434829545264005), (1213, 0.004117717370386122), (1214, 0.0043372952986607365), (1215, 0.013063322401232307), (1216, 0.01137822733876651), (1217, 0.012835953027008455), (1218, 0.004444851412624752), (1219, 0.011632151005677738), (1220, 0.011827465911234791), (1221, 0.0042586412343201254), (1222, 0.004786890422436114), (1223, 0.01158686435567747), (1224, 0.012970360771986244), (1225, 0.018599242029354274), (1226, 0.014763638851456958), (1227, 0.004874489075037838), (1228, 0.005067835039149672), (1229, 0.020704665724853313), (1230, 0.011546965812948666), (1231, 0.0046708376936661355), (1232, 0.01831098586625746), (1233, 0.004932945552741227), (1234, 0.011468018340089096), (1235, 0.004768164648746187), (1236, 0.008680749002843085), (1237, 0.01936783796386267), (1238, 0.004648935765093217), (1239, 0.004641065328675517), (1240, 0.004725763720758289), (1241, 0.040116615672752064), (1242, 0.004569940946800287), (1243, 0.012746526670724158), (1244, 0.00674001330046485), (1245, 0.0045480169466822935), (1246, 0.004889401966475616), (1247, 0.0023051916592102444), (1248, 0.019111781975624086), (1249, 0.004238139872845298), (1250, 0.004903118112618593), (1251, 0.01477012070337239), (1252, 0.020032841249910904), (1253, 0.004738273714154518), (1254, 0.012686403926812884), (1255, 0.018958513380853), (1256, 0.0047175460745343244), (1257, 0.01917922499829313), (1258, 0.006624107543896954), (1259, 0.014209370979376322), (1260, 0.005003837498505341), (1261, 0.014132700806084197), (1262, 0.011035962785989051), (1263, 0.004855385729423455), (1264, 0.0050545539030350615), (1265, 0.004829244937237054), (1266, 0.011507008983627165), (1267, 0.012468148369003226), (1268, 0.006202853765554968), (1269, 0.0047167335225756024), (1270, 0.011332500214723148), (1271, 0.005102689401873362), (1272, 0.011608878113493775), (1273, 0.011453258660445565), (1274, 0.004534047808009858), (1275, 0.021760065743491434), (1276, 0.00725698405054611), (1277, 0.00916597649559345), (1278, 0.004915912786969036), (1279, 0.01194528197494138), (1280, 0.013036914351017427), (1281, 0.01095491188854924), (1282, 0.005977340776477649), (1283, 0.03603815328006328), (1284, 0.012307041503652236), (1285, 0.0070786263471224655), (1286, 0.013722532743956314), (1287, 0.0045042738169031975), (1288, 0.004588947679636566), (1289, 0.0038112790171261476), (1290, 0.00438283454184771), (1291, 0.0047501980676409265), (1292, 0.011596133962698452), (1293, 0.004343377115462787), (1294, 0.0047440731871783715), (1295, 0.0051662762271383125), (1296, 0.00487793842115592), (1297, 0.004556410731111106), (1298, 0.013054464083575796), (1299, 0.0043649332154628365), (1300, 0.01079126499395092), (1301, 0.014449117892222703), (1302, 0.01156838968462371), (1303, 0.012055116568276684), (1304, 0.011406040181128315), (1305, 0.004601070915210471), (1306, 0.006739960500467548), (1307, 0.00789399255227185), (1308, 0.010745469901534872), (1309, 0.010188431363914405), (1310, 0.004430986327647449), (1311, 0.05074288987820381), (1312, 0.010165912803563954), (1313, 0.004552983578285017), (1314, 0.012919220337191157), (1315, 0.005640255026191559), (1316, 0.004121827196904524), (1317, 0.011196552858983855), (1318, 0.004933450539852764), (1319, 0.004868509831520389), (1320, 0.04487393828821829), (1321, 0.009499580042870673), (1322, 0.007378203080423274), (1323, 0.0040293130853923794), (1324, 0.011259592146177996), (1325, 0.013222194684895171), (1326, 0.008649275803989886), (1327, 0.004552837578126909), (1328, 0.004947460027300907), (1329, 0.004999943595018911), (1330, 0.006584126934270528), (1331, 0.004185081725387971), (1332, 0.012391695778458982), (1333, 0.004794475458927335), (1334, 0.011614190733319858), (1335, 0.02239279140253902), (1336, 0.006652968617537041), (1337, 0.019874793825913017), (1338, 0.004627370567731705), (1339, 0.011674010969175037), (1340, 0.006019440466719641), (1341, 0.008823965486746766), (1342, 0.006252543661590799), (1343, 0.0129671772219264), (1344, 0.005107765945572965), (1345, 0.00532447161280872), (1346, 0.004574427788653308), (1347, 0.011851934887764117), (1348, 0.00985248324671185), (1349, 0.0066639771464804265), (1350, 0.007953642495523596), (1351, 0.04053156983392131), (1352, 0.009964413941164032), (1353, 0.008570513977533497), (1354, 0.006478728440699596), (1355, 0.0045606654541790435), (1356, 0.011041896158900551), (1357, 0.012339642435562043), (1358, 0.0362467677662961), (1359, 0.011402851634483733), (1360, 0.01911378471227738), (1361, 0.004639883183888589), (1362, 0.04613615683611663), (1363, 0.051041473830098015), (1364, 0.011343450596900014), (1365, 0.008599623827797798), (1366, 0.01196315959456191), (1367, 0.010670718120378044), (1368, 0.0042656056720258625), (1369, 0.03675698027597444), (1370, 0.009921758864985242), (1371, 0.005896894449653914), (1372, 0.012598363337499962), (1373, 0.004410956589414973), (1374, 0.004677069810306344), (1375, 0.011508003371770431), (1376, 0.0048970229139507675), (1377, 0.015992078923365387), (1378, 0.004548818907735418), (1379, 0.0048719140179184954), (1380, 0.011847102242400107), (1381, 0.01242037141683346), (1382, 0.011754938355996017), (1383, 0.04713630643767843), (1384, 0.013090846302144857), (1385, 0.017083075307979798), (1386, 0.004699479188891483), (1387, 0.01212524082114876), (1388, 0.0045985161006488785), (1389, 0.005052899214108592), (1390, 0.004968321254321707), (1391, 0.0153959139630374), (1392, 0.011148178862486367), (1393, 0.007633702461929678), (1394, 0.010631989164340782), (1395, 0.01108463125386443), (1396, 0.011539574098899563), (1397, 0.03246250239580075), (1398, 0.04930370881799357), (1399, 0.004780298641143717), (1400, 0.011398896859785653), (1401, 0.004911440628599138), (1402, 0.0068669234676085825), (1403, 0.01240486206735385), (1404, 0.004860640790126339), (1405, 0.007005112160514967), (1406, 0.011084625254347079), (1407, 0.013318268234700715), (1408, 0.010503066207072864), (1409, 0.011449459997057872), (1410, 0.011425417806941694), (1411, 0.01252243235259845), (1412, 0.015181019856020404), (1413, 0.011495780205899829), (1414, 0.009852715134514748), (1415, 0.0036098288719680015), (1416, 0.005041644310348083), (1417, 0.017195404404899497), (1418, 0.003654866669994771), (1419, 0.014146963884693761), (1420, 0.013816652937303948), (1421, 0.010879637320578193), (1422, 0.004476913212426844), (1423, 0.004408819119784345), (1424, 0.005123868498087364), (1425, 0.004637680021261115), (1426, 0.01166921813811075), (1427, 0.012759518122100508), (1428, 0.011340695620199452), (1429, 0.012692892812651953), (1430, 0.012889272684058446), (1431, 0.01126199040324761), (1432, 0.011558230621508726), (1433, 0.017792381744725503), (1434, 0.007207655836192624), (1435, 0.005041488282206459), (1436, 0.012248569452206877), (1437, 0.0057990139107940795), (1438, 0.011146130433024948), (1439, 0.00670448709142445), (1440, 0.011284833956330238), (1441, 0.0048779280343223385), (1442, 0.027095016755802892), (1443, 0.01364623079751253), (1444, 0.004243855157617795), (1445, 0.005014466908359628), (1446, 0.007083229997013938), (1447, 0.004616949277643949), (1448, 0.009942634086887687), (1449, 0.010930376404052018), (1450, 0.007321185497190618), (1451, 0.010705550562135761), (1452, 0.013703363633958333), (1453, 0.006521672196993492), (1454, 0.020289212735547436), (1455, 0.011325718153635313), (1456, 0.005218735021160386), (1457, 0.0073175718367301575), (1458, 0.012209432926888333), (1459, 0.008921605207731009), (1460, 0.007414819332645087), (1461, 0.009821639808263671), (1462, 0.01050778177546886), (1463, 0.0049804564164833), (1464, 0.006451762801802607), (1465, 0.010087450480780953), (1466, 0.007085081542950001), (1467, 0.0044457297839351605), (1468, 0.0046389636060918255), (1469, 0.01183192191209999), (1470, 0.004641874650162669), (1471, 0.012830785358290159), (1472, 0.013908175858033264), (1473, 0.0050167379304772095), (1474, 0.011480725557029229), (1475, 0.011680917846305922), (1476, 0.01137218293939064), (1477, 0.013126427419036702), (1478, 0.011893100137087538), (1479, 0.01595052021790827), (1480, 0.013452211149959934), (1481, 0.011903865539318834), (1482, 0.044028498343877696), (1483, 0.014305703900600208), (1484, 0.02084268606916824), (1485, 0.004006604283758012), (1486, 0.005293536450714316), (1487, 0.006074261111657332), (1488, 0.020044959525275203), (1489, 0.020796344648659922), (1490, 0.004668190591988445), (1491, 0.0045960505499787144), (1492, 0.005987210250686945), (1493, 0.01032332923495913), (1494, 0.011793868322980228), (1495, 0.004526839540651575), (1496, 0.004926498864765305), (1497, 0.008446976195700827), (1498, 0.01252771681930619), (1499, 0.0066135737546851765), (1500, 0.0048156068416493735), (1501, 0.004801063839078282), (1502, 0.011526339336296728), (1503, 0.0072195746947911425), (1504, 0.006837994615824746), (1505, 0.007235904438744844), (1506, 0.018218245865091923), (1507, 0.005196261147863982), (1508, 0.004584375796055424), (1509, 0.012112789892106398), (1510, 0.020433252727753825), (1511, 0.008696733514271346), (1512, 0.0063435130208580985), (1513, 0.006345353441603021), (1514, 0.010218409289038284), (1515, 0.004692044192839794), (1516, 0.012955459377867877), (1517, 0.007062731994965715), (1518, 0.005432968650422929), (1519, 0.010094404433668575), (1520, 0.00494644036672497), (1521, 0.004547470887518879), (1522, 0.004550897998868967), (1523, 0.006057433540851934), (1524, 0.00476537926396353), (1525, 0.004786015026181368), (1526, 0.00676222906274454), (1527, 0.011820925393251547), (1528, 0.012568321604027868), (1529, 0.004213046172416413), (1530, 0.006105711204969952), (1531, 0.011825484987191222), (1532, 0.004581871110875182), (1533, 0.012582355815954429), (1534, 0.004964754716592952), (1535, 0.003703214259280145), (1536, 0.004650932785258301), (1537, 0.017778494495257112), (1538, 0.005823293987625551), (1539, 0.0100054472754261), (1540, 0.009618611838757823), (1541, 0.004763169401191137), (1542, 0.012396253459284677), (1543, 0.012533188600617627), (1544, 0.0049479889368779385), (1545, 0.004409147455035985), (1546, 0.00829565744536334), (1547, 0.013539997031845007), (1548, 0.011973193189686166), (1549, 0.0043539853123125), (1550, 0.006629251844157698), (1551, 0.011327413660590422), (1552, 0.006265715664925404), (1553, 0.004325434841607833), (1554, 0.011417597613882193), (1555, 0.018413756931643443), (1556, 0.005901507144486153), (1557, 0.004766568300348082), (1558, 0.004280022961468023), (1559, 0.010193537416837197), (1560, 0.004675726948530055), (1561, 0.004378219322153999), (1562, 0.011878577601886054), (1563, 0.004785039140028244), (1564, 0.004769034456332486), (1565, 0.005928063854291074), (1566, 0.006395060538138679), (1567, 0.00638912049614215), (1568, 0.01475243410955796), (1569, 0.008555160411487382), (1570, 0.012289471804578875), (1571, 0.010537168512231382), (1572, 0.012977760094935219), (1573, 0.01155803831143823), (1574, 0.004518578229159551), (1575, 0.004877891401675393), (1576, 0.012936828338081215), (1577, 0.00869068888535927), (1578, 0.004833078668846439), (1579, 0.008016691959291708), (1580, 0.012074111165506034), (1581, 0.004454742074846623), (1582, 0.004692523016148203), (1583, 0.005084601876742106), (1584, 0.0049588927789043745), (1585, 0.004800552129070969), (1586, 0.008212750435574009), (1587, 0.012643682175075143), (1588, 0.012235182947158536), (1589, 0.008517465758841922), (1590, 0.011368277354397289), (1591, 0.011679894214575198), (1592, 0.004770622354162714), (1593, 0.010237849365278278), (1594, 0.012809376584074028), (1595, 0.018297997039627183), (1596, 0.006988354016728175), (1597, 0.004910647430873997), (1598, 0.010629163997563335), (1599, 0.004964734356993049), (1600, 0.004807584489839711), (1601, 0.005505067778849832), (1602, 0.0073359561787872726), (1603, 0.004733766225314132), (1604, 0.004445959667723456), (1605, 0.007848086027204389), (1606, 0.006378439302968513), (1607, 0.00460407912050032), (1608, 0.013275228561994428), (1609, 0.007958928930720845), (1610, 0.004341976998034245), (1611, 0.011449225338261397), (1612, 0.010904761589081054), (1613, 0.0051090856852864155), (1614, 0.01586627361515285), (1615, 0.005103088938604502), (1616, 0.011211248240297504), (1617, 0.006698559797943728), (1618, 0.004694706081880173), (1619, 0.008610800242178515), (1620, 0.006985394526978479), (1621, 0.010813052958512672), (1622, 0.011217588226891836), (1623, 0.014102838978231327), (1624, 0.004230789613681237), (1625, 0.0019616861503502746), (1626, 0.004646048848264842), (1627, 0.01640341191974115), (1628, 0.00969436755114273), (1629, 0.013275856979459535), (1630, 0.010855642931677463), (1631, 0.010735939971119116), (1632, 0.011191305763931495), (1633, 0.010992834039417015), (1634, 0.010778409738542553), (1635, 0.010478659703859897), (1636, 0.009140713161213397), (1637, 0.012703021708200363), (1638, 0.004630315577511054), (1639, 0.0043229741586395705), (1640, 0.005187569058130843), (1641, 0.004454381991170569), (1642, 0.010663384831205096), (1643, 0.011404507995889135), (1644, 0.00463765603108734), (1645, 0.013432935689670775), (1646, 0.006174236788423876), (1647, 0.05476311599073229), (1648, 0.004015332870496716), (1649, 0.004279144064889232), (1650, 0.011465517130474402), (1651, 0.004198848442742228), (1652, 0.025979881558175624), (1653, 0.020781551487197264), (1654, 0.004344795113627669), (1655, 0.0050518348722700425), (1656, 0.013546606521675775), (1657, 0.0317372307028564), (1658, 0.013968025401198052), (1659, 0.01174584622388233), (1660, 0.011828830344515581), (1661, 0.013386843863451991), (1662, 0.012079620034981874), (1663, 0.007896311418902863), (1664, 0.004240881194100997), (1665, 0.017877196094651826), (1666, 0.005351623528045808), (1667, 0.01093732839930598), (1668, 0.004766513528591425), (1669, 0.005462533483374221), (1670, 0.004539206672332291), (1671, 0.01726493978315767), (1672, 0.004067947617579092), (1673, 0.004789462525844928), (1674, 0.008466473527990506), (1675, 0.048521104393836764), (1676, 0.004105203351549558), (1677, 0.010332677611045362), (1678, 0.011341576203533056), (1679, 0.008881466020159516), (1680, 0.020389319167434698), (1681, 0.014746948748174135), (1682, 0.006937456028336647), (1683, 0.010437852367367745), (1684, 0.004179935509758254), (1685, 0.004417480761745654), (1686, 0.00422253190113431), (1687, 0.018393436968642037), (1688, 0.01195616002442697), (1689, 0.004941493381465032), (1690, 0.0121058032963826), (1691, 0.004574725763652161), (1692, 0.008331687194036102), (1693, 0.010402722367829798), (1694, 0.012670932321679665), (1695, 0.0037125327203870314), (1696, 0.010635728779667362), (1697, 0.004695914239701205), (1698, 0.00420588050358324), (1699, 0.009878284340339761), (1700, 0.004983241297733181), (1701, 0.011538340086288913), (1702, 0.05075048135819178), (1703, 0.006780351823254718), (1704, 0.00792508587482708), (1705, 0.007036075942820684), (1706, 0.010660124385928064), (1707, 0.004423063877971202), (1708, 0.01566208693030706), (1709, 0.004652476362701342), (1710, 0.004828395134642985), (1711, 0.0073833583443797535), (1712, 0.004660469027445114), (1713, 0.01377709757599114), (1714, 0.004714652629938507), (1715, 0.007510738836577392), (1716, 0.019361540010664376), (1717, 0.004704811612835204), (1718, 0.004881201546586944), (1719, 0.011741516581604662), (1720, 0.039180713917209446), (1721, 0.004414482443617581), (1722, 0.01097102355313158), (1723, 0.004896206158717066), (1724, 0.012277049208376769), (1725, 0.005059180248646138), (1726, 0.00468686933961875), (1727, 0.011383340184280107), (1728, 0.007467106948527681), (1729, 0.00439223427228134), (1730, 0.006294899716759188), (1731, 0.0067170791803382365), (1732, 0.004469313727224016), (1733, 0.01234626707263287), (1734, 0.004768509535831484), (1735, 0.007836150871530173), (1736, 0.013703468670366238), (1737, 0.0090307480403931), (1738, 0.004752772988371068), (1739, 0.010900136850625871), (1740, 0.01146001118823629), (1741, 0.004995745457963994), (1742, 0.00444765555947243), (1743, 0.004367393182203668), (1744, 0.00413177394111373), (1745, 0.00180791695071972), (1746, 0.004362611522913309), (1747, 0.004067839480987), (1748, 0.012004757570693969), (1749, 0.037192787765821536), (1750, 0.006423889769666345), (1751, 0.005820547521865082), (1752, 0.004145226928165043), (1753, 0.0017984607216067212), (1754, 0.011918156143390079), (1755, 0.006469736909766279), (1756, 0.004493231735982747), (1757, 0.03879675455031728), (1758, 0.005313693792410387), (1759, 0.012408435294351792), (1760, 0.011306009112000668), (1761, 0.01169683671877211), (1762, 0.006314295338882327), (1763, 0.03481731700389608), (1764, 0.012933194594393446), (1765, 0.013891841336489755), (1766, 0.005091181702092483), (1767, 0.005344956270688489), (1768, 0.004742197453875342), (1769, 0.004816134338637195), (1770, 0.00502144259309749), (1771, 0.0045515792784848914), (1772, 0.012340159319259861), (1773, 0.004406380739397649), (1774, 0.010327860535918745), (1775, 0.006606742332773478), (1776, 0.011737071713993411), (1777, 0.004975631455675411), (1778, 0.0048357547090324676), (1779, 0.01151970259490375), (1780, 0.0156487726418748), (1781, 0.009521275020591802), (1782, 0.0068968072773814), (1783, 0.004674184757089075), (1784, 0.004365460905688508), (1785, 0.0048617369390737755), (1786, 0.005088841165128101), (1787, 0.007866032553493206), (1788, 0.012396034988473068), (1789, 0.01830963760458119), (1790, 0.00490789472169939), (1791, 0.006028725885680878), (1792, 0.011732819764826638), (1793, 0.007490326343831853), (1794, 0.0044768171138959666), (1795, 0.004205138447764126), (1796, 0.01686104982707952), (1797, 0.0043937653926792285), (1798, 0.011997510283035312), (1799, 0.013631969719752335), (1800, 0.002065098338997447), (1801, 0.004195256883959525), (1802, 0.004551084289706442), (1803, 0.00517418677824113), (1804, 0.00439937904011147), (1805, 0.005141101307394187), (1806, 0.007026975012142786), (1807, 0.00450027969805719), (1808, 0.011630664757494366), (1809, 0.062042086102249594), (1810, 0.008765462165647699), (1811, 0.01786692081212241), (1812, 0.012432773199291123), (1813, 0.007186516347896502), (1814, 0.004627418734494418), (1815, 0.009773543903525571), (1816, 0.010455527278009616), (1817, 0.01288042476882351), (1818, 0.008497470625244339), (1819, 0.011000264036885098), (1820, 0.0046276472165185205), (1821, 0.054149866433380565), (1822, 0.0108621026780671), (1823, 0.004577514513530942), (1824, 0.004483772681756931), (1825, 0.004573085060741455), (1826, 0.0018043329080512415), (1827, 0.020334192837439886), (1828, 0.017508292260090402), (1829, 0.013061047694327086), (1830, 0.010187841408039203), (1831, 0.004545511466563842), (1832, 0.010819221350443806), (1833, 0.009859927488458486), (1834, 0.0020286644681489076), (1835, 0.0046785028982766815), (1836, 0.004703375411130776), (1837, 0.046792485638402645), (1838, 0.010743535137435641), (1839, 0.00781396967122675), (1840, 0.011579045310097609), (1841, 0.004776747039754792), (1842, 0.009143915364826831), (1843, 0.004729433412290896), (1844, 0.005011706570839207), (1845, 0.010641997201803664), (1846, 0.011312642253415273), (1847, 0.00456242720918015), (1848, 0.012313446675059937), (1849, 0.004778130963419421), (1850, 0.006443683902022214), (1851, 0.011433254295730427), (1852, 0.010965031108544944), (1853, 0.020003571562109267), (1854, 0.013565535381357217), (1855, 0.004617663651107435), (1856, 0.004549804985764417), (1857, 0.011356997580557495), (1858, 0.012115364660412273), (1859, 0.012216290702293724), (1860, 0.011690702317205285), (1861, 0.010693474440596007), (1862, 0.0047112242870730875), (1863, 0.004198492928427481), (1864, 0.01152143003679297), (1865, 0.012437787477149905), (1866, 0.014221034967795422), (1867, 0.006682440592116069), (1868, 0.008093923247919296), (1869, 0.004471982300193057), (1870, 0.0046128265108772515), (1871, 0.011737179599201463), (1872, 0.006304731452781154), (1873, 0.012016653265177882), (1874, 0.011950460904224431), (1875, 0.004271336357745935), (1876, 0.012936889372523989), (1877, 0.01026230281135872), (1878, 0.05400095900516098), (1879, 0.004658392912806426), (1880, 0.009259177905996306), (1881, 0.01131920443703729), (1882, 0.007673071529451384), (1883, 0.004620838008736559), (1884, 0.006441337610922276), (1885, 0.039187027411221514), (1886, 0.098417811968781), (1887, 0.00529708772724275), (1888, 0.004571413278957916), (1889, 0.004947931983101971), (1890, 0.0050981849144016225), (1891, 0.0059709793401887), (1892, 0.007090164962876342), (1893, 0.013409973676073512), (1894, 0.004597770100283602), (1895, 0.004524654130005331), (1896, 0.004747706394721994), (1897, 0.01153607951928594), (1898, 0.008521126656655378), (1899, 0.004224918456073635), (1900, 0.010244686219461693), (1901, 0.012172481207965295), (1902, 0.017730342574475328), (1903, 0.006734916924481223), (1904, 0.012167787638652665), (1905, 0.011022016950430539), (1906, 0.008429601514499367), (1907, 0.004836345113924544), (1908, 0.004592381990802474), (1909, 0.006812561726875169), (1910, 0.004865024870353506), (1911, 0.004971670675395362), (1912, 0.005828762513037379), (1913, 0.004723553080054124), (1914, 0.010184734915830286), (1915, 0.0047003607873394165), (1916, 0.004979766179679649), (1917, 0.006465639028826518), (1918, 0.012679416874939429), (1919, 0.012561769734301034), (1920, 0.004487551932618707), (1921, 0.006557232090051199), (1922, 0.010670490474775836), (1923, 0.004868426004467713), (1924, 0.0143404474568641), (1925, 0.013303450730418899), (1926, 0.0049422151104447035), (1927, 0.011122629510730626), (1928, 0.004815787243495443), (1929, 0.012414065854400561), (1930, 0.011927514560830728), (1931, 0.01818593944746209), (1932, 0.004217767625633464), (1933, 0.0114127589393282), (1934, 0.015500472253053517), (1935, 0.006621325771917633), (1936, 0.012631478862741638), (1937, 0.012988011501130834), (1938, 0.003703490078231238), (1939, 0.01330370653293327), (1940, 0.012753092745713651), (1941, 0.012261586205278851), (1942, 0.017914390765499322), (1943, 0.010445837264608892), (1944, 0.004536242973996069), (1945, 0.004508563047469922), (1946, 0.004931511448503949), (1947, 0.004879199052698893), (1948, 0.010175011937924638), (1949, 0.011914190561880396), (1950, 0.010183140214051593), (1951, 0.014706166907120947), (1952, 0.0049346112587885516), (1953, 0.010981791894005473), (1954, 0.00987814678192183), (1955, 0.0046794002903480375), (1956, 0.004751879365413374), (1957, 0.009507322125281235), (1958, 0.01130867987115291), (1959, 0.005138159598935193), (1960, 0.010968037645822524), (1961, 0.004883497628390139), (1962, 0.013695174165264784), (1963, 0.004553552153997209), (1964, 0.01073689377808094), (1965, 0.004738741274756066), (1966, 0.004357062014634268), (1967, 0.018440962213784908), (1968, 0.022350624197096165), (1969, 0.0066609492929605475), (1970, 0.011299562821008682), (1971, 0.011349584904726552), (1972, 0.00822993654747577), (1973, 0.004223119293123414), (1974, 0.004514530493046794), (1975, 0.011208958273400361), (1976, 0.03918242868541198), (1977, 0.10587620958095804), (1978, 0.00447778469551041), (1979, 0.004186884468861726), (1980, 0.014130294676879407), (1981, 0.004626644863651911), (1982, 0.09901540424545953), (1983, 0.01437769051042411), (1984, 0.007572165176574799), (1985, 0.018125523861632745), (1986, 0.0046070766597710155), (1987, 0.004570470070467783), (1988, 0.004352447698369074), (1989, 0.009912349090558898), (1990, 0.04459006910273742), (1991, 0.044995213183032914), (1992, 0.010999349927647626), (1993, 0.01130633085375649), (1994, 0.05010085229898775), (1995, 0.006589266311295172), (1996, 0.011256104029408173), (1997, 0.014801017396647954), (1998, 0.011846952669937684), (1999, 0.037270846777888715), (2000, 0.004743194338655983), (2001, 0.011095145891317347), (2002, 0.00674478815500492), (2003, 0.005815724539648046), (2004, 0.008727723232068926), (2005, 0.004233242056104808), (2006, 0.004418320661808571), (2007, 0.009901383436530286), (2008, 0.011257652097881626), (2009, 0.006812628019678109), (2010, 0.005891009784812781), (2011, 0.015835302004539246), (2012, 0.05648532849492606), (2013, 0.03227484901817396), (2014, 0.04707257117650259), (2015, 0.012899309372532938), (2016, 0.01174661057504452), (2017, 0.012413478050778129), (2018, 0.025938034763301917), (2019, 0.004333721729564915), (2020, 0.029939550818333608), (2021, 0.005053441337607215), (2022, 0.004883708340445711), (2023, 0.006457749762739247), (2024, 0.018141785496727313), (2025, 0.005740684458369547), (2026, 0.049307567281116856), (2027, 0.008957807052586047), (2028, 0.0047126161684519965), (2029, 0.004720995725646221), (2030, 0.00473547358078126), (2031, 0.010956710756735747), (2032, 0.005447226669046299), (2033, 0.008668267127560494), (2034, 0.01265017355147835), (2035, 0.004620245632537216), (2036, 0.004430392169207525), (2037, 0.02002154200441251), (2038, 0.005973072813004416), (2039, 0.006744578197350954), (2040, 0.01847373902978891), (2041, 0.004736747957047293), (2042, 0.004529426701441623), (2043, 0.00666913463700956), (2044, 0.012089370620188793), (2045, 0.017764993849924228), (2046, 0.008370550890459101), (2047, 0.00714525244359346), (2048, 0.01003250348265712), (2049, 0.011228985333631366), (2050, 0.004480578198865286), (2051, 0.004685176944946419), (2052, 0.003972084528713199), (2053, 0.02030003067026552), (2054, 0.00506226256469357), (2055, 0.010833294150004774), (2056, 0.004489097017192491), (2057, 0.010973675703905554), (2058, 0.004768719506485051), (2059, 0.003969731062225052), (2060, 0.013279785730536897), (2061, 0.01215070080475622), (2062, 0.012987601772001124), (2063, 0.0020757747817274417), (2064, 0.004372060582279741), (2065, 0.010131402287551704), (2066, 0.0122881876099093), (2067, 0.01414122438125706), (2068, 0.00458091098323147), (2069, 0.012639357765555023), (2070, 0.011322642748626535), (2071, 0.004366262380011125), (2072, 0.005168140295319538), (2073, 0.004662814191291553), (2074, 0.0122906779478839), (2075, 0.020346524625784217), (2076, 0.010508506004802272), (2077, 0.005066344087341179), (2078, 0.011342627998408255), (2079, 0.01191063100668852), (2080, 0.012709718765173732), (2081, 0.00479685793275402), (2082, 0.03759135320780759), (2083, 0.008130286066638487), (2084, 0.010627145957174578), (2085, 0.004932468939481285), (2086, 0.004700873270310586), (2087, 0.004129134144417636), (2088, 0.01861482763999542), (2089, 0.011854425221444444), (2090, 0.0048616350516311295), (2091, 0.017961504950493652), (2092, 0.0066957475177549), (2093, 0.009823050590451248), (2094, 0.014057689362225588), (2095, 0.00423856700552137), (2096, 0.011953698601840798), (2097, 0.005378264689350459), (2098, 0.003879586035852747), (2099, 0.014435563953976691), (2100, 0.046292230446545776), (2101, 0.005282134038265749), (2102, 0.038333335260000274), (2103, 0.0046597657865930665), (2104, 0.013814741902834056), (2105, 0.0047081574746818166), (2106, 0.004833871066386193), (2107, 0.004407903907400533), (2108, 0.011096325497055106), (2109, 0.0047671057837170155), (2110, 0.010147947825429146), (2111, 0.012824981854330756), (2112, 0.07199555768525134), (2113, 0.0017166621240990434), (2114, 0.00798408442010629), (2115, 0.004836224821861096), (2116, 0.012799758415211863), (2117, 0.0108125848911122), (2118, 0.005012750460224919), (2119, 0.01097667683918102), (2120, 0.003996739789317922), (2121, 0.01132180031903133), (2122, 0.04469435904839876), (2123, 0.04589527043126736), (2124, 0.004614222446953375), (2125, 0.004725265878222923), (2126, 0.012091219623955743), (2127, 0.007766128467191478), (2128, 0.004612443979161808), (2129, 0.004244243778035155), (2130, 0.0050908189515934295), (2131, 0.01123712417668081), (2132, 0.007275137718019884), (2133, 0.00496103258623273), (2134, 0.008817485608433531), (2135, 0.002002045651702971), (2136, 0.011565895674783243), (2137, 0.01615456838054748), (2138, 0.008548956261110359), (2139, 0.0104182182496486), (2140, 0.005208236512517759), (2141, 0.004370569488181417), (2142, 0.004950570680570739), (2143, 0.010727691512398625), (2144, 0.004703407033210087), (2145, 0.006288738129338041), (2146, 0.008247815673501361), (2147, 0.051111410183633035), (2148, 0.012478512827497094), (2149, 0.006124674588711911), (2150, 0.0045474902616893225), (2151, 0.012035663382384196), (2152, 0.0019308607858540248), (2153, 0.0044510702268709314), (2154, 0.012394924579400985), (2155, 0.04511074036308127), (2156, 0.004860383605114873), (2157, 0.034913525376585555), (2158, 0.00523611936480263), (2159, 0.004489367209974778), (2160, 0.006986784311362813), (2161, 0.004134075313976726), (2162, 0.007454708443992858), (2163, 0.006168339243241442), (2164, 0.004680612011735972), (2165, 0.004909493765949943), (2166, 0.012536404250011002), (2167, 0.006725554725383602), (2168, 0.007615302509818145), (2169, 0.004563885182881875), (2170, 0.006573039425729274), (2171, 0.004740051876441723), (2172, 0.005443738574538202), (2173, 0.001937282221330817), (2174, 0.01037119679638874), (2175, 0.004940571347607944), (2176, 0.004502759063743234), (2177, 0.004671943363376837), (2178, 0.004599694829465753), (2179, 0.008880321391136687), (2180, 0.0053216288711813615), (2181, 0.012272584979837183), (2182, 0.009216048446578655), (2183, 0.004446105813440725), (2184, 0.005760682067859103), (2185, 0.005238189082734098), (2186, 0.0), (2187, 0.05623045809727657), (2188, 0.013647152585392824), (2189, 0.005796937238815041), (2190, 0.004923654257622831), (2191, 0.012049862021318424), (2192, 0.012692578909005658), (2193, 0.01214816930086552), (2194, 0.004956916808654285), (2195, 0.004686679423323832), (2196, 0.012754875201257064), (2197, 0.012819177700985371), (2198, 0.0368349408844939), (2199, 0.01292226387330005), (2200, 0.004341807930580932), (2201, 0.014259676670760007), (2202, 0.004579305576301531), (2203, 0.004974199347442261), (2204, 0.006339224874686347), (2205, 0.004503408625232542), (2206, 0.010912207322745103), (2207, 0.006477517250647713), (2208, 0.012435535123687799), (2209, 0.01087418238472694), (2210, 0.018692787185850258), (2211, 0.009436741308290402), (2212, 0.047189983283706625), (2213, 0.004468525394882259), (2214, 0.06039052226441182), (2215, 0.004592499582136185), (2216, 0.01147742668013061), (2217, 0.004803418101718351), (2218, 0.005293198156154552), (2219, 0.005124481879497398), (2220, 0.004614613654355519), (2221, 0.011982087073942823), (2222, 0.004761167563981268), (2223, 0.004627824739552236), (2224, 0.01990131285982654), (2225, 0.006341191010589511), (2226, 0.009049171407087109), (2227, 0.004084026445518814), (2228, 0.005305038129380353), (2229, 0.019675944651812594), (2230, 0.010450446112134103), (2231, 0.013506057691185229), (2232, 0.011046873010868607), (2233, 0.004622491116048693), (2234, 0.0049794089172675166), (2235, 0.00782470665954314), (2236, 0.012885015766930397), (2237, 0.013555737856173746), (2238, 0.0020815943805610406), (2239, 0.0048255772931450535), (2240, 0.003822849559610519), (2241, 0.005487041912152644), (2242, 0.013126976308165159), (2243, 0.004539298619549477), (2244, 0.009816629414740619), (2245, 0.012208570087866036), (2246, 0.011436002571717445), (2247, 0.005219659685142291), (2248, 0.009658746329581164), (2249, 0.005204260573035008), (2250, 0.01288448082992713), (2251, 0.010508202372744123), (2252, 0.005055026928775347), (2253, 0.005066425553816836), (2254, 0.019765889595577294), (2255, 0.015055625533126175), (2256, 0.00446905214801727), (2257, 0.005436668614547811), (2258, 0.005048816687961877), (2259, 0.004729825675225364), (2260, 0.010779278982970852), (2261, 0.008273143571514421), (2262, 0.004547535398016056), (2263, 0.005522305707940812), (2264, 0.012337647484112079), (2265, 0.006826466490642173), (2266, 0.005821778070331808), (2267, 0.007238498914035822), (2268, 0.004590816021663177), (2269, 0.016920160864063935), (2270, 0.01034268588813619), (2271, 0.0053333803757470155), (2272, 0.004716723604267456), (2273, 0.012604771979787533), (2274, 0.004265004631802736), (2275, 0.008750388282831197), (2276, 0.012684514419879573), (2277, 0.010565111050114442), (2278, 0.010792252689431878), (2279, 0.009764640696870731), (2280, 0.011012244222301524), (2281, 0.005974197093127711), (2282, 0.007626384934657268), (2283, 0.01139411554951335), (2284, 0.015200975139928446), (2285, 0.010413704406396267), (2286, 0.005251579734021127), (2287, 0.004102849119356222), (2288, 0.006385604105722165), (2289, 0.001846746507123981), (2290, 0.005097868926090293), (2291, 0.00491919392529719), (2292, 0.010978565391148219), (2293, 0.005158893559373651), (2294, 0.03445179818178233), (2295, 0.013362110797275593), (2296, 0.004762158956691308), (2297, 0.004778568778533334), (2298, 0.006625359958899093), (2299, 0.007082930087212392), (2300, 0.005005485420240316), (2301, 0.004721586956009173), (2302, 0.01292238202713103), (2303, 0.011776345604490028), (2304, 0.007154306334768363), (2305, 0.004773819098929873), (2306, 0.0051953024661043744), (2307, 0.004507707851027439), (2308, 0.04549291745984477), (2309, 0.014990554936868742), (2310, 0.00558669118725349), (2311, 0.004832577074279431), (2312, 0.005846925648270652), (2313, 0.01342703540424626), (2314, 0.011433571603948083), (2315, 0.00465936988682983), (2316, 0.04065771954257418), (2317, 0.005122583134164348), (2318, 0.05674371536029105), (2319, 0.004987570139340244), (2320, 0.01409763026504739), (2321, 0.04753042490088494), (2322, 0.005443305371509926), (2323, 0.004136247127973515), (2324, 0.014897445725246497), (2325, 0.004918239408133353), (2326, 0.007328885804339415), (2327, 0.004518316680809939), (2328, 0.005256402022645565), (2329, 0.004114181394792704), (2330, 0.013267042890595309), (2331, 0.004900817430606438), (2332, 0.005415439266540877), (2333, 0.005402120709817814), (2334, 0.018645221487429274), (2335, 0.0044771252833429274), (2336, 0.010714681492066766), (2337, 0.0050239662549023175), (2338, 0.007836234285439612), (2339, 0.0056852696115356725), (2340, 0.012787647214813264), (2341, 0.004634284149725486), (2342, 0.005446783875953725), (2343, 0.004847338038465434), (2344, 0.018625688560635623), (2345, 0.002053356743477908), (2346, 0.012995883512648698), (2347, 0.004373824817658321), (2348, 0.01900117101106136), (2349, 0.005684053391014307), (2350, 0.005377990413330782), (2351, 0.005226066482088598), (2352, 0.006233717020007131), (2353, 0.006881557603919328), (2354, 0.0048057410183215766), (2355, 0.015090197085962398), (2356, 0.011191674747233817), (2357, 0.005188237619584957), (2358, 0.008487230281329156), (2359, 0.004764645216610328), (2360, 0.00495657397684219), (2361, 0.00817679974818038), (2362, 0.006001747738757639), (2363, 0.005110877163717194), (2364, 0.004278066336229652), (2365, 0.040005148301397335), (2366, 0.00418075181840267), (2367, 0.0044176700308132255), (2368, 0.005843623593477104), (2369, 0.00436960199022236), (2370, 0.004807593234852227), (2371, 0.0492862889068721), (2372, 0.004664151822408483), (2373, 0.0017888982624438123), (2374, 0.011571873162407306), (2375, 0.05528211261775367), (2376, 0.004865597987207723), (2377, 0.006520741546300538), (2378, 0.008716528414089353), (2379, 0.01596809203747667), (2380, 0.004381924571037565), (2381, 0.005075607303604922), (2382, 0.010508053145195817), (2383, 0.01309988632072081), (2384, 0.005549281802975584), (2385, 0.012250482477813913), (2386, 0.006378661908042921), (2387, 0.01217381039284623), (2388, 0.01231938459031553), (2389, 0.0038012039339431506), (2390, 0.012791110113696883), (2391, 0.013980792719698893), (2392, 0.00556209403614916), (2393, 0.004767706146603148), (2394, 0.04327682377390643), (2395, 0.005792070263402284), (2396, 0.010960766828004561), (2397, 0.011555537984037292), (2398, 0.005924614545601678), (2399, 0.012389681926339269), (2400, 0.007002780201514278), (2401, 0.009359845527161624), (2402, 0.01047523043544591), (2403, 0.011655338837721536), (2404, 0.013610227964696731), (2405, 0.006813790334684766), (2406, 0.02084393369267556), (2407, 0.008149304886016107), (2408, 0.004487272516924648), (2409, 0.012177310729876342), (2410, 0.013872826030018121), (2411, 0.004750805131777132), (2412, 0.0185472642410322), (2413, 0.04856248282907063), (2414, 0.004544520163849467), (2415, 0.005439819896575733), (2416, 0.005657678117203775), (2417, 0.0485407841780339), (2418, 0.004918300954684899), (2419, 0.004870010940045066), (2420, 0.007068232758135989), (2421, 0.013988869126982603), (2422, 0.011588114091182461), (2423, 0.012862152310780183), (2424, 0.006177081676133628), (2425, 0.00544483499946331), (2426, 0.001730584898000681), (2427, 0.022210178640420318), (2428, 0.01979795077550327), (2429, 0.010890301062573268), (2430, 0.008670735619547806), (2431, 0.005995692023811351), (2432, 0.010197136721001759), (2433, 0.0056790953938822535), (2434, 0.01278393416841333), (2435, 0.004719835936388932), (2436, 0.005494009303939756), (2437, 0.004939401880321951), (2438, 0.009603269875502307), (2439, 0.004447939371372516), (2440, 0.01805660045840944), (2441, 0.010200903823623464), (2442, 0.011242405613313893), (2443, 0.015098993210298277), (2444, 0.0046560608646897175), (2445, 0.004500059563498434), (2446, 0.010877584945319155), (2447, 0.01850692796748796), (2448, 0.005645345546869027), (2449, 0.04267635036069683), (2450, 0.0), (2451, 0.005188841357939618), (2452, 0.010190479564513908), (2453, 0.00509342545941808), (2454, 0.005213721332887179), (2455, 0.0052100775150423235), (2456, 0.00519800303816312), (2457, 0.004285014279037588), (2458, 0.004722704621381138), (2459, 0.023733210999482342), (2460, 0.00407535608359702), (2461, 0.012390934875616693), (2462, 0.004592873327705738), (2463, 0.004680480488719111), (2464, 0.011712871922847817), (2465, 0.0048878186099717905), (2466, 0.00425026770992234), (2467, 0.03727914715173345), (2468, 0.012967952775269754), (2469, 0.003567093676595901), (2470, 0.005183373296809931), (2471, 0.004310912063611724), (2472, 0.006933805074553755), (2473, 0.010846789415349613), (2474, 0.007482121771311617), (2475, 0.001863713603876343), (2476, 0.05189138907556007), (2477, 0.014137610254580157), (2478, 0.01156959481857194), (2479, 0.002158341357935895), (2480, 0.011261742635208535), (2481, 0.006368794138463479), (2482, 0.004354054735778467), (2483, 0.005703681593903812), (2484, 0.01872287249891629), (2485, 0.005523921002613933), (2486, 0.013229242866682518), (2487, 0.004800418954974099), (2488, 0.014321681065183204), (2489, 0.010846202964064876), (2490, 0.005888857228757223), (2491, 0.006706282575371321), (2492, 0.013886294297398618), (2493, 0.0049685767580635596), (2494, 0.005338540545183571), (2495, 0.01284322096467409), (2496, 0.016712035894003052), (2497, 0.006478702089738414), (2498, 0.004740682318601606), (2499, 0.006339564059676308), (2500, 0.005782373347851855), (2501, 0.012754814208204412), (2502, 0.004832020473678032), (2503, 0.004910618599042486), (2504, 0.005519250750492186), (2505, 0.017971470157740838), (2506, 0.011794453754788782), (2507, 0.010554572775653167), (2508, 0.004648558301635526), (2509, 0.010278329916583335), (2510, 0.007496890407321726), (2511, 0.0052391984784621575), (2512, 0.011691422579781514), (2513, 0.005164909017448367), (2514, 0.0044336191266704655), (2515, 0.005143116230549695), (2516, 0.005124508098681091), (2517, 0.03407522175508055), (2518, 0.005592645003528794), (2519, 0.011430279057196546), (2520, 0.007824993579219695), (2521, 0.005836141009920618), (2522, 0.019042262206328757), (2523, 0.004541495308000124), (2524, 0.010829328383819701), (2525, 0.004424741197101995), (2526, 0.004179278882109984), (2527, 0.012217023947058151), (2528, 0.007173086663666114), (2529, 0.01471711759592982), (2530, 0.06611241422251285), (2531, 0.007460097426459808), (2532, 0.005081059212283785), (2533, 0.009113213134635516), (2534, 0.0044574992952511015), (2535, 0.006976369544732323), (2536, 0.005577190682197126), (2537, 0.01328209808130787), (2538, 0.004182393343822144), (2539, 0.0059839425858500914), (2540, 0.055605478138649814), (2541, 0.015781773912401188), (2542, 0.0044497495330110305), (2543, 0.005768099218256814), (2544, 0.0059144076380463085), (2545, 0.004488225764317268), (2546, 0.01188940634361565), (2547, 0.006908768953943635), (2548, 0.004172523325061651), (2549, 0.004465873571351426), (2550, 0.006157204265681469), (2551, 0.004434824178715222), (2552, 0.004926163103380231), (2553, 0.010777322988586963), (2554, 0.011171144342561222), (2555, 0.019638763645735347), (2556, 0.009085779544774308), (2557, 0.005103337197528883), (2558, 0.10073243626564034), (2559, 0.013104828988774821), (2560, 0.006081902641301493), (2561, 0.012915027136061782), (2562, 0.007862421858405176), (2563, 0.005118734715055596), (2564, 0.005323414180443126), (2565, 0.0048920973842843645), (2566, 0.005831347570485762), (2567, 0.014414297526816687), (2568, 0.005637924113085247), (2569, 0.01575022075791831), (2570, 0.0054695721008426595), (2571, 0.013537931374189528), (2572, 0.004973081557324701), (2573, 0.009628621113152956), (2574, 0.0046170434812589575), (2575, 0.005101935249778863), (2576, 0.013284207097054163), (2577, 0.013127023801253863), (2578, 0.012080186794161783), (2579, 0.05710773468323833), (2580, 0.01223710335305975), (2581, 0.00916750004165794), (2582, 0.0055471263960141185), (2583, 0.005083743231312747), (2584, 0.0018598473094270755), (2585, 0.005644355751324375), (2586, 0.004430106683594759), (2587, 0.01056917965007384), (2588, 0.007694479584782012), (2589, 0.004298755341610087), (2590, 0.004991107029512987), (2591, 0.012827174124213546), (2592, 0.012560996481589069), (2593, 0.004518580349535259), (2594, 0.004410787675635036), (2595, 0.011458642252128982), (2596, 0.0019139495355726126), (2597, 0.006806649825198016), (2598, 0.013479441742658825), (2599, 0.013048490284932745), (2600, 0.005321487328374051), (2601, 0.012976711128234134), (2602, 0.012452285711774577), (2603, 0.010180506315485418), (2604, 0.005360214640237407), (2605, 0.004657155252614219), (2606, 0.011471263688936282), (2607, 0.017700524608604447), (2608, 0.004132246218835124), (2609, 0.013671231172523923), (2610, 0.011446512074245137), (2611, 0.011405604601545188), (2612, 0.004489630200473263), (2613, 0.004949461456574472), (2614, 0.013012983616290582), (2615, 0.004349739845379815), (2616, 0.004590012300139808), (2617, 0.017101093025273476), (2618, 0.011693999435876162), (2619, 0.01398854390506213), (2620, 0.008151467197508831), (2621, 0.009947998633152062), (2622, 0.01066179655800554), (2623, 0.004876645376492044), (2624, 0.005490229771536372), (2625, 0.00553257357945525), (2626, 0.011869778777304543), (2627, 0.004070180064568369), (2628, 0.00790335455602616), (2629, 0.004818935200155819), (2630, 0.06314171996888858), (2631, 0.0), (2632, 0.013457096915308966), (2633, 0.012531404895252077), (2634, 0.011270415918858662), (2635, 0.0048459136115417845), (2636, 0.006055474820612781), (2637, 0.00815205778661562), (2638, 0.020558004675293146), (2639, 0.00463108915143448), (2640, 0.01367847381119476), (2641, 0.0044259575849146405), (2642, 0.011928462434785805), (2643, 0.013216662354071087), (2644, 0.004418286332828498), (2645, 0.02061491837169981), (2646, 0.03888790132377044), (2647, 0.01880928496897995), (2648, 0.004737306672791765), (2649, 0.014342417645411608), (2650, 0.012151773175603854), (2651, 0.005061449124293852), (2652, 0.011913700373947258), (2653, 0.004547565526610453), (2654, 0.006253765529982327), (2655, 0.013783454995684546), (2656, 0.005521616964772035), (2657, 0.008402012032696313), (2658, 0.00817763012632475), (2659, 0.002451106149861115), (2660, 0.006226163718915231), (2661, 0.004295173583376742), (2662, 0.004595169774933652), (2663, 0.006517751916057801), (2664, 0.00467737799352499), (2665, 0.004874446654341098), (2666, 0.004248675580887883), (2667, 0.005798930263245253), (2668, 0.014903996971232139), (2669, 0.012755966472290863), (2670, 0.006839950821127357), (2671, 0.0042429767858962585), (2672, 0.005146160772448745), (2673, 0.005809760609756975), (2674, 0.006757582752901054), (2675, 0.00536453888619281), (2676, 0.004882164658723542), (2677, 0.004783636316219048), (2678, 0.006476564361585125), (2679, 0.004362606483095899), (2680, 0.013563377313557251), (2681, 0.00454775145110458), (2682, 0.011301409776215656), (2683, 0.012230523001904837), (2684, 0.00595595201410906), (2685, 0.004629195726886829), (2686, 0.003747208838514823), (2687, 0.04485158861394621), (2688, 0.007643108714655962), (2689, 0.015637977004278557), (2690, 0.0072040123014408975), (2691, 0.006636299325200793), (2692, 1.0), (2693, 0.004583525696883655), (2694, 0.05301284457803527), (2695, 0.01838823885707886), (2696, 0.015084549226729577), (2697, 0.012643972124928786), (2698, 0.005819162335930875), (2699, 0.004683884693754539), (2700, 0.002020601274740922), (2701, 0.006629457719584368), (2702, 0.01136125364180764), (2703, 0.006597819291598705), (2704, 0.004937610618377644), (2705, 0.003887839199898126), (2706, 0.03847462936867918), (2707, 0.016526952067846094), (2708, 0.006372633095641712), (2709, 0.0052872884940967394), (2710, 0.04553020458335569), (2711, 0.012422200586659032), (2712, 0.007086640463407018), (2713, 0.004551254047961241), (2714, 0.018287639081376802), (2715, 0.0077075560510400515), (2716, 0.05407247072178963), (2717, 0.006233062832215211), (2718, 0.03509929349181196), (2719, 0.005071286484299026), (2720, 0.013752181442947469), (2721, 0.01124455155403013), (2722, 0.015827077143345088), (2723, 0.04087212301669258), (2724, 0.013157272284101386), (2725, 0.011610780199036354), (2726, 0.004624508707880349), (2727, 0.012345864946298834), (2728, 0.011713603849895938), (2729, 0.00461544278190637), (2730, 0.006328655575199998), (2731, 0.005696647794555844), (2732, 0.004650417514043975), (2733, 0.011674940729176901), (2734, 0.005888573997771289), (2735, 0.0), (2736, 0.012799133182899856), (2737, 0.006848004090956745), (2738, 0.013127335355375061), (2739, 0.012330750490927953), (2740, 0.013462402238285511), (2741, 0.0017994522874789996), (2742, 0.01127995190562702), (2743, 0.008361311446936245), (2744, 0.005809850115077321), (2745, 0.006801330054820491), (2746, 0.011795218683898377), (2747, 0.0072806249463404785), (2748, 0.010590300444736446), (2749, 0.004597732194460661), (2750, 0.005546880916084058), (2751, 0.015430981556884927), (2752, 0.012807380792119644), (2753, 0.004833710733861055), (2754, 0.0044958191864769795), (2755, 0.01726255186913893), (2756, 0.0027150986044458063), (2757, 0.006450633942992492), (2758, 0.01118856926119256), (2759, 0.0111915430987146), (2760, 0.040216268778701825), (2761, 0.004034589968256649), (2762, 0.006532666607854292), (2763, 0.00521396640992494), (2764, 0.012721636295572953), (2765, 0.005028893043310055), (2766, 0.004697126185751511), (2767, 0.037965393933556885), (2768, 0.0166730044738514), (2769, 0.007676007816439443), (2770, 0.006655764570000115), (2771, 0.011330724036610972), (2772, 0.012181752550143067), (2773, 0.006611831013301693), (2774, 0.003961288741485601), (2775, 0.005655486847840069), (2776, 0.013518942398570738), (2777, 0.005949002854591893), (2778, 0.016585756510003057), (2779, 0.004590041467553695), (2780, 0.012849231346093792), (2781, 0.005409744438799303), (2782, 0.050648809989952095), (2783, 0.0046000156026047186), (2784, 0.01121153615860548), (2785, 0.005567147789399726), (2786, 0.011973313030204649), (2787, 0.011463051566540287), (2788, 0.015187231132480798), (2789, 0.010505801310533353), (2790, 0.005121235417766228), (2791, 0.011418062910263175), (2792, 0.004646998742164987), (2793, 0.0051580980662128215), (2794, 0.007918759542295081), (2795, 0.022331294775211674), (2796, 0.00470376994829022), (2797, 0.01255480871611825), (2798, 0.004920399157798466), (2799, 0.005855220030839521), (2800, 0.00458214885521765), (2801, 0.011225075583557141), (2802, 0.005304872311067042), (2803, 0.018357760821637245), (2804, 0.00588862635109085), (2805, 0.004098172879522146), (2806, 0.0046863054338470225), (2807, 0.0071224230185956815), (2808, 0.018069968260206324), (2809, 0.011240419710049354), (2810, 0.005530385595429661), (2811, 0.004424638132899606), (2812, 0.010434210942032708), (2813, 0.00690452037690948), (2814, 0.00713665772119733), (2815, 0.004648437610005969), (2816, 0.006875156729863022), (2817, 0.005447762562572559), (2818, 0.00654924759650725), (2819, 0.013808095889509264), (2820, 0.012274448131654864), (2821, 0.004807325412940317), (2822, 0.0044363222679330225), (2823, 0.006175863599005959), (2824, 0.004731534886989165), (2825, 0.006633902161318771), (2826, 0.012380205307832234), (2827, 0.00427160717970216), (2828, 0.00794018665717072), (2829, 0.004998594826236403), (2830, 0.01223727130939652), (2831, 0.012025099110346563), (2832, 0.0), (2833, 0.004796618304350304), (2834, 0.014419390800312131), (2835, 0.006943762772411948), (2836, 0.0047440073884064595), (2837, 0.005193413348434922), (2838, 0.006219107756967237), (2839, 0.004247223627559537), (2840, 0.014495009690647152), (2841, 0.004865878602223211), (2842, 0.003972341873541426), (2843, 0.004547575851880765), (2844, 0.011480602484112727), (2845, 0.005415420857977739), (2846, 0.05655490937795851), (2847, 0.011519406216918573), (2848, 0.005076854455414591), (2849, 0.008339182866771308), (2850, 0.004566324901467516), (2851, 0.0059070780894987015), (2852, 0.0099723262698312), (2853, 0.005045810635727628), (2854, 0.02274530877275286), (2855, 0.004649274307925612), (2856, 0.00669793671850219), (2857, 0.015806046541918403), (2858, 0.015900552705213088), (2859, 0.04298904473665237), (2860, 0.004949162907116509), (2861, 0.005585849642493777), (2862, 0.010718592337493732), (2863, 0.013626664476922772), (2864, 0.005190395999912051), (2865, 0.00498354065732769), (2866, 0.004405471943607306), (2867, 0.004219528786191343), (2868, 0.0386764883031875), (2869, 0.006153101739206112), (2870, 0.00810691881211489), (2871, 0.01003181981439127), (2872, 0.011562234755553498), (2873, 0.005982288152459241), (2874, 0.004878738142442844), (2875, 0.005361136344519374), (2876, 0.010562973479303872), (2877, 0.005042068351789603), (2878, 0.007367149288872341), (2879, 0.01275767347464011), (2880, 0.004532739791733046), (2881, 0.018578009622220608), (2882, 0.013351111564149056), (2883, 0.005642007413122423), (2884, 0.01322900718566374), (2885, 0.026109011422128996), (2886, 0.007573764965174592), (2887, 0.04118155635497263), (2888, 0.011161212409051402), (2889, 0.002658089857751792), (2890, 0.007232029591586097), (2891, 0.005817198378768243), (2892, 0.007990678771018568), (2893, 0.061094966676521624), (2894, 0.005053459156834204), (2895, 0.012192251155708846), (2896, 0.004650948014173782), (2897, 0.004864191583431039), (2898, 0.006597768575996709), (2899, 0.01735818312332759), (2900, 0.005550228263985558), (2901, 0.0053647788124298185), (2902, 0.00622632667385241), (2903, 0.12584885507828886), (2904, 0.0050686201475778556), (2905, 0.0044720564665769276), (2906, 0.00444446705118339), (2907, 0.007711178577255014), (2908, 0.018227715853689624), (2909, 0.005172404354953587), (2910, 0.01902433850937887), (2911, 0.005077882060288319), (2912, 0.011430580007781814), (2913, 0.003927157937532136), (2914, 0.004862632522587536), (2915, 0.004461620256087652), (2916, 0.0020516985661864287), (2917, 0.009924972763488143), (2918, 0.01655123042579793), (2919, 0.018704216308744914), (2920, 0.045744175237809465), (2921, 0.005146788496916663), (2922, 0.005713625323853468), (2923, 0.005536564467679077), (2924, 0.004969737135658965), (2925, 0.017855591192103372), (2926, 0.004379683857370614), (2927, 0.004953590939871113), (2928, 0.005275683512496809), (2929, 0.010898403797801924), (2930, 0.0044708841557705836), (2931, 0.006966268511278951), (2932, 0.021530582423579032), (2933, 0.0017330710802588433), (2934, 0.010282264965142406), (2935, 0.008184957602872958), (2936, 0.0047530606893473205), (2937, 0.014024208866806581), (2938, 0.004412833410325244), (2939, 0.014493960215360386), (2940, 0.011589085510059804), (2941, 0.007847457373364333), (2942, 0.004493300448974605), (2943, 0.012980536684002205), (2944, 0.04575312595657796), (2945, 0.011280493573588558), (2946, 0.0017957014247567936), (2947, 0.012917850064661458), (2948, 0.005295423466193584), (2949, 0.015169174060792764), (2950, 0.00435551156967127), (2951, 0.005328282636101935), (2952, 0.00586250395813887), (2953, 0.004820969896626513), (2954, 0.011007849247065207), (2955, 0.004454674148425503), (2956, 0.01016512993512481), (2957, 0.005981084539579766), (2958, 0.00456471964760673), (2959, 0.013178189000500242), (2960, 0.00694070496029461), (2961, 0.017759433668919574), (2962, 0.004425094638776396), (2963, 0.012310400542364031), (2964, 0.004861232766155346), (2965, 0.004688620495683816), (2966, 0.004628647079081547), (2967, 0.004945958936326906), (2968, 0.005022854257809212), (2969, 0.011266193571415624), (2970, 0.012892083394302912), (2971, 0.027961492212729352), (2972, 0.011571542759664325), (2973, 0.0047059206870436205), (2974, 0.004749992408190353), (2975, 0.005097928878995661), (2976, 0.004025029920355319), (2977, 0.006996017762108614), (2978, 0.01229862081006962), (2979, 0.0064418873347720325), (2980, 0.006689187943314223), (2981, 0.04531951892799683), (2982, 0.009021600367662974), (2983, 0.005365560548051684), (2984, 0.010524809771854257), (2985, 0.004445746932968673), (2986, 0.01184223408755646), (2987, 0.004934340268816967), (2988, 0.011981773358061299), (2989, 0.005783406017294743), (2990, 0.00551110137407633), (2991, 0.012242676624141507), (2992, 0.011176321837046335), (2993, 0.005283418074796167), (2994, 0.004787818087555182), (2995, 0.004606811837366002), (2996, 0.019493146987920353), (2997, 0.0018990617102074803), (2998, 0.014680816367734894), (2999, 0.009946992997584721), (3000, 0.004839336517807217), (3001, 0.005167917149245738), (3002, 0.004448106247313665), (3003, 0.014732750556384268), (3004, 0.04393617160903391), (3005, 0.01173543758440175), (3006, 0.004589019287208673), (3007, 0.006478930265082696), (3008, 0.008750853323070053), (3009, 0.0058697939985664525), (3010, 0.03866942184580131), (3011, 0.00784701115232629), (3012, 0.018058588180166014), (3013, 0.007179329511689054), (3014, 0.004546809703601061), (3015, 0.005253479211567269), (3016, 0.010282749327988398), (3017, 0.03763984579803434), (3018, 0.00614898516628602), (3019, 0.019176685842242126), (3020, 0.012278311945820483), (3021, 0.004387642672550771), (3022, 0.013453122466627682), (3023, 0.05667518314087943), (3024, 0.006882183827153547), (3025, 0.005332658127182268), (3026, 0.011318319050911017), (3027, 0.0053785111927488385), (3028, 0.00432010495189529), (3029, 0.008936100378289508), (3030, 0.012838667835936493), (3031, 0.005079945786692918), (3032, 0.01175738414366997), (3033, 0.004683299398587559), (3034, 0.004264136490995796), (3035, 0.009876001651539778), (3036, 0.005139434852730012), (3037, 0.0035023311191577406), (3038, 0.002118159992423275), (3039, 0.005334381850855371), (3040, 0.014793151711005583), (3041, 0.004688929188828737), (3042, 0.013537778709076524), (3043, 0.02114563941753249), (3044, 0.013222142474989285), (3045, 0.011057295282008677), (3046, 0.011670545358626452), (3047, 0.005024862662530571), (3048, 0.00454508135333194), (3049, 0.005205086853405134), (3050, 0.0039530948507989425), (3051, 0.014723235824253026), (3052, 0.005598746094403799), (3053, 0.12467265801182137), (3054, 0.00564478887116931), (3055, 0.005719785132109324), (3056, 0.004421093249431043), (3057, 0.00651218401783254), (3058, 0.0043856254869396195), (3059, 0.0019811596791662143), (3060, 0.005770182980738357), (3061, 0.004841325582827108), (3062, 0.008353390344701192), (3063, 0.00449932175740058), (3064, 0.01270083933275967), (3065, 0.014713817187913026), (3066, 0.004345990442941589), (3067, 0.0045379924963064155), (3068, 0.0045340043575503655), (3069, 0.004589989237653589), (3070, 0.011443934414489416), (3071, 0.010648717082859326), (3072, 0.005042921965007101), (3073, 0.0068157650371251065), (3074, 0.0052568152356603556), (3075, 0.006173165679882225), (3076, 0.00602884035627549), (3077, 0.0043980761248878595), (3078, 0.009728985271351558), (3079, 0.0036557771231031555), (3080, 0.004703787186545341), (3081, 0.005186449066551146), (3082, 0.0044598236185555895), (3083, 0.03620276261874146), (3084, 0.010550872267985626), (3085, 0.011525481810092728), (3086, 0.018935654509622462), (3087, 0.005328785907532444), (3088, 0.006018801872949965), (3089, 0.0054989723434514925), (3090, 0.004984165819683669), (3091, 0.04420757221659684), (3092, 0.005107140997246471), (3093, 0.011915258972644463), (3094, 0.006908938752008976), (3095, 0.013920232084937674), (3096, 0.014338386550545177), (3097, 0.004935187763211038), (3098, 0.004585189379854698), (3099, 0.01010284184738658), (3100, 0.013080331949010095), (3101, 0.005633136614880147), (3102, 0.004932013658824449), (3103, 0.005224080758846988), (3104, 0.005777818318608047), (3105, 0.006134891605329042), (3106, 0.004684297811636857), (3107, 0.004568903951440519), (3108, 0.01913958675380282), (3109, 0.005294258349241927), (3110, 0.012995814819031764), (3111, 0.00458916032713068), (3112, 0.016932030489643517), (3113, 0.010283764227743505), (3114, 0.008077464256939212), (3115, 0.006367509888349544), (3116, 0.005951456258210183), (3117, 0.007456806791709021), (3118, 0.007902618705467573), (3119, 0.016038207785878673), (3120, 0.004636258619668515), (3121, 0.004729107724925933), (3122, 0.011475730173728658), (3123, 0.012272239617559175), (3124, 0.014289247324470065), (3125, 0.007032119168857846), (3126, 0.013315691321286668), (3127, 0.005230063948524821), (3128, 0.005370742807808803), (3129, 0.012339672357272015), (3130, 0.0065909957822655706), (3131, 0.012682696504131622), (3132, 0.004769346086638213), (3133, 0.015426954563402272), (3134, 0.011247029033095515), (3135, 0.016580524972943187), (3136, 0.015597032561797796), (3137, 0.055726586379347506), (3138, 0.00174087422552751), (3139, 0.013826924705198022), (3140, 0.006128216502044226), (3141, 0.0048872294898544), (3142, 0.00873623807202345), (3143, 0.016586130150846548), (3144, 0.0019433065891386108), (3145, 0.005943444685775144), (3146, 0.0429219253811972), (3147, 0.014182673589866778), (3148, 0.004690274746764563), (3149, 0.00512824607503478), (3150, 0.0109006828507889), (3151, 0.0050780752132365565), (3152, 0.006612329402622586), (3153, 0.011666686640634602), (3154, 0.021643058970280613), (3155, 0.012230619987503582), (3156, 0.04176784599177231), (3157, 0.0), (3158, 0.004817714646511966), (3159, 0.0), (3160, 0.010027793273644283), (3161, 0.017357399626654467), (3162, 0.0051434306826398934), (3163, 0.011951166236113713), (3164, 0.004734325892456669), (3165, 0.008138118459648904), (3166, 0.014609743213187134), (3167, 0.03779151214702964), (3168, 0.01373547953872783), (3169, 0.009041282448904155), (3170, 0.0019136847625814103), (3171, 0.012352495582678261), (3172, 0.007160829874656332), (3173, 0.00436732533452939), (3174, 0.010831969113166985), (3175, 0.0), (3176, 0.010241560875709875), (3177, 0.0), (3178, 0.015501118035323388), (3179, 0.011850654984841294), (3180, 0.01198184604366717), (3181, 0.004932522295017847), (3182, 0.012159814217637404), (3183, 0.012476443986853054), (3184, 0.0047011932660852435), (3185, 0.01705050278670107), (3186, 0.009284493164852085), (3187, 0.011654432115476338), (3188, 0.004990233881429835), (3189, 0.0047327863004703544), (3190, 0.005189323923714611), (3191, 0.01312546258470859), (3192, 0.004908618038216989), (3193, 0.0048399279554968005), (3194, 0.010786647753855865), (3195, 0.016327730676457288), (3196, 0.01207602044021366), (3197, 0.004823255531199588), (3198, 0.006941576620523009), (3199, 0.005486649626355937), (3200, 0.007219136103657095), (3201, 0.004356815271688445), (3202, 0.01237191011297872), (3203, 0.06016221718505643), (3204, 0.006241330072070072), (3205, 0.003900724936088517), (3206, 0.013627354395641757), (3207, 0.005031837329212298), (3208, 0.005091750016688122), (3209, 0.004514088038279976), (3210, 0.01802203098054013), (3211, 0.0016589514763181862), (3212, 0.0038017040791671263), (3213, 0.013852351458824647), (3214, 0.008451418779030188), (3215, 0.015878405002286503), (3216, 0.0047158822387633435), (3217, 0.002328941169470283), (3218, 0.01665829379742077), (3219, 0.005937085466657194), (3220, 0.015265890251309467), (3221, 0.0026492981218269526), (3222, 0.004216924783033166), (3223, 0.008872390804387738), (3224, 0.012216582222705396), (3225, 0.011672506170879657), (3226, 0.004299325733698596), (3227, 0.01467764117178589), (3228, 0.01381563894839727), (3229, 0.004969350781119486), (3230, 0.005080760403579417), (3231, 0.003952655448261553), (3232, 0.012559541535920473), (3233, 0.013150498145193328), (3234, 0.00592283418921356), (3235, 0.005124356223547887), (3236, 0.006257633793236158), (3237, 0.006911990598075763), (3238, 0.011005083194507324), (3239, 0.012352891502436222), (3240, 0.010881746239275396), (3241, 0.005066907200867684), (3242, 0.005016748996420638), (3243, 0.007490651808230955), (3244, 0.006426422941918865), (3245, 0.004421405060663651), (3246, 0.011086521701892312), (3247, 0.012816534864522097), (3248, 0.07956631015693766), (3249, 0.05633200507798311), (3250, 0.006580594497379943), (3251, 0.005196925223348286), (3252, 0.007262912271397576), (3253, 0.00753189765347188), (3254, 0.0018638343626902747), (3255, 0.045355840113781035), (3256, 0.006222561538428685), (3257, 0.006007793452293192), (3258, 0.008660937221869313), (3259, 0.00682525542968389), (3260, 0.04381864707953595), (3261, 0.008977712144308932), (3262, 0.0053886150790522095), (3263, 0.01183848455806642), (3264, 0.0125313422777604), (3265, 0.004755540226709206), (3266, 0.005896503771872623), (3267, 0.012997282889828439), (3268, 0.007475582343738355), (3269, 0.005089900307561204), (3270, 0.00429291991040084), (3271, 0.012466453700196098), (3272, 0.005116478449003165), (3273, 0.004941637629576276), (3274, 0.0022593844031884623), (3275, 0.022600126462197105), (3276, 0.05299072213249502), (3277, 0.005423816809219651), (3278, 0.004210031913515199), (3279, 0.01050569003221032), (3280, 0.04148082113241199), (3281, 0.005303343235766979), (3282, 0.01380210465796878), (3283, 0.01659217824541973), (3284, 0.022021989120213123), (3285, 0.015007933738753945), (3286, 0.004339617174846105), (3287, 0.0047133011042280555), (3288, 0.004492979971841168), (3289, 0.011916578582666437), (3290, 0.013606477811176486), (3291, 0.005903784331054286), (3292, 0.005588559864944334), (3293, 0.0), (3294, 0.005221699388270322), (3295, 0.005322576346937051), (3296, 0.0022300246040633), (3297, 0.005059433692518262), (3298, 0.0046808432479224504), (3299, 0.011235501326045205), (3300, 0.004280035815173994), (3301, 0.003448132498525866), (3302, 0.008798034404314726), (3303, 0.015531334993237427), (3304, 0.009605983497734427), (3305, 0.0044667589541447115), (3306, 0.012178059453137682), (3307, 0.009155475123395646), (3308, 0.012991776177919787), (3309, 0.005890637675237186), (3310, 0.004868163370439119), (3311, 0.004248787327183532), (3312, 0.013157137874923812), (3313, 0.0063301144039421935), (3314, 0.005223206652440589), (3315, 0.049500609475212044), (3316, 0.00515040630830046), (3317, 0.02155957760514035), (3318, 0.017362083088050893), (3319, 0.03482220218222258), (3320, 0.004183375079027915), (3321, 0.005137428849025251), (3322, 0.005348945349433755), (3323, 0.020383383573679525), (3324, 0.0), (3325, 0.05010976880074132), (3326, 0.00470829842037239), (3327, 0.011864889942030325), (3328, 0.010474129129370398), (3329, 0.011051334113697934), (3330, 0.04628835049774177), (3331, 0.01259062878916665), (3332, 0.006461194361402226), (3333, 0.0043472195179142005), (3334, 0.061043695806618656), (3335, 0.011150331899978374), (3336, 0.011408963896892643), (3337, 0.011770739441989852), (3338, 0.011827586347569611), (3339, 0.014071906672854143), (3340, 0.006015998290873816), (3341, 0.004897406226505703), (3342, 0.017366175913277278), (3343, 0.0049447683421934875), (3344, 0.016177453535570638), (3345, 0.006415283165342076), (3346, 0.004653618115762882), (3347, 0.0018119328623994214), (3348, 0.011736120224416665), (3349, 0.014069381150641174), (3350, 0.0045974339990822646), (3351, 0.06094016796295547), (3352, 0.011105011993781227), (3353, 0.007290036684419337), (3354, 0.0053658485814212075), (3355, 0.004969177145964362), (3356, 0.004884296978996488), (3357, 0.016160340974884335), (3358, 0.005040767280475755), (3359, 0.004915994239296707), (3360, 0.06938050134214073), (3361, 0.005460238101583416), (3362, 0.03169836282024551), (3363, 0.005600249470835637), (3364, 0.006012452464052909), (3365, 0.008509932438477644), (3366, 0.004644365552095283), (3367, 0.011723047350736364), (3368, 0.004345090982816974), (3369, 0.0045185380216959895), (3370, 0.019434946072378036), (3371, 0.004884069376563872), (3372, 0.004405809070184001), (3373, 0.011584422755758215), (3374, 0.012144182899573617), (3375, 0.00494286759017952), (3376, 0.004466244217797377), (3377, 0.014196759978772842), (3378, 0.005818596295222453), (3379, 0.004209923326080245), (3380, 0.004840422000921282), (3381, 0.004537277126939764), (3382, 0.014337617641295167), (3383, 0.0021740603062685715), (3384, 0.013630706530230163), (3385, 0.0774417224473127), (3386, 0.011448836792880937), (3387, 0.004912262513123651), (3388, 0.01152906916428527), (3389, 0.01079094762516289), (3390, 0.004850682162777422), (3391, 0.017684237944533745), (3392, 0.005805945435698474), (3393, 0.01128865243659307), (3394, 0.0018312063147833725), (3395, 0.05042471047869045), (3396, 0.0), (3397, 0.004466823991501305), (3398, 0.011723253873376612), (3399, 0.003874539919029878), (3400, 0.008044704013312715), (3401, 0.004874131525768745), (3402, 0.017268840047139893), (3403, 0.010428381553737154), (3404, 0.011894523419751682), (3405, 0.011797170691885782), (3406, 0.005031012727096883), (3407, 0.010992988451085373), (3408, 0.06728214028640085), (3409, 0.0072752106640838685), (3410, 0.011773560359347467), (3411, 0.004138651569968243), (3412, 0.004741856318383963), (3413, 0.011803380629051976), (3414, 0.005525370806335513), (3415, 0.005511066586544099), (3416, 0.01072210458569888), (3417, 0.004624298195545849), (3418, 0.010182552122989753), (3419, 0.01192163654336528), (3420, 0.0), (3421, 0.008379302945611214), (3422, 0.006208389272379537), (3423, 0.009064620903561419), (3424, 0.005377934041628184), (3425, 0.005223630970370529), (3426, 0.010930017878432825), (3427, 0.06611435547776957), (3428, 0.046484259781629914), (3429, 0.010214496264723365), (3430, 0.03295081450532658), (3431, 0.0016825355637360743), (3432, 0.014547147281911343), (3433, 0.017457872538440628), (3434, 0.008483196481755441), (3435, 0.011646659401334535), (3436, 0.014321875863590534), (3437, 0.01802054845834883), (3438, 0.012009744226088767), (3439, 0.0), (3440, 0.012345116475433274), (3441, 0.010029801080212451), (3442, 0.0048310050309987845), (3443, 0.01170298957371022), (3444, 0.010507833849509957), (3445, 0.01102735591772345), (3446, 0.011486319802730004), (3447, 0.0047945987712002865), (3448, 0.013849172689269345), (3449, 0.012408267469019286), (3450, 0.06606139634027629), (3451, 0.012740179870515442), (3452, 0.016573444351245296), (3453, 0.005155089573933201), (3454, 0.004792873265986503), (3455, 0.0057049118009068565), (3456, 0.01108851123254112), (3457, 0.004869339007876941), (3458, 0.0051330073097529605), (3459, 0.0063640819646941845), (3460, 0.016058834530264604), (3461, 0.004749520975580594), (3462, 0.004932406499616043), (3463, 0.004786550752806082), (3464, 0.00482231445245484), (3465, 0.03885235600238171), (3466, 0.010810060108392068), (3467, 0.0047344826934318405), (3468, 0.011993792995967), (3469, 0.012729703134105328), (3470, 0.04847436324404284), (3471, 0.010489783787140914), (3472, 0.007525677950276327), (3473, 0.004951148155843094), (3474, 0.010902318955751788), (3475, 0.0066359262121339305), (3476, 0.004493694680997226), (3477, 0.012760354375767221), (3478, 0.004683917791147834), (3479, 0.013268380899336121), (3480, 0.05398299412671814), (3481, 0.0017333831394809093), (3482, 0.0046599460110412095), (3483, 0.019168793720449138), (3484, 0.01204120267532079), (3485, 0.006766556972446), (3486, 0.05198805036380175), (3487, 0.01111813319934646), (3488, 0.036687326402886064), (3489, 0.0049608986056234065), (3490, 0.004733262044489518), (3491, 0.010423335919169635), (3492, 0.011451967327950336), (3493, 0.011022941592424711), (3494, 0.004602932464471365), (3495, 0.004313647833384177), (3496, 0.01135179611229491), (3497, 0.005313803063785321), (3498, 0.011339424850645792), (3499, 0.011006150865152707), (3500, 0.001958066498810131), (3501, 0.010742514822535541), (3502, 0.01352265222455449), (3503, 0.0049232813722465355), (3504, 0.012352872004016083), (3505, 0.004928111102621616), (3506, 0.0029119913427916085), (3507, 0.016739245347065255), (3508, 0.004722961425336255), (3509, 0.004552881428576849), (3510, 0.005164203092464419), (3511, 0.04784841162122168), (3512, 0.006520463076513838), (3513, 0.010673200331341951), (3514, 0.019112989657865103), (3515, 0.005493983976050923), (3516, 0.012196019888034242), (3517, 0.011026856787503243), (3518, 0.046652222694082715), (3519, 0.004970610798953936), (3520, 0.010728876604177238), (3521, 0.009448887729878503), (3522, 0.00616532244589205), (3523, 0.0), (3524, 0.005126145870470255), (3525, 0.00388385809471905), (3526, 0.012949967992825431), (3527, 0.01187359597578425), (3528, 0.004438417753322666), (3529, 0.004944424556902446), (3530, 0.00630571177710296), (3531, 0.004692055528628428), (3532, 0.004923364815670863), (3533, 0.00464938298502915), (3534, 0.009185559883031541), (3535, 0.013931230494217559), (3536, 0.004697016442871377), (3537, 0.016009289359657668), (3538, 0.00983547873132172), (3539, 0.005072042106429439), (3540, 0.004812772246375), (3541, 0.006471262201691839), (3542, 0.004280937625814941), (3543, 0.0042931872157834835), (3544, 0.012317340848454721), (3545, 0.004535393653669446), (3546, 0.00863185855097313), (3547, 0.004798651985019284), (3548, 0.005628586442950315), (3549, 0.004583122961211061), (3550, 0.005354992261377225), (3551, 0.007042053804767842), (3552, 0.06459239374160385), (3553, 0.00925022700631237), (3554, 0.0049698667146017075), (3555, 0.016458019207903487), (3556, 0.011557606139664816), (3557, 0.004314070167407996), (3558, 0.0034632917118825185), (3559, 0.03274194838888555), (3560, 0.012139541894638508), (3561, 0.005713076631587556), (3562, 0.004486199491445951), (3563, 0.004584535962122823), (3564, 0.0049632588252979705), (3565, 0.012134486659278375), (3566, 0.0049997239356990245), (3567, 0.004331531206051715), (3568, 0.004332387895376376), (3569, 0.004734323427568968), (3570, 0.004371570819653269), (3571, 0.01839658086058763), (3572, 0.04615960175541835), (3573, 0.004891828286337364), (3574, 0.044984184176315965), (3575, 0.01013270424543946), (3576, 0.012460077398276594), (3577, 0.009135369560190723), (3578, 0.0063210386284597376), (3579, 0.002031673645567322), (3580, 0.004889746201199793), (3581, 0.004641228444403451), (3582, 0.014884769878005409), (3583, 0.011452693686171477), (3584, 0.012020307703434643), (3585, 0.004758827058714556), (3586, 0.004834409917656627), (3587, 0.01205974002055533), (3588, 0.01361477682563304), (3589, 0.004320900567515315), (3590, 0.006606225076407523), (3591, 0.004912005275597443), (3592, 0.01162413702266902), (3593, 0.011628089634353637), (3594, 0.005143331112973522), (3595, 0.004504966041308076), (3596, 0.004761147314600681), (3597, 0.00447125707078309), (3598, 0.004105499148707748), (3599, 0.011131846279770279), (3600, 0.004863142066283984), (3601, 0.012352343820264882), (3602, 0.013899089039896267), (3603, 0.004743747724746315), (3604, 0.00509287634191701), (3605, 0.04758404483846007), (3606, 0.01061215229170579), (3607, 0.005529846581620035), (3608, 0.001370843981214931), (3609, 0.004352860834529251), (3610, 0.005391116065999053), (3611, 0.005249732754944978), (3612, 0.012198929182219063), (3613, 0.007472254379842697), (3614, 0.004616441631357727), (3615, 0.007105752006436043), (3616, 0.01952030671520788), (3617, 0.0), (3618, 0.012247017219791063), (3619, 0.004039993942907008), (3620, 0.005069717550252045), (3621, 0.01172612084128609), (3622, 0.004659568777223098), (3623, 0.011303894772142239), (3624, 0.011425065875335361), (3625, 0.0020670918454566687), (3626, 0.008743618228747727), (3627, 0.0018554595912373044), (3628, 0.004936294848857092), (3629, 0.006390091054587134), (3630, 0.007517296474047088), (3631, 0.00501746402051092), (3632, 0.004520294887265965), (3633, 0.004400707460696523), (3634, 0.003957085522929398), (3635, 0.02193605888131741), (3636, 0.004570700879875631), (3637, 0.011059802266932805), (3638, 0.024573515444419488), (3639, 0.005299110388247796), (3640, 0.012228461109104036), (3641, 0.010947344487858647), (3642, 0.019409295812570275), (3643, 0.004823667831842254), (3644, 0.004577674686513364), (3645, 0.005524476894094864), (3646, 0.010653650812188244), (3647, 0.006933577070231496), (3648, 0.0049560030632964675), (3649, 0.00550958003632865), (3650, 0.0046254596411333705), (3651, 0.005421759338047945), (3652, 0.04127455633939035), (3653, 0.011653627937316393), (3654, 0.0048778796988653145), (3655, 0.04787945352348456), (3656, 0.04021654846283304), (3657, 0.005623765478531571), (3658, 0.0044671014910671845), (3659, 0.012244576889008207), (3660, 0.010608556198282914), (3661, 0.011149771894660586), (3662, 0.0045583557242259145), (3663, 0.010075776968036486), (3664, 0.012069446578336763), (3665, 0.01125648701008519), (3666, 0.01136299057208513), (3667, 0.003964431058447749), (3668, 0.010791503872648744), (3669, 0.0020174293055624263), (3670, 0.011883550467191951), (3671, 0.005712034724543978), (3672, 0.006115724064554583), (3673, 0.006724594805153484), (3674, 0.0092582353335932), (3675, 0.0074029422289482545), (3676, 0.0), (3677, 0.012277398156859996), (3678, 0.013911100221065268), (3679, 0.013042814619948414), (3680, 0.006908353408728212), (3681, 0.004942381385359651), (3682, 0.004631998832486999), (3683, 0.00744218331631437), (3684, 0.012088528399313944), (3685, 0.004626803044054096), (3686, 0.005154763782887218), (3687, 0.005161337248060983), (3688, 0.004944024444081053), (3689, 0.009152391560181411), (3690, 0.004793960572423127), (3691, 0.004343219697822599), (3692, 0.018989894029341422), (3693, 0.0041607999234283145), (3694, 0.013399346940975457), (3695, 0.005275096733178547), (3696, 0.01197315016694267), (3697, 0.004933370981271886), (3698, 0.00456687512335308), (3699, 0.012518048092003005), (3700, 0.006153017867494906), (3701, 0.005138276258772022), (3702, 0.005478405766022694), (3703, 0.0), (3704, 0.010993633809773789), (3705, 0.011077709050607005), (3706, 0.011252718881990531), (3707, 0.004264821776021716), (3708, 0.013182726764815815), (3709, 0.004626190976563043), (3710, 0.013829871902409878), (3711, 0.011225881904199106), (3712, 0.0), (3713, 0.007896636467717521), (3714, 0.006479950633642017), (3715, 0.008942640330188203), (3716, 0.004277087967474507), (3717, 0.0), (3718, 0.006748799803123457), (3719, 0.004000392509495739), (3720, 0.04119667645447277), (3721, 0.013463218950895061), (3722, 0.004746688785663082), (3723, 0.010387014547486839), (3724, 0.004724516323003887), (3725, 0.009926529826792202), (3726, 0.00558889491864085), (3727, 0.010426607003998941), (3728, 0.013252305384550748), (3729, 0.007145807826603573), (3730, 0.005822824181448607), (3731, 0.03662920883320703), (3732, 0.003965159454663814), (3733, 0.010868780504499163), (3734, 0.016349121821527986), (3735, 0.004713577341441682), (3736, 0.005026466975822068), (3737, 0.005157714346066857), (3738, 0.004347336693384295), (3739, 0.005231534487899516), (3740, 0.005174451979293002), (3741, 0.016391004534724942), (3742, 0.008085103032215187), (3743, 0.004647537682425715), (3744, 0.01229045616702493), (3745, 0.004806326450228993), (3746, 0.004448210398112679), (3747, 0.011355308350706094), (3748, 0.0), (3749, 0.00459819277906726), (3750, 0.003872461624277164), (3751, 0.044282779752454426), (3752, 0.004781058504954887), (3753, 0.06837081151265409), (3754, 0.005747216929056978), (3755, 0.0017946487636568442), (3756, 0.017794149677282996), (3757, 0.007384040377164627), (3758, 0.0052548026318712665), (3759, 0.0054445320644847545), (3760, 0.009104611686486875), (3761, 0.006278807052429345), (3762, 0.0053676897484634025), (3763, 0.005871359249654451), (3764, 0.006194421022933493), (3765, 0.006415909469688229), (3766, 0.013761756711753836), (3767, 0.029059903194567686), (3768, 0.012480650398465666), (3769, 0.011776847504855656), (3770, 0.005133502143452257), (3771, 0.01924547231126646), (3772, 0.005321533280182197), (3773, 0.004587131325195859), (3774, 0.005156811704538343), (3775, 0.007455443659892286), (3776, 0.010777789634326022), (3777, 0.019441990400945137), (3778, 0.005112107829394176), (3779, 0.061795094448897636), (3780, 0.012466742397583615), (3781, 0.004484214525362325), (3782, 0.011125837266602588), (3783, 0.0046221805046281214), (3784, 0.004566707823642972), (3785, 0.004392476799529131), (3786, 0.004391903473624623), (3787, 0.012131279996992348), (3788, 0.0041390786291420015), (3789, 0.005496834294798739), (3790, 0.005215782867849225), (3791, 0.006116487661562784), (3792, 0.011770551931829486), (3793, 0.06431328111533988), (3794, 0.011242289478415789), (3795, 0.009616923879108834), (3796, 0.005798578029478871), (3797, 0.01947669451361189), (3798, 0.004616457525771575), (3799, 0.007507899758324117), (3800, 0.005360219185959112), (3801, 0.017669850362104916), (3802, 0.012393748745390253), (3803, 0.0040965084302587145), (3804, 0.007829623719173518), (3805, 0.002019468345514554), (3806, 0.0018114774869285792), (3807, 0.011309899370617412), (3808, 0.004817036307349028), (3809, 0.004312065601340072), (3810, 0.012501413688496726), (3811, 0.004753424128468575), (3812, 0.00488389101773464), (3813, 0.014783308749763998), (3814, 0.013398566811225998), (3815, 0.014047216225046327), (3816, 0.004911138504362952), (3817, 0.0053425903854968084), (3818, 0.004635483639947398), (3819, 0.01096812557247456), (3820, 0.007370320521335214), (3821, 0.004211655249713951), (3822, 0.012464379621118083), (3823, 0.011438978664081622), (3824, 0.010711843142155241), (3825, 0.004253272765712491), (3826, 0.01185556705033283), (3827, 0.0019742737795271042), (3828, 0.02048267132576827), (3829, 0.004601218467991212), (3830, 0.0), (3831, 0.005338615736563291), (3832, 0.007423278702238302), (3833, 0.011637455094306094), (3834, 0.0048677291011839305), (3835, 0.006768823907612692), (3836, 0.004169787693934373), (3837, 0.004950747774095841), (3838, 0.005003550950102574), (3839, 0.004356738020623866), (3840, 0.0045016694116761305), (3841, 0.013713134011001068), (3842, 0.006063326701091893), (3843, 0.008358232054740655), (3844, 0.013724524297094209), (3845, 0.011681436159890136), (3846, 0.005052165282009965), (3847, 0.006465832805623354), (3848, 0.005342317923587947), (3849, 0.014104439033215108), (3850, 0.043756660530431035), (3851, 0.007271447619966861), (3852, 0.04018563492174536), (3853, 0.015177555824422692), (3854, 0.015539209737203099), (3855, 0.004612794463426804), (3856, 0.004616960242696984), (3857, 0.005220694321947697), (3858, 0.004939798086392061), (3859, 0.004219902951043054), (3860, 0.012784135083945217), (3861, 0.004117581874089505), (3862, 0.021594325000238564), (3863, 0.00412899918721229), (3864, 0.004707637712783099), (3865, 0.004621148538607258), (3866, 0.005212433322266276), (3867, 0.04996631138980521), (3868, 0.036492951998563436), (3869, 0.005117620677903329), (3870, 0.004534924245219993), (3871, 0.039481375656572046), (3872, 0.004397270520462226), (3873, 0.0048286998860154785), (3874, 0.005148511120938929), (3875, 0.011036148953002494), (3876, 0.011968796791416832), (3877, 0.014474576898359792), (3878, 0.0058986794381047595), (3879, 0.004604832820678588), (3880, 0.00415536550931922), (3881, 0.004568381104968282), (3882, 0.010628421906719865), (3883, 0.017298425174979766), (3884, 0.0), (3885, 0.004449573915565002), (3886, 0.011736418227056055), (3887, 0.004343206111791437), (3888, 0.011409354701083233), (3889, 0.011858869016889375), (3890, 0.004796612298382552), (3891, 0.03823180805219833), (3892, 0.0), (3893, 0.004999488255742545), (3894, 0.005651733295808391), (3895, 0.00930851345429766), (3896, 0.0046167809320175855), (3897, 0.012146827383732298), (3898, 0.001908034225647928), (3899, 0.01761020274358193), (3900, 0.010024251606028647), (3901, 0.01290730700089674), (3902, 0.004415869666679078), (3903, 0.005319797759515837), (3904, 0.03073860658997044), (3905, 0.006528412449410883), (3906, 0.009473050520971641), (3907, 0.01130548459310811), (3908, 0.011143880518998912), (3909, 0.004148053081001187), (3910, 0.010471273185462048), (3911, 0.004831121924754108), (3912, 0.00918285331795904), (3913, 0.0360043568473041), (3914, 0.004897711547199364), (3915, 0.004927359464060318), (3916, 0.003991388045529228), (3917, 0.015182521623944052), (3918, 0.009628149429762423), (3919, 0.011100836417976427), (3920, 0.006656942308242181), (3921, 0.005816263030160501), (3922, 0.005294312432570212), (3923, 0.03197405830045387), (3924, 0.004952567138016412), (3925, 0.006051720263811899), (3926, 0.004701842436623511), (3927, 0.0018413771019851906), (3928, 0.00347054798088549), (3929, 0.004212382213924356), (3930, 0.005777645207371953), (3931, 0.0048650941146556985), (3932, 0.014126582222418239), (3933, 0.005709642053486374), (3934, 0.004723225240202324), (3935, 0.004951981134134601), (3936, 0.005469208977570084), (3937, 0.0046613769797524355), (3938, 0.011961806079505019), (3939, 0.005512173996855952), (3940, 0.0043100901283152065), (3941, 0.010240136931134155), (3942, 0.014112910514568866), (3943, 0.004628878355715335), (3944, 0.008712243694869901), (3945, 0.017005934714726494), (3946, 0.06000092091682263), (3947, 0.052243609615312714), (3948, 0.004131987842766383), (3949, 0.005710518472539049), (3950, 0.005257861767228719), (3951, 0.01497476449972674), (3952, 0.01173415431904259), (3953, 0.01008005700279371), (3954, 0.005953606150114095), (3955, 0.004874526064815594), (3956, 0.00686064548425316), (3957, 0.010135938502756063), (3958, 0.0047160554839106575), (3959, 0.01809983340838505), (3960, 0.013285781623166154), (3961, 0.012133313927727781), (3962, 0.005286833833345431), (3963, 0.007144188476098506), (3964, 0.005535934910866748), (3965, 0.004680298527537369), (3966, 0.011791744273032246), (3967, 0.01134451897699633), (3968, 0.004669093428907993), (3969, 0.005027503254576054), (3970, 0.011866205741031408), (3971, 0.004727628687670612), (3972, 0.005183731252717714), (3973, 0.04654162044633143), (3974, 0.01103597910600922), (3975, 0.014436506860164474), (3976, 0.0052216426515569805), (3977, 0.005094309761796621), (3978, 0.015523880426922173), (3979, 0.004681046955402627), (3980, 0.004025900439724436), (3981, 0.0), (3982, 0.004503507988421366), (3983, 0.0424270334240887), (3984, 0.00511908721556402), (3985, 0.0046053337403561875), (3986, 0.007802554649995636), (3987, 0.0044274851641423274), (3988, 0.00553050181671849), (3989, 0.010565075581954709), (3990, 0.005810659446625236), (3991, 0.0042999043923935675), (3992, 0.014847034180048058), (3993, 0.01257015076076275), (3994, 0.004549751202213098), (3995, 0.005300527419889121), (3996, 0.005358162864980745), (3997, 0.01469569834101028), (3998, 0.004816458824390123), (3999, 0.012120176139670591), (4000, 0.01069961980709159), (4001, 0.005047025286172702), (4002, 0.012913666818483268), (4003, 0.006792643652297016), (4004, 0.013047706218332688), (4005, 0.052535263543481925), (4006, 0.004871623947473512), (4007, 0.007084071688570122), (4008, 0.004875936723683563), (4009, 0.004644601925619593), (4010, 0.00557591579531592), (4011, 0.011124079615876099), (4012, 0.008802554319682226), (4013, 0.011428507549408062), (4014, 0.001934335931195048), (4015, 0.013847016515461559), (4016, 0.005362826969715625), (4017, 0.00559831356133548), (4018, 0.004181872968736939), (4019, 0.0), (4020, 0.004842915875482091), (4021, 0.005831333652170644), (4022, 0.006192747407911023), (4023, 0.014016427643068874), (4024, 0.0052698743364638645), (4025, 0.00482889585589142), (4026, 0.0), (4027, 0.004877823067554789), (4028, 0.005501735489162601), (4029, 0.004542366510676301), (4030, 0.009130869883705105), (4031, 0.005002637125417177), (4032, 0.0063869851396334415), (4033, 0.014295365099849092), (4034, 0.00514404643902997), (4035, 0.035480954865781705), (4036, 0.01116339598829812), (4037, 0.004606190083990533), (4038, 0.019204914522656824), (4039, 0.012936620984774752), (4040, 0.005505548480076342), (4041, 0.004598984424889364), (4042, 0.0047741195208898905), (4043, 0.011174481199546392), (4044, 0.01047264028284687), (4045, 0.005053143825703722), (4046, 0.019118539435456106), (4047, 0.00564614515320725), (4048, 0.008568559048119996), (4049, 0.013528016737120832), (4050, 0.006721092163254783), (4051, 0.007821332120889545), (4052, 0.010520881292791285), (4053, 0.0049338510455810055), (4054, 0.012428133234812727), (4055, 0.004792749843349559), (4056, 0.011163287430277061), (4057, 0.006024212694442525), (4058, 0.005504332652319314), (4059, 0.004476198773179243), (4060, 0.01037513229688792), (4061, 0.005365185664090231), (4062, 0.0), (4063, 0.00433722705423039), (4064, 0.07144111509731503), (4065, 0.005161637826346138), (4066, 0.007855413934184537), (4067, 0.01414487601429439), (4068, 0.020265519041153965), (4069, 0.004387402961179446), (4070, 0.004757489461202472), (4071, 0.010618531453593014), (4072, 0.00514112537077986), (4073, 0.004764391909833158), (4074, 0.006558519076523665), (4075, 0.004956202238555236), (4076, 0.012445558808695443), (4077, 0.00492281663407669), (4078, 0.004938256642736589), (4079, 0.0018907342009552817), (4080, 0.012031689684025798), (4081, 0.004908348115292941), (4082, 0.006697339053888415), (4083, 0.004590084499671909), (4084, 0.00693881078127746), (4085, 0.00465987869127147), (4086, 0.005063590028013674), (4087, 0.00498326637126262), (4088, 0.004804614357583035), (4089, 0.013936533694161347), (4090, 0.012307046586655284), (4091, 0.011834255984098431), (4092, 0.014096484591517133), (4093, 0.006651419425552725), (4094, 0.006886980173065839), (4095, 0.01477316846621536), (4096, 0.011534855623595578), (4097, 0.00499367154192581), (4098, 0.018462429753256755), (4099, 0.0045292461763818855), (4100, 0.004655235107026605), (4101, 0.0054910983265374445), (4102, 0.013661637382600263), (4103, 0.012308112292424383), (4104, 0.03901747466422726), (4105, 0.005094801066640154), (4106, 0.010897113083196984), (4107, 0.0), (4108, 0.0047932432336092855), (4109, 0.004481855718053833), (4110, 0.004712520541056548), (4111, 0.00456804533172798), (4112, 0.004738546296295699), (4113, 0.013159057236828836), (4114, 0.004526144059928383), (4115, 0.005538831614947127), (4116, 0.019521242552667333), (4117, 0.012473731475994636), (4118, 0.007352501617675839), (4119, 0.01243914183965798), (4120, 0.01213088200610691), (4121, 0.015539257739373388), (4122, 0.006028746830222215), (4123, 0.011839740855404762), (4124, 0.016790410223370696), (4125, 0.005328536630927992), (4126, 0.004942857364591694), (4127, 0.005438002891790158), (4128, 0.036762283096051056), (4129, 0.0019649659812611777), (4130, 0.012411447871864047), (4131, 0.001972801977346631), (4132, 0.011870386291580387), (4133, 0.01784438988307069), (4134, 0.008280888767605604), (4135, 0.004701535712714654), (4136, 0.01122562887965282), (4137, 0.05111927674609145), (4138, 0.008423617252304115), (4139, 0.0119714533469244), (4140, 0.01197955867629569), (4141, 0.004147562755772745), (4142, 0.013222377230077742), (4143, 0.015378003003831), (4144, 0.005815048005139097), (4145, 0.011865623197031919), (4146, 0.0047326687905837085), (4147, 0.01175346292221853), (4148, 0.004826953335470608), (4149, 0.004945459457117189), (4150, 0.005413057954256086), (4151, 0.001761599091460217), (4152, 0.05507524228225428), (4153, 0.004558751759405901), (4154, 0.01099510294045378), (4155, 0.0044188636030716155), (4156, 0.00978191737158082), (4157, 0.00507370862030789), (4158, 0.0070420496538831), (4159, 0.004512863360559217), (4160, 0.01144064458661631), (4161, 0.004573702348561258), (4162, 0.004913096490041432), (4163, 0.012336764342282468), (4164, 0.011660241401427213), (4165, 0.04135620914796139), (4166, 0.005465235985358263), (4167, 0.004998773194115422), (4168, 0.004720930096006475), (4169, 0.00552790885375972), (4170, 0.005412672270417841), (4171, 0.007434033045844702), (4172, 0.005621662408818131), (4173, 0.006254102759449941), (4174, 0.011531404926046823), (4175, 0.01141985745179269), (4176, 0.011188738118626512), (4177, 0.002051383874853843), (4178, 0.01151938570342738), (4179, 0.006966051077427442), (4180, 0.0045638310708080165), (4181, 0.004768513358102857), (4182, 0.004307043835515789), (4183, 0.004629601049948808), (4184, 0.004795561952047716), (4185, 0.0052114859405188625), (4186, 0.004118661284556917), (4187, 0.005098707704524554), (4188, 0.00662271946640362), (4189, 0.017789540993055596), (4190, 0.004910620238739864), (4191, 0.004255163466549636), (4192, 0.010965562533593176), (4193, 0.010190505955881867), (4194, 0.008319401454837175), (4195, 0.04709729096378217), (4196, 0.005413372042161485), (4197, 0.011828941711056388), (4198, 0.005760621893498929), (4199, 0.01129333839017463), (4200, 0.011896770481871426), (4201, 0.01276664681868054), (4202, 0.013806575572207517), (4203, 0.005348176379996562), (4204, 0.005883919255188923), (4205, 0.004418872059812528), (4206, 0.012134935499416244), (4207, 0.004978192598476176), (4208, 0.005452151902435037), (4209, 0.007732226753182063), (4210, 0.004811693908295348), (4211, 0.01566254577332603), (4212, 0.00459647581186913), (4213, 0.012140905283171263), (4214, 0.005900626593413156), (4215, 0.005057504818316445), (4216, 0.011433041673599112), (4217, 0.004240221293029858), (4218, 0.004809539826077227), (4219, 0.005520428212636567), (4220, 0.0), (4221, 0.013251339051119969), (4222, 0.013740201675924315), (4223, 0.006061611347377203), (4224, 0.00473390951309822), (4225, 0.007327808947975233), (4226, 0.005020913968545699), (4227, 0.004514607304754866), (4228, 0.009593078746718086), (4229, 0.0018038495131878001), (4230, 0.007633654081582697), (4231, 0.017568485827407408), (4232, 0.008141773147991374), (4233, 0.004861541413408496), (4234, 0.004444048374482279), (4235, 0.010278350502924583), (4236, 0.004187319180655093), (4237, 0.0049383843751669605), (4238, 0.004845922716836168), (4239, 0.0), (4240, 0.01271891641445858), (4241, 0.004752056930552586), (4242, 0.01763311879458549), (4243, 0.006382539281754361), (4244, 0.019116987713198818), (4245, 0.004577984271379477), (4246, 0.011793248059739941), (4247, 0.007897357163498741), (4248, 0.01317912014182327), (4249, 0.019074643769669414), (4250, 0.0020616159274016504), (4251, 0.011761298334665632), (4252, 0.04334295975213885), (4253, 0.00456495727198491), (4254, 0.007635447870318122), (4255, 0.017573055786929123), (4256, 0.0048779568645594155), (4257, 0.004285170425619524), (4258, 0.005137111651626039), (4259, 0.012030739876838583), (4260, 0.0044499747226493), (4261, 0.003956524241598992), (4262, 0.006777413534183254), (4263, 0.014236289914347285), (4264, 0.010775902475428945), (4265, 0.004808717621423229), (4266, 0.004491266078371426), (4267, 0.005975732690055141), (4268, 0.01612427752382889), (4269, 0.005117370676198916), (4270, 0.008412400710570842), (4271, 0.010951069907856843), (4272, 0.00952451103277838), (4273, 0.006806746749543352), (4274, 0.010867783588454805), (4275, 0.01173630977368014), (4276, 0.008789770731515288), (4277, 0.004834192769233402), (4278, 0.0045083680599552756), (4279, 0.004459668136331576), (4280, 0.005334803060760082), (4281, 0.009204321510280514), (4282, 0.018092425164443555), (4283, 0.012418569550289103), (4284, 0.019260378181776772), (4285, 0.01197704476012988), (4286, 0.005598456878545084), (4287, 0.01173152416768353), (4288, 0.025904806055536207), (4289, 0.01291409608907126), (4290, 0.010572678926062569), (4291, 0.005500165996973844), (4292, 0.0058496083921778085), (4293, 0.0054379037972108486), (4294, 0.004621679343567216), (4295, 0.01135870375256547), (4296, 0.0017970583947870317), (4297, 0.004163255123645847), (4298, 0.012726360812548033), (4299, 0.017501706189185513), (4300, 0.004772217507753931), (4301, 0.005785036595231078), (4302, 0.005367221405895779), (4303, 0.00473827869247157), (4304, 0.012936876714300499), (4305, 0.004284642423079596), (4306, 0.014546115784430576), (4307, 0.005406914912837655), (4308, 0.008633839189983611), (4309, 0.010755163240371866), (4310, 0.010506793156667646), (4311, 0.009161085620827632), (4312, 0.00473238295666412), (4313, 0.00729804344216539), (4314, 0.004452303507917567), (4315, 0.0020702472901806927), (4316, 0.0), (4317, 0.0), (4318, 0.004481066699820065), (4319, 0.005918323589825756), (4320, 0.010691534610756708), (4321, 0.006928952162489677), (4322, 0.011631698121772107), (4323, 0.004970039311123038), (4324, 0.00504044425747999), (4325, 0.012319199857484016), (4326, 0.0019107792385375491), (4327, 0.004812242996902916), (4328, 0.012353401516361686), (4329, 0.004943924291579794), (4330, 0.004669587703749723), (4331, 0.005215062772109239), (4332, 0.005978010140053113), (4333, 0.005432113221684293), (4334, 0.004665447499288847), (4335, 0.005225869658273336), (4336, 0.008264215702155957), (4337, 0.011876408150977407), (4338, 0.004875018144055808), (4339, 0.010628230363825101), (4340, 0.012035459403204279), (4341, 0.005361333905887824), (4342, 0.0042805602336165455), (4343, 0.0036794251118086618), (4344, 0.009739157560739679), (4345, 0.011235495330349681), (4346, 0.0050212461960904755), (4347, 0.0047253219861871434), (4348, 0.0074853599321074785), (4349, 0.006622057008866077), (4350, 0.004374675195879476), (4351, 0.004498170871802681), (4352, 0.00470921391747255), (4353, 0.005557918668914027), (4354, 0.004429382665942414), (4355, 0.004982073650551816), (4356, 0.004476214747953102), (4357, 0.01046207822280867), (4358, 0.004542824739914699), (4359, 0.004906312628361593), (4360, 0.004569349105302881), (4361, 0.00590102741128108), (4362, 0.047967235039848226), (4363, 0.004711226606374812), (4364, 0.00466285578784726), (4365, 0.011718014975596786), (4366, 0.010492625286844316), (4367, 0.004799707999436232), (4368, 0.005263902064411737), (4369, 0.005396240999681718), (4370, 0.005320982552247578), (4371, 0.004901865358456748), (4372, 0.005148045766934147), (4373, 0.010004910889111767), (4374, 0.020282644913743497), (4375, 0.005179456903678534), (4376, 0.004561708943949477), (4377, 0.012049035145378651), (4378, 0.11087396201461991), (4379, 0.018242507053942616), (4380, 0.013294885548285397), (4381, 0.010847688180847906), (4382, 0.004555631215532838), (4383, 0.004497532911021469), (4384, 0.011586886944557562), (4385, 0.003985203674781496), (4386, 0.003589193583405369), (4387, 0.017961135463499568), (4388, 0.00492911954165104), (4389, 0.0719155686137698), (4390, 0.0035528441975698345), (4391, 0.010345361695223623), (4392, 0.01165250348000493), (4393, 0.0019968754898460842), (4394, 0.011273353095489609), (4395, 0.01255891990816135), (4396, 0.0051910356575436), (4397, 0.004773465593456396), (4398, 0.052742977111753485), (4399, 0.004535699817267083), (4400, 0.01306383195366178), (4401, 0.011769739313469937), (4402, 0.04107163642120752), (4403, 0.013959050566051517), (4404, 0.004667071768986172), (4405, 0.004140612504915415), (4406, 0.004746815135684042), (4407, 0.006771936999352519), (4408, 0.004996003470938225), (4409, 0.004242156580412642), (4410, 0.005038713559433807), (4411, 0.003949399703075451), (4412, 0.018728301316544137), (4413, 0.002187944140146812), (4414, 0.003954111524211981), (4415, 0.003630572241606172), (4416, 0.007290389811092092), (4417, 0.005470956603802712), (4418, 0.012630549529583571), (4419, 0.010810165032890527), (4420, 0.01127826907301878), (4421, 0.004785320727815549), (4422, 0.0106836514903299), (4423, 0.005502749486833545), (4424, 0.005035568085998211), (4425, 0.010893199106753192), (4426, 0.009464317589641646), (4427, 0.004847953639657872), (4428, 0.011399273243454005), (4429, 0.006895852462749902), (4430, 0.017043042082535296), (4431, 0.013807399457370044), (4432, 0.01773130729800477), (4433, 0.004828110882609414), (4434, 0.005347235138879471), (4435, 0.011380073492581449), (4436, 0.012098270292859006), (4437, 0.00434160337249951), (4438, 0.006121391240181174), (4439, 0.005211157914923872), (4440, 0.005670934269550065), (4441, 0.010299713619163854), (4442, 0.010836270421716318), (4443, 0.05761863219470748), (4444, 0.02356254044060639), (4445, 0.011475695046398672), (4446, 0.014447246205865141), (4447, 0.004326989380379179), (4448, 0.011445284917008323), (4449, 0.005442602397746313), (4450, 0.010048507429329615), (4451, 0.0059221113901140945), (4452, 0.054274557870809044), (4453, 0.004872807505924295), (4454, 0.005021228395204089), (4455, 0.009250907713167687), (4456, 0.004490340358501545), (4457, 0.004652788339373062), (4458, 0.00943721582161821), (4459, 0.004790933523192802), (4460, 0.00491654729357854), (4461, 0.0019875308879167973), (4462, 0.004866767146865009), (4463, 0.0019853192269639938), (4464, 0.013259199670046745), (4465, 0.012175635784827882), (4466, 0.011423099580029898), (4467, 0.004615424431350389), (4468, 0.004300871308249283), (4469, 0.007495778235369708), (4470, 0.011659409971112571), (4471, 0.011188644615742451), (4472, 0.004529919154959252), (4473, 0.00997662365074221), (4474, 0.012052954614049191), (4475, 0.00754384274074924), (4476, 0.004219707139622373), (4477, 0.015009679562327505), (4478, 0.004742173802523278), (4479, 0.01053438574398751), (4480, 0.007053114012645172), (4481, 0.012183067346733741), (4482, 0.004594477049789403), (4483, 0.0025579497760863323), (4484, 0.005358538137004753), (4485, 0.004886597932342715), (4486, 0.006711586328026285), (4487, 0.01091978238874288), (4488, 0.06735738720001226), (4489, 0.011791186084541515), (4490, 0.01339632307579849), (4491, 0.004690823978225351), (4492, 0.005201742174569377), (4493, 0.009804020499153335), (4494, 0.012700506724396685), (4495, 0.005018250344027316), (4496, 0.005258341743512277), (4497, 0.005025873128446366), (4498, 0.003998591303150399), (4499, 0.0), (4500, 0.0), (4501, 0.011129645360280228), (4502, 0.012969701075023527), (4503, 0.02024893892228924), (4504, 0.010572417606479029), (4505, 0.004923854176140513), (4506, 0.005423247763792773), (4507, 0.006765862667968739), (4508, 0.00508923284999343), (4509, 0.004332355432988733), (4510, 0.012137775547333597), (4511, 0.004190521532065538), (4512, 0.00788239090367416), (4513, 0.010339334650549753), (4514, 0.004961361344907749), (4515, 0.005425308607865794), (4516, 0.011426149270969433), (4517, 0.011626852576933126), (4518, 0.005359509416904754), (4519, 0.005891813371368928), (4520, 0.0017772601727524522), (4521, 0.007253870000782235), (4522, 0.01813838109233712), (4523, 0.01912590283701162), (4524, 0.005431371332745219), (4525, 0.004386512267116309), (4526, 0.005009635083987699), (4527, 0.004772949261775374), (4528, 0.0056829865364024556), (4529, 0.0056333927711802664), (4530, 0.004082536597659092), (4531, 0.012258652770859389), (4532, 0.0), (4533, 0.04860596367896071), (4534, 0.006690827093855585), (4535, 0.007121202630776115), (4536, 0.004256781195687486), (4537, 0.005554980935719193), (4538, 0.005355686192790546), (4539, 0.005093725831622437), (4540, 0.006416095829038371), (4541, 0.0), (4542, 0.006473926764946727), (4543, 0.004333597987738381), (4544, 0.005309004787989987), (4545, 0.00508358052534537), (4546, 0.013254641559669147), (4547, 0.0), (4548, 0.03717667995475563), (4549, 0.0049985682169697895), (4550, 0.011575830405558877), (4551, 0.012564261940306468), (4552, 0.014697458945069025), (4553, 0.009048447108890348), (4554, 0.013622151985384938), (4555, 0.01573544947953358), (4556, 0.004421257917895816), (4557, 0.006989815911242193), (4558, 0.004216376761881771), (4559, 0.0045557961924597165), (4560, 0.004663951130589732), (4561, 0.010466730624516111), (4562, 0.0), (4563, 0.00652391821196157), (4564, 0.004428876276761061), (4565, 0.0048041906939888315), (4566, 0.011167990808861347), (4567, 0.0050355387264705825), (4568, 0.00449987840420918), (4569, 0.004333252721409045), (4570, 0.004896267229535951), (4571, 0.006728520837355384), (4572, 0.00512415263242035), (4573, 0.001956639275678233), (4574, 0.007268475707616637), (4575, 0.0048359880590669035), (4576, 0.015034000545569892), (4577, 0.0039876059942647), (4578, 0.012001361365010683), (4579, 0.01277475167497519), (4580, 0.005127204474051322), (4581, 0.004402132552270814), (4582, 0.010867089601812303), (4583, 0.004615363173963948), (4584, 0.005596059236859846), (4585, 0.010365769778413027), (4586, 0.011049309133948833), (4587, 0.011593332423642324), (4588, 0.05480741604852148), (4589, 0.01564190894366641), (4590, 0.047293115623099506), (4591, 0.01649710842663978), (4592, 0.004651151479758229), (4593, 0.014325535847139751), (4594, 0.04396546965229125), (4595, 0.004948288206792626), (4596, 0.004387267052579575), (4597, 0.005090527701919595), (4598, 0.004066599896552351), (4599, 0.005461378345564807), (4600, 0.004708907386600259), (4601, 0.01199751195522414), (4602, 0.042145766707030984), (4603, 0.007540224563737402), (4604, 0.011119478937158046), (4605, 0.01233789892473265), (4606, 0.013703758716687204), (4607, 0.010816759294384094), (4608, 0.031568938218829355), (4609, 0.004653126219653086), (4610, 0.009738485117282241), (4611, 0.012930663659858534), (4612, 0.01432822494754108), (4613, 0.0051156546962514765), (4614, 0.10735327797301214), (4615, 0.004561204415353643), (4616, 0.001851221043358487), (4617, 0.0057397546202729195), (4618, 0.0), (4619, 0.0), (4620, 0.004240370610280219), (4621, 0.011681302749513957), (4622, 0.0063878176291215834), (4623, 0.011002035948907994), (4624, 0.012735431415048452), (4625, 0.007138521354167166), (4626, 0.013857191034036551), (4627, 0.012083255715492508), (4628, 0.005208272037684135), (4629, 0.02010333487206422), (4630, 0.011851937861040537), (4631, 0.005223880946271234), (4632, 0.005065085803497637), (4633, 0.012443160680379942), (4634, 0.004579446469682928), (4635, 0.007481272443343432), (4636, 0.012697613865565121), (4637, 0.012064121538015102), (4638, 0.004256749202241313), (4639, 0.012333328575037727), (4640, 0.004645831098744654), (4641, 0.004460560580342146), (4642, 0.011988256917095399), (4643, 0.012921565538650634), (4644, 0.011265703408553072), (4645, 0.0), (4646, 0.005666323494533949), (4647, 0.004089669150130454), (4648, 0.004692576415677235), (4649, 0.011067422474980501), (4650, 0.005313213373996728), (4651, 0.006069744049645398), (4652, 0.01057079594603562), (4653, 0.01352446592209119), (4654, 0.006512980292206982), (4655, 0.004804447586280531), (4656, 0.005267042619105251), (4657, 0.004647982071564994), (4658, 0.021210865165288802), (4659, 0.038475619561143634), (4660, 0.013710059212302714), (4661, 0.010287939028618511), (4662, 0.004804092237714868), (4663, 0.004721567017442925), (4664, 0.0044702782651520135), (4665, 0.011508189799705753), (4666, 0.005686308686000908), (4667, 0.0043521706817331255), (4668, 0.03974398117924029), (4669, 0.018421592004866573), (4670, 0.010834648453459076), (4671, 0.006266453292520189), (4672, 0.004394498283067462), (4673, 0.018216291159746774), (4674, 0.014693396853258921), (4675, 0.004932860037161276), (4676, 0.004794181263228512), (4677, 0.011662974124847913), (4678, 0.004900214974942165), (4679, 0.009829872850750827), (4680, 0.004938363694288919), (4681, 0.009628149429762423), (4682, 0.03934707752029301), (4683, 0.004532427704399672), (4684, 0.01221722869286232), (4685, 0.004950378849195709), (4686, 0.004733530538183702), (4687, 0.00470475648333198), (4688, 0.006990002198660858), (4689, 0.004405027389322905), (4690, 0.004142955064876667), (4691, 0.00566262057433804), (4692, 0.007394889447899042), (4693, 0.0018523632932509167), (4694, 0.005051109372705635), (4695, 0.010277198908800795), (4696, 0.005428472362333372), (4697, 0.005112879831815409), (4698, 0.01268545345360193), (4699, 0.02308436149014111), (4700, 0.005463858298937384), (4701, 0.013885405138296489), (4702, 0.004738620849444825), (4703, 0.043413706181634766), (4704, 0.013481557781471629), (4705, 0.015024213448362089), (4706, 0.002210375980327554), (4707, 0.005533938340847836), (4708, 0.004588543104530501), (4709, 0.005541677728336503), (4710, 0.013248434192925611), (4711, 0.0023822901272709247), (4712, 0.004191671150565653), (4713, 0.009504763631109305), (4714, 0.004980630773216219), (4715, 0.011458966379665017), (4716, 0.0044666788223519), (4717, 0.012075391043316943), (4718, 0.0067061288245746), (4719, 0.04125982069010555), (4720, 0.00520483634708185), (4721, 0.04926958773536221), (4722, 0.006502270542915474), (4723, 0.013686192789162617), (4724, 0.043482834204010466), (4725, 0.006649904308061554), (4726, 0.0018532269048454966), (4727, 0.033781022854336235), (4728, 0.005190633232090463), (4729, 0.0019334923662436088), (4730, 0.0), (4731, 0.014867596560480374), (4732, 0.005400239035102464), (4733, 0.009989769929262055), (4734, 0.0021665160654390234), (4735, 0.013188380945605368), (4736, 0.005039737864358832), (4737, 0.006711785118750103), (4738, 0.004361573162549579), (4739, 0.058230227824595256), (4740, 0.005433217966241809), (4741, 0.005222948228380174), (4742, 0.0020808969251069984), (4743, 0.01237693587161129), (4744, 0.009244025446381568), (4745, 0.0037234866839417325), (4746, 0.00493569695104331), (4747, 0.015286229749859723), (4748, 0.004062189460722239), (4749, 0.0), (4750, 0.004696055837210959), (4751, 0.0044583775653190185), (4752, 0.008923311796684348), (4753, 0.004793543513138527), (4754, 0.007269978563884853), (4755, 0.005148311061291809), (4756, 0.0120927441316628), (4757, 0.012656276757023544), (4758, 0.0), (4759, 0.0)]\n"
          ]
        }
      ]
    },
    {
      "cell_type": "code",
      "source": [
        "len(recommendation_score)"
      ],
      "metadata": {
        "colab": {
          "base_uri": "https://localhost:8080/"
        },
        "id": "DLcBKomIvbCT",
        "outputId": "419d3c52-6a3b-46ec-cd25-292d627caa57"
      },
      "execution_count": 41,
      "outputs": [
        {
          "output_type": "execute_result",
          "data": {
            "text/plain": [
              "4760"
            ]
          },
          "metadata": {},
          "execution_count": 41
        }
      ]
    },
    {
      "cell_type": "markdown",
      "source": [
        "Get all movies sort based on recommendation score with respect to the user's movie name"
      ],
      "metadata": {
        "id": "l_dz87HnvrAI"
      }
    },
    {
      "cell_type": "code",
      "source": [
        "# Sorting the movies based on their similarity score\n",
        "\n",
        "sorted_movielist = sorted(recommendation_score, key = lambda x:x[1],reverse = True)\n",
        "print(sorted_movielist)"
      ],
      "metadata": {
        "colab": {
          "base_uri": "https://localhost:8080/"
        },
        "id": "Gbfb_dWEv36O",
        "outputId": "fe7ccdd0-887e-4a23-ce14-d80595cb9c1d"
      },
      "execution_count": 42,
      "outputs": [
        {
          "output_type": "stream",
          "name": "stdout",
          "text": [
            "[(2692, 1.0), (45, 0.13892762104802417), (2903, 0.12584885507828886), (3053, 0.12467265801182137), (110, 0.11598852507997257), (4378, 0.11087396201461991), (4614, 0.10735327797301214), (1070, 0.10696429277397615), (1977, 0.10587620958095804), (628, 0.10470540654704749), (2558, 0.10073243626564034), (1982, 0.09901540424545953), (1886, 0.098417811968781), (84, 0.08536666070545877), (3248, 0.07956631015693766), (1118, 0.07810813720658807), (3385, 0.0774417224473127), (590, 0.07514227686459743), (254, 0.07300498505869298), (2112, 0.07199555768525134), (4389, 0.0719155686137698), (4064, 0.07144111509731503), (3360, 0.06938050134214073), (3753, 0.06837081151265409), (4488, 0.06735738720001226), (3408, 0.06728214028640085), (3427, 0.06611435547776957), (2530, 0.06611241422251285), (3450, 0.06606139634027629), (1021, 0.06602653660451317), (479, 0.06498947038359462), (3552, 0.06459239374160385), (3793, 0.06431328111533988), (2630, 0.06314171996888858), (1809, 0.062042086102249594), (3779, 0.061795094448897636), (2893, 0.061094966676521624), (3334, 0.061043695806618656), (3351, 0.06094016796295547), (2214, 0.06039052226441182), (3203, 0.06016221718505643), (3946, 0.06000092091682263), (4739, 0.058230227824595256), (4443, 0.05761863219470748), (637, 0.05755674411498563), (2579, 0.05710773468323833), (2318, 0.05674371536029105), (3023, 0.05667518314087943), (2846, 0.05655490937795851), (2012, 0.05648532849492606), (360, 0.05641597009747934), (3249, 0.05633200507798311), (2187, 0.05623045809727657), (161, 0.055968040778226466), (3137, 0.055726586379347506), (2540, 0.055605478138649814), (2375, 0.05528211261775367), (4152, 0.05507524228225428), (4588, 0.05480741604852148), (1647, 0.05476311599073229), (4452, 0.054274557870809044), (1821, 0.054149866433380565), (2716, 0.05407247072178963), (1085, 0.05406275470409025), (1878, 0.05400095900516098), (3480, 0.05398299412671814), (1148, 0.053219138166204404), (2694, 0.05301284457803527), (3276, 0.05299072213249502), (4398, 0.052742977111753485), (4005, 0.052535263543481925), (3947, 0.052243609615312714), (3486, 0.05198805036380175), (694, 0.05195146134274642), (2476, 0.05189138907556007), (904, 0.051680616340033445), (4137, 0.05111927674609145), (2147, 0.051111410183633035), (1363, 0.051041473830098015), (185, 0.05097936460439308), (1702, 0.05075048135819178), (1311, 0.05074288987820381), (615, 0.050659886626750104), (2782, 0.050648809989952095), (3395, 0.05042471047869045), (172, 0.0501109855556868), (3325, 0.05010976880074132), (1994, 0.05010085229898775), (830, 0.04997554318077934), (3867, 0.04996631138980521), (774, 0.049913376272689346), (682, 0.04985098919834569), (935, 0.0496859453956609), (67, 0.049547055728548686), (3315, 0.049500609475212044), (2026, 0.049307567281116856), (1398, 0.04930370881799357), (2371, 0.0492862889068721), (4721, 0.04926958773536221), (89, 0.048776407846530354), (632, 0.048613501435347234), (4533, 0.04860596367896071), (2413, 0.04856248282907063), (2417, 0.0485407841780339), (1675, 0.048521104393836764), (3470, 0.04847436324404284), (210, 0.048262499095493946), (408, 0.048162870695569675), (4362, 0.047967235039848226), (3655, 0.04787945352348456), (3511, 0.04784841162122168), (3605, 0.04758404483846007), (2321, 0.04753042490088494), (4590, 0.047293115623099506), (2212, 0.047189983283706625), (1383, 0.04713630643767843), (4195, 0.04709729096378217), (2014, 0.04707257117650259), (1837, 0.046792485638402645), (328, 0.046686302617781776), (3518, 0.046652222694082715), (1134, 0.04661098814828966), (3973, 0.04654162044633143), (873, 0.04651690782084457), (3428, 0.046484259781629914), (2100, 0.046292230446545776), (3330, 0.04628835049774177), (3572, 0.04615960175541835), (1362, 0.04613615683611663), (519, 0.046130695316244544), (381, 0.04612170565899913), (284, 0.04603640043905995), (2123, 0.04589527043126736), (2944, 0.04575312595657796), (2920, 0.045744175237809465), (2710, 0.04553020458335569), (2308, 0.04549291745984477), (788, 0.04546747049724884), (3255, 0.045355840113781035), (424, 0.04532286490182951), (2981, 0.04531951892799683), (179, 0.04531338066798382), (421, 0.04530173689966123), (2155, 0.04511074036308127), (1024, 0.04505010605978682), (1991, 0.044995213183032914), (3574, 0.044984184176315965), (1320, 0.04487393828821829), (2687, 0.04485158861394621), (885, 0.04479324385677912), (2122, 0.04469435904839876), (1990, 0.04459006910273742), (3751, 0.044282779752454426), (3091, 0.04420757221659684), (455, 0.04410737172642879), (1482, 0.044028498343877696), (65, 0.044009216687807585), (4594, 0.04396546965229125), (213, 0.04395630915941982), (3004, 0.04393617160903391), (3260, 0.04381864707953595), (3850, 0.043756660530431035), (903, 0.04372130784057577), (4724, 0.043482834204010466), (240, 0.04345596116862721), (4703, 0.043413706181634766), (4252, 0.04334295975213885), (2394, 0.04327682377390643), (2859, 0.04298904473665237), (3146, 0.0429219253811972), (2449, 0.04267635036069683), (3983, 0.0424270334240887), (4602, 0.042145766707030984), (593, 0.04212936864114941), (836, 0.04211878449847641), (3156, 0.04176784599177231), (387, 0.04170651374406469), (3280, 0.04148082113241199), (4165, 0.04135620914796139), (3652, 0.04127455633939035), (4719, 0.04125982069010555), (3720, 0.04119667645447277), (2887, 0.04118155635497263), (4402, 0.04107163642120752), (1063, 0.04106453826516438), (2723, 0.04087212301669258), (721, 0.04085469228793224), (1030, 0.040793825858555635), (1146, 0.04078312320341468), (2316, 0.04065771954257418), (384, 0.04060285977772588), (1351, 0.04053156983392131), (1059, 0.04047496960486872), (3656, 0.04021654846283304), (2760, 0.040216268778701825), (3852, 0.04018563492174536), (1241, 0.040116615672752064), (2365, 0.040005148301397335), (4668, 0.03974398117924029), (710, 0.0396951511402001), (250, 0.03966387579378083), (3871, 0.039481375656572046), (4682, 0.03934707752029301), (1885, 0.039187027411221514), (1976, 0.03918242868541198), (1720, 0.039180713917209446), (858, 0.03903512986596306), (4104, 0.03901747466422726), (2646, 0.03888790132377044), (3465, 0.03885235600238171), (1757, 0.03879675455031728), (2868, 0.0386764883031875), (3010, 0.03866942184580131), (4659, 0.038475619561143634), (2706, 0.03847462936867918), (2102, 0.038333335260000274), (3891, 0.03823180805219833), (174, 0.03818853378931259), (2767, 0.037965393933556885), (3167, 0.03779151214702964), (430, 0.03776099799319607), (3017, 0.03763984579803434), (2082, 0.03759135320780759), (459, 0.03742418777077126), (2467, 0.03727914715173345), (1999, 0.037270846777888715), (1749, 0.037192787765821536), (4548, 0.03717667995475563), (1195, 0.03690684058301392), (2198, 0.0368349408844939), (4128, 0.036762283096051056), (1369, 0.03675698027597444), (3488, 0.036687326402886064), (3731, 0.03662920883320703), (3868, 0.036492951998563436), (812, 0.03648348930871435), (1358, 0.0362467677662961), (3083, 0.03620276261874146), (761, 0.03607760007757985), (1283, 0.03603815328006328), (3913, 0.0360043568473041), (4035, 0.035480954865781705), (176, 0.03516359441730496), (2718, 0.03509929349181196), (1098, 0.03499593964337881), (2157, 0.034913525376585555), (3319, 0.03482220218222258), (1763, 0.03481731700389608), (398, 0.034625163181007924), (138, 0.03447668583408242), (2294, 0.03445179818178233), (1095, 0.03424914917136435), (2517, 0.03407522175508055), (383, 0.03399232710454002), (4727, 0.033781022854336235), (547, 0.03376811217418917), (1186, 0.03375795991990577), (618, 0.033516903097793586), (3430, 0.03295081450532658), (3559, 0.03274194838888555), (1137, 0.03271702483700407), (1397, 0.03246250239580075), (2013, 0.03227484901817396), (25, 0.03201131276698514), (3923, 0.03197405830045387), (1657, 0.0317372307028564), (3362, 0.03169836282024551), (4608, 0.031568938218829355), (3904, 0.03073860658997044), (2020, 0.029939550818333608), (3767, 0.029059903194567686), (672, 0.028694739812061713), (917, 0.02840780840722213), (2971, 0.027961492212729352), (1442, 0.027095016755802892), (2885, 0.026109011422128996), (1652, 0.025979881558175624), (2018, 0.025938034763301917), (4288, 0.025904806055536207), (3638, 0.024573515444419488), (727, 0.024479375219262262), (2459, 0.023733210999482342), (4444, 0.02356254044060639), (911, 0.023317836933365588), (728, 0.023187399258796967), (4699, 0.02308436149014111), (947, 0.02291981689506665), (670, 0.022809786002790017), (2854, 0.02274530877275286), (729, 0.02265064668722204), (112, 0.022617965221512583), (3275, 0.022600126462197105), (1335, 0.02239279140253902), (1968, 0.022350624197096165), (2795, 0.022331294775211674), (2427, 0.022210178640420318), (3284, 0.022021989120213123), (3635, 0.02193605888131741), (1275, 0.021760065743491434), (804, 0.021655912000741403), (3154, 0.021643058970280613), (936, 0.02162594483000373), (3862, 0.021594325000238564), (3317, 0.02155957760514035), (2932, 0.021530582423579032), (719, 0.02146823506493759), (21, 0.021464438139738196), (458, 0.021431928521708325), (986, 0.021234685828390824), (31, 0.021234403347497186), (4658, 0.021210865165288802), (584, 0.021159599403506937), (3043, 0.02114563941753249), (799, 0.021083149424199525), (1044, 0.021037781716450026), (48, 0.02095973556999117), (2406, 0.02084393369267556), (1484, 0.02084268606916824), (450, 0.020831771069199867), (1489, 0.020796344648659922), (1653, 0.020781551487197264), (1229, 0.020704665724853313), (350, 0.020655848881477562), (2645, 0.02061491837169981), (2638, 0.020558004675293146), (3828, 0.02048267132576827), (981, 0.02044457601413664), (182, 0.020438057380456804), (1510, 0.020433252727753825), (1680, 0.020389319167434698), (3323, 0.020383383573679525), (2075, 0.020346524625784217), (1827, 0.020334192837439886), (2053, 0.02030003067026552), (1454, 0.020289212735547436), (4374, 0.020282644913743497), (4068, 0.020265519041153965), (4503, 0.02024893892228924), (580, 0.02011735938961799), (4629, 0.02010333487206422), (542, 0.020087303389020837), (1488, 0.020044959525275203), (1252, 0.020032841249910904), (2037, 0.02002154200441251), (533, 0.020008937235750465), (1853, 0.020003571562109267), (2224, 0.01990131285982654), (1337, 0.019874793825913017), (1064, 0.01983440606880441), (2428, 0.01979795077550327), (676, 0.019796149649516027), (2254, 0.019765889595577294), (622, 0.019759978152630003), (1138, 0.019753248159565757), (716, 0.019733500576755644), (2229, 0.019675944651812594), (653, 0.019639616635183276), (2555, 0.019638763645735347), (701, 0.019602256377010536), (644, 0.01955398959774878), (329, 0.01953138339409445), (4116, 0.019521242552667333), (3616, 0.01952030671520788), (879, 0.019508554741029305), (166, 0.01949769993091088), (2996, 0.019493146987920353), (3797, 0.01947669451361189), (534, 0.0194517831579147), (255, 0.019445324471827258), (1141, 0.019442345179109952), (3777, 0.019441990400945137), (3370, 0.019434946072378036), (208, 0.019424028991547004), (3642, 0.019409295812570275), (1237, 0.01936783796386267), (1716, 0.019361540010664376), (896, 0.019267954606743447), (4284, 0.019260378181776772), (44, 0.01925713111155042), (3771, 0.01924547231126646), (124, 0.01923271929498447), (4038, 0.019204914522656824), (1257, 0.01917922499829313), (3019, 0.019176685842242126), (3483, 0.019168793720449138), (937, 0.01915396915305226), (3108, 0.01913958675380282), (4523, 0.01912590283701162), (4046, 0.019118539435456106), (4244, 0.019116987713198818), (1360, 0.01911378471227738), (3514, 0.019112989657865103), (1248, 0.019111781975624086), (4249, 0.019074643769669414), (2522, 0.019042262206328757), (2910, 0.01902433850937887), (2348, 0.01900117101106136), (3692, 0.018989894029341422), (149, 0.018983015557440457), (493, 0.018981585012175877), (1255, 0.018958513380853), (878, 0.018946859092292514), (3086, 0.018935654509622462), (1001, 0.01893531683494461), (1017, 0.01890651699200968), (989, 0.018883868883964802), (238, 0.018852106837835017), (1119, 0.018828993481541673), (2647, 0.01880928496897995), (988, 0.018788308417890354), (1174, 0.018783803605152378), (4412, 0.018728301316544137), (2484, 0.01872287249891629), (2919, 0.018704216308744914), (1132, 0.01870308494858668), (2210, 0.018692787185850258), (2334, 0.018645221487429274), (2344, 0.018625688560635623), (2088, 0.01861482763999542), (1225, 0.018599242029354274), (2881, 0.018578009622220608), (2412, 0.0185472642410322), (370, 0.018522210816242442), (2447, 0.01850692796748796), (543, 0.018486675880899438), (660, 0.018484278038755006), (888, 0.01848076786337771), (2040, 0.01847373902978891), (617, 0.018471922043606374), (880, 0.018464655111605142), (4098, 0.018462429753256755), (1967, 0.018440962213784908), (4669, 0.018421592004866573), (800, 0.018415656447802048), (1555, 0.018413756931643443), (866, 0.018412873372034868), (3571, 0.01839658086058763), (1687, 0.018393436968642037), (1035, 0.01839130980367848), (2695, 0.01838823885707886), (2803, 0.018357760821637245), (1179, 0.01832391101934949), (1232, 0.01831098586625746), (1789, 0.01830963760458119), (273, 0.01830924175377708), (1595, 0.018297997039627183), (2714, 0.018287639081376802), (562, 0.018287440278207112), (236, 0.018271469531282107), (860, 0.018243692569605528), (4379, 0.018242507053942616), (2908, 0.018227715853689624), (1506, 0.018218245865091923), (4673, 0.018216291159746774), (1931, 0.01818593944746209), (442, 0.018159449283669662), (2024, 0.018141785496727313), (4522, 0.01813838109233712), (1985, 0.018125523861632745), (853, 0.018119494205289452), (3959, 0.01809983340838505), (4282, 0.018092425164443555), (923, 0.01808561843734427), (2808, 0.018069968260206324), (3012, 0.018058588180166014), (2440, 0.01805660045840944), (3210, 0.01802203098054013), (3437, 0.01802054845834883), (2505, 0.017971470157740838), (2091, 0.017961504950493652), (4387, 0.017961135463499568), (652, 0.017948394843585527), (1942, 0.017914390765499322), (870, 0.0178898508864758), (1665, 0.017877196094651826), (1811, 0.01786692081212241), (2925, 0.017855591192103372), (4133, 0.01784438988307069), (3756, 0.017794149677282996), (1433, 0.017792381744725503), (4189, 0.017789540993055596), (1537, 0.017778494495257112), (2045, 0.017764993849924228), (2961, 0.017759433668919574), (4432, 0.01773130729800477), (1902, 0.017730342574475328), (2607, 0.017700524608604447), (3391, 0.017684237944533745), (3801, 0.017669850362104916), (4242, 0.01763311879458549), (3899, 0.01761020274358193), (4255, 0.017573055786929123), (4231, 0.017568485827407408), (1828, 0.017508292260090402), (4299, 0.017501706189185513), (3433, 0.017457872538440628), (426, 0.01745216373070466), (3342, 0.017366175913277278), (3318, 0.017362083088050893), (2899, 0.01735818312332759), (3161, 0.017357399626654467), (3883, 0.017298425174979766), (3402, 0.017268840047139893), (1671, 0.01726493978315767), (2755, 0.01726255186913893), (1183, 0.017257229996875914), (849, 0.017217418781528958), (842, 0.01719824119036241), (1417, 0.017195404404899497), (669, 0.017138185364781296), (512, 0.01712496450204542), (2617, 0.017101093025273476), (1385, 0.017083075307979798), (3185, 0.01705050278670107), (4430, 0.017043042082535296), (321, 0.017018189647150746), (3945, 0.017005934714726494), (3112, 0.016932030489643517), (2269, 0.016920160864063935), (500, 0.016904314897318813), (1796, 0.01686104982707952), (953, 0.016830960303626765), (1000, 0.016794563000935604), (4124, 0.016790410223370696), (939, 0.01678977346447199), (3507, 0.016739245347065255), (2496, 0.016712035894003052), (2768, 0.0166730044738514), (3218, 0.01665829379742077), (52, 0.016636623678144984), (1012, 0.01663614514031386), (266, 0.016596024674501636), (3283, 0.01659217824541973), (116, 0.016588880524329486), (3143, 0.016586130150846548), (2778, 0.016585756510003057), (200, 0.016581655505899857), (3135, 0.016580524972943187), (3452, 0.016573444351245296), (2918, 0.01655123042579793), (2707, 0.016526952067846094), (4591, 0.01649710842663978), (3555, 0.016458019207903487), (1627, 0.01640341191974115), (3741, 0.016391004534724942), (636, 0.01635039038200281), (3734, 0.016349121821527986), (3195, 0.016327730676457288), (137, 0.01625852708008412), (735, 0.016213047016832714), (3344, 0.016177453535570638), (3357, 0.016160340974884335), (2137, 0.01615456838054748), (4268, 0.01612427752382889), (276, 0.0161234180964229), (927, 0.01608519991667346), (3460, 0.016058834530264604), (3119, 0.016038207785878673), (3537, 0.016009289359657668), (1377, 0.015992078923365387), (2379, 0.01596809203747667), (189, 0.01596679069049943), (1479, 0.01595052021790827), (2858, 0.015900552705213088), (3215, 0.015878405002286503), (233, 0.015868770392511895), (1614, 0.01586627361515285), (2011, 0.015835302004539246), (6, 0.015827529797449363), (2722, 0.015827077143345088), (2857, 0.015806046541918403), (2541, 0.015781773912401188), (2569, 0.01575022075791831), (327, 0.015735666531116386), (4555, 0.01573544947953358), (4211, 0.01566254577332603), (1708, 0.01566208693030706), (942, 0.015650244079513376), (1780, 0.0156487726418748), (4589, 0.01564190894366641), (2689, 0.015637977004278557), (3136, 0.015597032561797796), (4121, 0.015539257739373388), (3854, 0.015539209737203099), (3303, 0.015531334993237427), (3978, 0.015523880426922173), (107, 0.01550557509954779), (3178, 0.015501118035323388), (1934, 0.015500472253053517), (1127, 0.015472815120834246), (92, 0.015453467444389784), (635, 0.01544866424753463), (513, 0.015440633349099488), (201, 0.015440032836320635), (2751, 0.015430981556884927), (3133, 0.015426954563402272), (509, 0.015398575082251635), (1391, 0.0153959139630374), (4143, 0.015378003003831), (4747, 0.015286229749859723), (3220, 0.015265890251309467), (85, 0.01525270864427713), (2284, 0.015200975139928446), (2788, 0.015187231132480798), (3917, 0.015182521623944052), (1412, 0.015181019856020404), (3853, 0.015177555824422692), (2949, 0.015169174060792764), (375, 0.015157077628696052), (354, 0.015134479510772859), (2443, 0.015098993210298277), (2355, 0.015090197085962398), (2696, 0.015084549226729577), (378, 0.015079959172326449), (2255, 0.015055625533126175), (4576, 0.015034000545569892), (4705, 0.015024213448362089), (4477, 0.015009679562327505), (3285, 0.015007933738753945), (2309, 0.014990554936868742), (3951, 0.01497476449972674), (974, 0.014942733251374095), (608, 0.014939803654939444), (2668, 0.014903996971232139), (2324, 0.014897445725246497), (3582, 0.014884769878005409), (4731, 0.014867596560480374), (83, 0.014861618963441289), (3992, 0.014847034180048058), (1015, 0.014842599996353695), (678, 0.014837802219974388), (1997, 0.014801017396647954), (3040, 0.014793151711005583), (3813, 0.014783308749763998), (4095, 0.01477316846621536), (1251, 0.01477012070337239), (1226, 0.014763638851456958), (1129, 0.014761102712558096), (1568, 0.01475243410955796), (1681, 0.014746948748174135), (3003, 0.014732750556384268), (3051, 0.014723235824253026), (2529, 0.01471711759592982), (3065, 0.014713817187913026), (1071, 0.014711237726515093), (902, 0.014706764919452836), (1951, 0.014706166907120947), (4552, 0.014697458945069025), (3997, 0.01469569834101028), (4674, 0.014693396853258921), (2998, 0.014680816367734894), (3227, 0.01467764117178589), (341, 0.014665646477136028), (760, 0.01461238904954067), (3166, 0.014609743213187134), (1099, 0.014586015852097182), (996, 0.014572307842088919), (204, 0.014553082249642905), (316, 0.014549505505431638), (3432, 0.014547147281911343), (4306, 0.014546115784430576), (2840, 0.014495009690647152), (2939, 0.014493960215360386), (690, 0.014484338953807076), (3877, 0.014474576898359792), (1007, 0.014459800505359936), (1301, 0.014449117892222703), (4446, 0.014447246205865141), (3975, 0.014436506860164474), (2099, 0.014435563953976691), (2834, 0.014419390800312131), (2567, 0.014414297526816687), (1191, 0.014387085997103088), (753, 0.014381153634616976), (1074, 0.014379312236724145), (1983, 0.01437769051042411), (905, 0.014361822772201209), (2649, 0.014342417645411608), (1924, 0.0143404474568641), (3096, 0.014338386550545177), (3382, 0.014337617641295167), (175, 0.01433693225030109), (967, 0.014333616252818464), (4612, 0.01432822494754108), (4593, 0.014325535847139751), (3436, 0.014321875863590534), (2488, 0.014321681065183204), (1483, 0.014305703900600208), (4033, 0.014295365099849092), (3124, 0.014289247324470065), (2201, 0.014259676670760007), (4263, 0.014236289914347285), (634, 0.014223446209887091), (1866, 0.014221034967795422), (1259, 0.014209370979376322), (3377, 0.014196759978772842), (3147, 0.014182673589866778), (661, 0.014167895764745498), (128, 0.01415547893444838), (1419, 0.014146963884693761), (371, 0.014145133623466446), (4067, 0.01414487601429439), (2067, 0.01414122438125706), (2477, 0.014137610254580157), (1261, 0.014132700806084197), (1980, 0.014130294676879407), (3932, 0.014126582222418239), (732, 0.014124779700139112), (447, 0.014123159056222932), (3942, 0.014112910514568866), (3849, 0.014104439033215108), (1623, 0.014102838978231327), (2320, 0.01409763026504739), (4092, 0.014096484591517133), (123, 0.0140860540479255), (246, 0.01407377240611672), (831, 0.014073631188716447), (3339, 0.014071906672854143), (3349, 0.014069381150641174), (696, 0.014061201834729354), (2094, 0.014057689362225588), (3815, 0.014047216225046327), (646, 0.014024716362996117), (2937, 0.014024208866806581), (928, 0.014017798402079071), (4023, 0.014016427643068874), (825, 0.014011513153151186), (211, 0.013996801734022181), (2421, 0.013988869126982603), (2619, 0.01398854390506213), (2391, 0.013980792719698893), (1188, 0.013974760821053528), (605, 0.013973811943500943), (1658, 0.013968025401198052), (4403, 0.013959050566051517), (952, 0.013955825987773045), (4089, 0.013936533694161347), (3535, 0.013931230494217559), (514, 0.013930027111838024), (3095, 0.013920232084937674), (621, 0.013918860456346483), (581, 0.013916640595725425), (3678, 0.013911100221065268), (1472, 0.013908175858033264), (3602, 0.013899089039896267), (969, 0.013892226907827807), (1765, 0.013891841336489755), (2492, 0.013886294297398618), (4701, 0.013885405138296489), (2410, 0.013872826030018121), (737, 0.013859129060371565), (4626, 0.013857191034036551), (60, 0.013853796025603148), (3213, 0.013852351458824647), (3448, 0.013849172689269345), (4015, 0.013847016515461559), (502, 0.013840085009205179), (643, 0.013834112747682556), (3710, 0.013829871902409878), (3139, 0.013826924705198022), (118, 0.0138262629775084), (1420, 0.013816652937303948), (3228, 0.01381563894839727), (2104, 0.013814741902834056), (2819, 0.013808095889509264), (544, 0.013807867876670795), (4431, 0.013807399457370044), (4202, 0.013806575572207517), (3282, 0.01380210465796878), (288, 0.013795062126674583), (418, 0.013793971833181462), (2655, 0.013783454995684546), (310, 0.013782405313042277), (1713, 0.01377709757599114), (827, 0.013776162084119574), (170, 0.013775829654142688), (3766, 0.013761756711753836), (2720, 0.013752181442947469), (875, 0.01375120388156507), (4222, 0.013740201675924315), (3168, 0.01373547953872783), (3844, 0.013724524297094209), (1286, 0.013722532743956314), (3841, 0.013713134011001068), (1169, 0.013710447546235509), (4660, 0.013710059212302714), (4606, 0.013703758716687204), (1736, 0.013703468670366238), (1452, 0.013703363633958333), (595, 0.013701097433676236), (1962, 0.013695174165264784), (4723, 0.013686192789162617), (2640, 0.01367847381119476), (687, 0.013673608760045261), (2609, 0.013671231172523923), (4102, 0.013661637382600263), (2188, 0.013647152585392824), (1443, 0.01364623079751253), (1799, 0.013631969719752335), (3384, 0.013630706530230163), (3206, 0.013627354395641757), (2863, 0.013626664476922772), (4554, 0.013622151985384938), (318, 0.01361508432318009), (3588, 0.01361477682563304), (2404, 0.013610227964696731), (3290, 0.013606477811176486), (633, 0.013600794383338615), (212, 0.013582484606092644), (356, 0.013582394344733203), (323, 0.013576123204694913), (1854, 0.013565535381357217), (2680, 0.013563377313557251), (206, 0.01356074380608195), (2237, 0.013555737856173746), (508, 0.013547606640930094), (1656, 0.013546606521675775), (973, 0.013546442178970509), (1547, 0.013539997031845007), (2571, 0.013537931374189528), (3042, 0.013537778709076524), (540, 0.013534882418688124), (4049, 0.013528016737120832), (4653, 0.01352446592209119), (1145, 0.01352309155579094), (3502, 0.01352265222455449), (2776, 0.013518942398570738), (999, 0.013511324516141558), (2231, 0.013506057691185229), (4704, 0.013481557781471629), (2598, 0.013479441742658825), (244, 0.013463964563072498), (3721, 0.013463218950895061), (2740, 0.013462402238285511), (2632, 0.013457096915308966), (3022, 0.013453122466627682), (1480, 0.013452211149959934), (1177, 0.013440922507151745), (305, 0.013440492806458452), (43, 0.013439978262855558), (1645, 0.013432935689670775), (2313, 0.01342703540424626), (868, 0.01341126661147055), (1893, 0.013409973676073512), (918, 0.013407356882522358), (3694, 0.013399346940975457), (3814, 0.013398566811225998), (4490, 0.01339632307579849), (1661, 0.013386843863451991), (69, 0.013381970885444848), (481, 0.013377202591551764), (2295, 0.013362110797275593), (2882, 0.013351111564149056), (510, 0.013347798723162507), (39, 0.01332469787699912), (845, 0.013324277514548531), (579, 0.013323837370367896), (1407, 0.013318268234700715), (3126, 0.013315691321286668), (757, 0.013311352535593988), (968, 0.013311352348897087), (419, 0.013307557223395253), (1939, 0.01330370653293327), (1925, 0.013303450730418899), (68, 0.013299974295088146), (4380, 0.013294885548285397), (115, 0.01328978100012125), (253, 0.013289553232112535), (3960, 0.013285781623166154), (2576, 0.013284207097054163), (2537, 0.01328209808130787), (2060, 0.013279785730536897), (1629, 0.013275856979459535), (1608, 0.013275228561994428), (165, 0.013273543087931635), (3479, 0.013268380899336121), (2330, 0.013267042890595309), (4464, 0.013259199670046745), (4546, 0.013254641559669147), (3728, 0.013252305384550748), (4221, 0.013251339051119969), (4710, 0.013248434192925611), (1208, 0.013246182496148385), (220, 0.01323748549920251), (2486, 0.013229242866682518), (2884, 0.01322900718566374), (4142, 0.013222377230077742), (1325, 0.013222194684895171), (3044, 0.013222142474989285), (2643, 0.013216662354071087), (334, 0.01321219164309733), (282, 0.013201635129647393), (4735, 0.013188380945605368), (3708, 0.013182726764815815), (470, 0.01318216570953553), (4248, 0.01317912014182327), (2959, 0.013178189000500242), (550, 0.013177643710972447), (4113, 0.013159057236828836), (2724, 0.013157272284101386), (3312, 0.013157137874923812), (883, 0.013153938723531778), (3233, 0.013150498145193328), (2738, 0.013127335355375061), (2577, 0.013127023801253863), (2242, 0.013126976308165159), (1477, 0.013126427419036702), (3191, 0.01312546258470859), (2559, 0.013104828988774821), (2383, 0.01309988632072081), (436, 0.01309983103929566), (1384, 0.013090846302144857), (750, 0.013088048193130954), (3100, 0.013080331949010095), (152, 0.013075032944273392), (4400, 0.01306383195366178), (1215, 0.013063322401232307), (1829, 0.013061047694327086), (1298, 0.013054464083575796), (2599, 0.013048490284932745), (4004, 0.013047706218332688), (3679, 0.013042814619948414), (144, 0.013042153317980639), (322, 0.013039556151557455), (197, 0.013038787006245348), (1280, 0.013036914351017427), (992, 0.013035266676583147), (2614, 0.013012983616290582), (642, 0.013008304131587302), (1058, 0.013005319639484958), (563, 0.013005277662421419), (3267, 0.012997282889828439), (2346, 0.012995883512648698), (3110, 0.012995814819031764), (3308, 0.012991776177919787), (689, 0.012988328317711038), (1937, 0.012988011501130834), (2062, 0.012987601772001124), (2943, 0.012980536684002205), (1572, 0.012977760094935219), (2601, 0.012976711128234134), (1107, 0.01297502681693521), (1224, 0.012970360771986244), (4502, 0.012969701075023527), (2468, 0.012967952775269754), (1343, 0.0129671772219264), (463, 0.012960879276451969), (1516, 0.012955459377867877), (891, 0.012950014724741303), (3526, 0.012949967992825431), (1876, 0.012936889372523989), (4304, 0.012936876714300499), (1576, 0.012936828338081215), (4039, 0.012936620984774752), (1764, 0.012933194594393446), (294, 0.012932202883201398), (4611, 0.012930663659858534), (2302, 0.01292238202713103), (2199, 0.01292226387330005), (4643, 0.012921565538650634), (1314, 0.012919220337191157), (2947, 0.012917850064661458), (2561, 0.012915027136061782), (4289, 0.01291409608907126), (4002, 0.012913666818483268), (3901, 0.01290730700089674), (627, 0.01290246559365861), (2015, 0.012899309372532938), (2970, 0.012892083394302912), (1430, 0.012889272684058446), (2236, 0.012885015766930397), (2250, 0.01288448082992713), (1817, 0.01288042476882351), (2423, 0.012862152310780183), (2780, 0.012849231346093792), (1096, 0.012845591938589801), (2495, 0.01284322096467409), (3030, 0.012838667835936493), (1217, 0.012835953027008455), (261, 0.012833831516491635), (1471, 0.012830785358290159), (984, 0.0128285745944605), (2591, 0.012827174124213546), (169, 0.012826718665849383), (2111, 0.012824981854330756), (2197, 0.012819177700985371), (898, 0.01281813036480424), (654, 0.012817301533158815), (3247, 0.012816534864522097), (1594, 0.012809376584074028), (2752, 0.012807380792119644), (77, 0.012802615835312482), (2116, 0.012799758415211863), (2736, 0.012799133182899856), (443, 0.012798602995804072), (793, 0.012791924414105586), (2390, 0.012791110113696883), (160, 0.012787958107538128), (2340, 0.012787647214813264), (3860, 0.012784135083945217), (2434, 0.01278393416841333), (684, 0.012777562630638643), (1199, 0.012776153059795514), (4579, 0.01277475167497519), (1192, 0.012772783674763973), (4201, 0.01276664681868054), (1036, 0.012762474101517547), (433, 0.01276097610993805), (3477, 0.012760354375767221), (1427, 0.012759518122100508), (2879, 0.01275767347464011), (2669, 0.012755966472290863), (2196, 0.012754875201257064), (2501, 0.012754814208204412), (1940, 0.012753092745713651), (1243, 0.012746526670724158), (790, 0.012742496182323633), (3451, 0.012740179870515442), (4624, 0.012735431415048452), (3469, 0.012729703134105328), (4298, 0.012726360812548033), (1088, 0.012721752426832754), (2764, 0.012721636295572953), (930, 0.012720506906987351), (4240, 0.01271891641445858), (1173, 0.012718276602357583), (2080, 0.012709718765173732), (1637, 0.012703021708200363), (3064, 0.01270083933275967), (4494, 0.012700506724396685), (4636, 0.012697613865565121), (1047, 0.012696942738060053), (1429, 0.012692892812651953), (2192, 0.012692578909005658), (1254, 0.012686403926812884), (4698, 0.01268545345360193), (2276, 0.012684514419879573), (3131, 0.012682696504131622), (207, 0.012680583445590395), (1918, 0.012679416874939429), (1694, 0.012670932321679665), (456, 0.012660980720587241), (4757, 0.012656276757023544), (640, 0.012652889562567196), (2034, 0.01265017355147835), (623, 0.012644149535620998), (2697, 0.012643972124928786), (1587, 0.012643682175075143), (2069, 0.012639357765555023), (742, 0.012639123881572668), (1936, 0.012631478862741638), (4418, 0.012630549529583571), (560, 0.012629558526102692), (315, 0.012607421423855257), (2273, 0.012604771979787533), (1372, 0.012598363337499962), (3331, 0.01259062878916665), (1109, 0.01258541879370794), (1533, 0.012582355815954429), (3993, 0.01257015076076275), (1528, 0.012568321604027868), (4551, 0.012564261940306468), (1919, 0.012561769734301034), (2592, 0.012560996481589069), (3232, 0.012559541535920473), (4395, 0.01255891990816135), (2797, 0.01255480871611825), (2166, 0.012536404250011002), (1543, 0.012533188600617627), (2633, 0.012531404895252077), (3264, 0.0125313422777604), (1498, 0.01252771681930619), (738, 0.012523686304666253), (1411, 0.01252243235259845), (3699, 0.012518048092003005), (3810, 0.012501413688496726), (1018, 0.012495892966081295), (530, 0.012492329202585714), (673, 0.012484567277483065), (3768, 0.012480650398465666), (425, 0.012479535299567454), (2148, 0.012478512827497094), (3183, 0.012476443986853054), (4117, 0.012473731475994636), (606, 0.012470663941051174), (1267, 0.012468148369003226), (1207, 0.012467198270763018), (3780, 0.012466742397583615), (3271, 0.012466453700196098), (3822, 0.012464379621118083), (3576, 0.012460077398276594), (876, 0.0124574818977311), (683, 0.012457018929787579), (2602, 0.012452285711774577), (4076, 0.012445558808695443), (4633, 0.012443160680379942), (4119, 0.01243914183965798), (1865, 0.012437787477149905), (806, 0.012437059550692714), (2208, 0.012435535123687799), (1812, 0.012432773199291123), (4054, 0.012428133234812727), (2711, 0.012422200586659032), (1381, 0.01242037141683346), (4283, 0.012418569550289103), (46, 0.012417505768560894), (966, 0.012416914420069803), (1929, 0.012414065854400561), (2017, 0.012413478050778129), (4130, 0.012411447871864047), (1759, 0.012408435294351792), (3449, 0.012408267469019286), (1403, 0.01240486206735385), (1542, 0.012396253459284677), (1788, 0.012396034988473068), (2154, 0.012394924579400985), (3802, 0.012393748745390253), (1332, 0.012391695778458982), (2461, 0.012390934875616693), (2399, 0.012389681926339269), (320, 0.012383857661170887), (2826, 0.012380205307832234), (1203, 0.01237977924643565), (4743, 0.01237693587161129), (3202, 0.01237191011297872), (485, 0.012365635833762356), (1087, 0.012360898711310318), (295, 0.012355387134634958), (4328, 0.012353401516361686), (3239, 0.012352891502436222), (3504, 0.012352872004016083), (3171, 0.012352495582678261), (3601, 0.012352343820264882), (1733, 0.01234626707263287), (2727, 0.012345864946298834), (3440, 0.012345116475433274), (855, 0.012341818814424105), (1772, 0.012340159319259861), (3129, 0.012339672357272015), (1357, 0.012339642435562043), (4605, 0.01233789892473265), (2264, 0.012337647484112079), (4163, 0.012336764342282468), (4639, 0.012333328575037727), (2739, 0.012330750490927953), (145, 0.012320322792700431), (2388, 0.01231938459031553), (4325, 0.012319199857484016), (3544, 0.012317340848454721), (1848, 0.012313446675059937), (2963, 0.012310400542364031), (1043, 0.012310203562362431), (4103, 0.012308112292424383), (802, 0.012307157090719313), (4090, 0.012307046586655284), (1284, 0.012307041503652236), (2978, 0.01229862081006962), (2074, 0.0122906779478839), (3744, 0.01229045616702493), (1570, 0.012289471804578875), (2066, 0.0122881876099093), (3020, 0.012278311945820483), (3677, 0.012277398156859996), (1724, 0.012277049208376769), (2820, 0.012274448131654864), (364, 0.012274410578749414), (666, 0.012273867897164961), (2181, 0.012272584979837183), (3123, 0.012272239617559175), (380, 0.012266713246136022), (1941, 0.012261586205278851), (4531, 0.012258652770859389), (826, 0.012257490471862156), (743, 0.012254399489219036), (2385, 0.012250482477813913), (1092, 0.012250300529741793), (289, 0.01224938172096253), (1436, 0.012248569452206877), (3618, 0.012247017219791063), (3659, 0.012244576889008207), (910, 0.012243223158424655), (2991, 0.012242676624141507), (2830, 0.01223727130939652), (2580, 0.01223710335305975), (1588, 0.012235182947158536), (3155, 0.012230619987503582), (2683, 0.012230523001904837), (3640, 0.012228461109104036), (808, 0.012218169468018942), (4684, 0.01221722869286232), (2527, 0.012217023947058151), (3224, 0.012216582222705396), (501, 0.012216555005631197), (1859, 0.012216290702293724), (915, 0.01221326301539209), (1458, 0.012209432926888333), (2245, 0.012208570087866036), (1061, 0.012202270890685039), (3612, 0.012198929182219063), (3516, 0.012196019888034242), (2895, 0.012192251155708846), (852, 0.012185048948209598), (887, 0.0121841532631718), (4481, 0.012183067346733741), (1080, 0.012181872331684291), (2772, 0.012181752550143067), (1184, 0.01217811213463296), (3306, 0.012178059453137682), (2409, 0.012177310729876342), (4465, 0.012175635784827882), (278, 0.012175049478127501), (87, 0.012174879162392852), (2387, 0.01217381039284623), (1901, 0.012172481207965295), (1904, 0.012167787638652665), (333, 0.012164061316288218), (3182, 0.012159814217637404), (919, 0.012158481934678592), (2650, 0.012151773175603854), (2061, 0.01215070080475622), (2193, 0.01214816930086552), (3897, 0.012146827383732298), (3374, 0.012144182899573617), (4213, 0.012140905283171263), (3560, 0.012139541894638508), (4510, 0.012137775547333597), (4206, 0.012134935499416244), (3565, 0.012134486659278375), (3961, 0.012133313927727781), (460, 0.012131782249706246), (3787, 0.012131279996992348), (4120, 0.01213088200610691), (1387, 0.01212524082114876), (3999, 0.012120176139670591), (1858, 0.012115364660412273), (1175, 0.012113341301801927), (1509, 0.012112789892106398), (1003, 0.01210795327891834), (1690, 0.0121058032963826), (4436, 0.012098270292859006), (4756, 0.0120927441316628), (2126, 0.012091219623955743), (2044, 0.012089370620188793), (3684, 0.012088528399313944), (667, 0.012085522197544584), (861, 0.012085203382058771), (688, 0.012083412066416768), (4627, 0.012083255715492508), (2578, 0.012080186794161783), (1662, 0.012079620034981874), (95, 0.012076464314342863), (3196, 0.01207602044021366), (4717, 0.012075391043316943), (1580, 0.012074111165506034), (1053, 0.012072539006956214), (306, 0.012071250182747021), (125, 0.012070844489966436), (3664, 0.012069446578336763), (877, 0.012066263756637292), (4637, 0.012064121538015102), (1065, 0.012062734723998358), (3587, 0.01205974002055533), (1083, 0.01205934351369211), (1303, 0.012055116568276684), (4474, 0.012052954614049191), (2191, 0.012049862021318424), (4377, 0.012049035145378651), (435, 0.012043954041154256), (675, 0.012042198777605527), (3484, 0.01204120267532079), (2151, 0.012035663382384196), (4340, 0.012035459403204279), (4080, 0.012031689684025798), (4259, 0.012030739876838583), (2831, 0.012025099110346563), (3584, 0.012020307703434643), (290, 0.012020143975760789), (1873, 0.012016653265177882), (1136, 0.012010458197993717), (3438, 0.012009744226088767), (1748, 0.012004757570693969), (4578, 0.012001361365010683), (4601, 0.01199751195522414), (1798, 0.011997510283035312), (209, 0.011996779837331271), (3468, 0.011993792995967), (4642, 0.011988256917095399), (222, 0.011984473434610288), (2221, 0.011982087073942823), (3180, 0.01198184604366717), (2988, 0.011981773358061299), (4140, 0.01197955867629569), (4285, 0.01197704476012988), (2786, 0.011973313030204649), (1548, 0.011973193189686166), (3696, 0.01197315016694267), (4139, 0.0119714533469244), (3876, 0.011968796791416832), (1366, 0.01196315959456191), (3938, 0.011961806079505019), (537, 0.011961692606118068), (1688, 0.01195616002442697), (2096, 0.011953698601840798), (3163, 0.011951166236113713), (1100, 0.011950462359732381), (1874, 0.011950460904224431), (218, 0.011949832172773017), (1279, 0.01194528197494138), (102, 0.01194267944840184), (991, 0.011932070559247854), (2642, 0.011928462434785805), (1930, 0.011927514560830728), (51, 0.011922883870015055), (3419, 0.01192163654336528), (1754, 0.011918156143390079), (3289, 0.011916578582666437), (3093, 0.011915258972644463), (1949, 0.011914190561880396), (2652, 0.011913700373947258), (2079, 0.01191063100668852), (1481, 0.011903865539318834), (4200, 0.011896770481871426), (3404, 0.011894523419751682), (1478, 0.011893100137087538), (2546, 0.01188940634361565), (1140, 0.01188679238666467), (3670, 0.011883550467191951), (1562, 0.011878577601886054), (4337, 0.011876408150977407), (3527, 0.01187359597578425), (4132, 0.011870386291580387), (2626, 0.011869778777304543), (148, 0.011867273606521029), (3970, 0.011866205741031408), (4145, 0.011865623197031919), (3327, 0.011864889942030325), (832, 0.011859549935794831), (3889, 0.011858869016889375), (3826, 0.01185556705033283), (2089, 0.011854425221444444), (4630, 0.011851937861040537), (1347, 0.011851934887764117), (3179, 0.011850654984841294), (1380, 0.011847102242400107), (1998, 0.011846952669937684), (1162, 0.011845991454963867), (2986, 0.01184223408755646), (4123, 0.011839740855404762), (3263, 0.01183848455806642), (1167, 0.011834455432656371), (4091, 0.011834255984098431), (515, 0.011833413948847024), (1469, 0.01183192191209999), (41, 0.01182934731194983), (4197, 0.011828941711056388), (1660, 0.011828830344515581), (3338, 0.011827586347569611), (1220, 0.011827465911234791), (1531, 0.011825484987191222), (1527, 0.011820925393251547), (15, 0.011807861619874693), (3413, 0.011803380629051976), (668, 0.01180016269151946), (3405, 0.011797170691885782), (934, 0.011796680705592217), (2746, 0.011795218683898377), (2506, 0.011794453754788782), (1494, 0.011793868322980228), (4246, 0.011793248059739941), (3966, 0.011791744273032246), (4489, 0.011791186084541515), (153, 0.01178695318356411), (1187, 0.01178143775542258), (589, 0.011777448709876806), (3769, 0.011776847504855656), (2303, 0.011776345604490028), (3410, 0.011773560359347467), (3337, 0.011770739441989852), (3792, 0.011770551931829486), (4401, 0.011769739313469937), (4251, 0.011761298334665632), (489, 0.01176104830211034), (1049, 0.011759191805669767), (3032, 0.01175738414366997), (1382, 0.011754938355996017), (4147, 0.01175346292221853), (314, 0.011748363306314374), (2016, 0.01174661057504452), (1659, 0.01174584622388233), (916, 0.011744753039218282), (1719, 0.011741516581604662), (1871, 0.011737179599201463), (1776, 0.011737071713993411), (3886, 0.011736418227056055), (4275, 0.01173630977368014), (3348, 0.011736120224416665), (3005, 0.01173543758440175), (3952, 0.01173415431904259), (1792, 0.011732819764826638), (113, 0.011732701949466125), (4287, 0.01173152416768353), (3621, 0.01172612084128609), (3398, 0.011723253873376612), (3367, 0.011723047350736364), (4365, 0.011718014975596786), (749, 0.011716477885189595), (2728, 0.011713603849895938), (2464, 0.011712871922847817), (810, 0.01170868742842269), (431, 0.011707536281704595), (3443, 0.01170298957371022), (420, 0.01169987712596659), (1761, 0.01169683671877211), (2618, 0.011693999435876162), (2512, 0.011691422579781514), (1860, 0.011690702317205285), (604, 0.011685223961935755), (3845, 0.011681436159890136), (4621, 0.011681302749513957), (1475, 0.011680917846305922), (1591, 0.011679894214575198), (1104, 0.01167985466008702), (281, 0.01167867642917702), (2733, 0.011674940729176901), (215, 0.011674125930694465), (1339, 0.011674010969175037), (18, 0.011672912141554423), (3225, 0.011672506170879657), (3046, 0.011670545358626452), (931, 0.011669632190454875), (1426, 0.01166921813811075), (3153, 0.011666686640634602), (4677, 0.011662974124847913), (4164, 0.011660241401427213), (4470, 0.011659409971112571), (2403, 0.011655338837721536), (3187, 0.011654432115476338), (3653, 0.011653627937316393), (4392, 0.01165250348000493), (303, 0.011647846886888736), (3435, 0.011646659401334535), (1150, 0.011639193356914877), (3833, 0.011637455094306094), (313, 0.01163540429455301), (1219, 0.011632151005677738), (4322, 0.011631698121772107), (1808, 0.011630664757494366), (848, 0.01162925121292206), (3593, 0.011628089634353637), (4517, 0.011626852576933126), (3592, 0.01162413702266902), (1112, 0.011622464281965752), (279, 0.01162187074526028), (35, 0.011620400711020573), (247, 0.011615675679143546), (1334, 0.011614190733319858), (1122, 0.011611647054752924), (2725, 0.011610780199036354), (1272, 0.011608878113493775), (1292, 0.011596133962698452), (4587, 0.011593332423642324), (2940, 0.011589085510059804), (2422, 0.011588114091182461), (4384, 0.011586886944557562), (1223, 0.01158686435567747), (3373, 0.011584422755758215), (1840, 0.011579045310097609), (4550, 0.011575830405558877), (1170, 0.01157217435155411), (2374, 0.011571873162407306), (2972, 0.011571542759664325), (2478, 0.01156959481857194), (1302, 0.01156838968462371), (2136, 0.011565895674783243), (1158, 0.011564202370381318), (2872, 0.011562234755553498), (1432, 0.011558230621508726), (1573, 0.01155803831143823), (3556, 0.011557606139664816), (2397, 0.011555537984037292), (872, 0.011551302309130804), (1230, 0.011546965812948666), (1396, 0.011539574098899563), (1701, 0.011538340086288913), (1897, 0.01153607951928594), (4096, 0.011534855623595578), (4174, 0.011531404926046823), (900, 0.011529548774755951), (3388, 0.01152906916428527), (1502, 0.011526339336296728), (3085, 0.011525481810092728), (1864, 0.01152143003679297), (469, 0.011519893720118588), (1779, 0.01151970259490375), (2847, 0.011519406216918573), (4178, 0.01151938570342738), (769, 0.011512401229780237), (4665, 0.011508189799705753), (1375, 0.011508003371770431), (483, 0.01150786273607374), (1266, 0.011507008983627165), (1413, 0.011495780205899829), (994, 0.01148680482930249), (3446, 0.011486319802730004), (1474, 0.011480725557029229), (2844, 0.011480602484112727), (2216, 0.01147742668013061), (3122, 0.011475730173728658), (4445, 0.011475695046398672), (332, 0.01147186190708732), (2606, 0.011471263688936282), (765, 0.0114695008016523), (1234, 0.011468018340089096), (287, 0.01146648993809548), (239, 0.0114662485176365), (1650, 0.011465517130474402), (2787, 0.011463051566540287), (190, 0.011460674701810008), (1740, 0.01146001118823629), (715, 0.011459844575889016), (4715, 0.011458966379665017), (2595, 0.011458642252128982), (1206, 0.011455729865040837), (1273, 0.011453258660445565), (3583, 0.011452693686171477), (3492, 0.011451967327950336), (1409, 0.011449459997057872), (1611, 0.011449225338261397), (3386, 0.011448836792880937), (2610, 0.011446512074245137), (932, 0.011445496709220675), (4448, 0.011445284917008323), (3070, 0.011443934414489416), (4160, 0.01144064458661631), (3823, 0.011438978664081622), (2246, 0.011436002571717445), (2314, 0.011433571603948083), (1851, 0.011433254295730427), (4216, 0.011433041673599112), (2912, 0.011430580007781814), (2519, 0.011430279057196546), (4013, 0.011428507549408062), (4516, 0.011426149270969433), (1410, 0.011425417806941694), (3624, 0.011425065875335361), (4466, 0.011423099580029898), (4175, 0.01141985745179269), (30, 0.011419489230064361), (2791, 0.011418062910263175), (1554, 0.011417597613882193), (976, 0.01141471934357744), (1933, 0.0114127589393282), (3888, 0.011409354701083233), (3336, 0.011408963896892643), (34, 0.011407676092833276), (1304, 0.011406040181128315), (2611, 0.011405604601545188), (1643, 0.011404507995889135), (1359, 0.011402851634483733), (4428, 0.011399273243454005), (1400, 0.011398896859785653), (105, 0.011395369432131914), (2283, 0.01139411554951335), (351, 0.011387107006442345), (1727, 0.011383340184280107), (4435, 0.011380073492581449), (1216, 0.01137822733876651), (631, 0.011377190555334425), (1124, 0.011377059262627607), (286, 0.011376945563389331), (1476, 0.01137218293939064), (1590, 0.011368277354397289), (468, 0.011366405295760707), (3666, 0.01136299057208513), (79, 0.011361462198925124), (2702, 0.01136125364180764), (4295, 0.01135870375256547), (619, 0.011357498898499617), (1857, 0.011356997580557495), (3747, 0.011355308350706094), (980, 0.01135460173517271), (3496, 0.01135179611229491), (1971, 0.011349584904726552), (3967, 0.01134451897699633), (1364, 0.011343450596900014), (2078, 0.011342627998408255), (1678, 0.011341576203533056), (1428, 0.011340695620199452), (921, 0.011340310628367968), (3498, 0.011339424850645792), (1270, 0.011332500214723148), (1002, 0.011331586270707525), (2771, 0.011330724036610972), (1551, 0.011327413660590422), (1455, 0.011325718153635313), (2070, 0.011322642748626535), (2121, 0.01132180031903133), (1881, 0.01131920443703729), (3026, 0.011318319050911017), (1846, 0.011312642253415273), (1204, 0.011311639723280328), (803, 0.011311131182244907), (890, 0.011310427102096877), (3807, 0.011309899370617412), (1958, 0.01130867987115291), (1993, 0.01130633085375649), (1760, 0.011306009112000668), (3907, 0.01130548459310811), (3623, 0.011303894772142239), (2682, 0.011301409776215656), (1970, 0.011299562821008682), (809, 0.01129737262589643), (4199, 0.01129333839017463), (27, 0.011289012054430045), (3393, 0.01128865243659307), (811, 0.011288522122866467), (1185, 0.01128692173477604), (1440, 0.011284833956330238), (740, 0.011284578029419831), (2945, 0.011280493573588558), (2742, 0.01127995190562702), (4420, 0.01127826907301878), (4394, 0.011273353095489609), (291, 0.011270988341335995), (2634, 0.011270415918858662), (2969, 0.011266193571415624), (4644, 0.011265703408553072), (1431, 0.01126199040324761), (2480, 0.011261742635208535), (1324, 0.011259592146177996), (2008, 0.011257652097881626), (3665, 0.01125648701008519), (1996, 0.011256104029408173), (3706, 0.011252718881990531), (998, 0.011247289112748473), (3134, 0.011247029033095515), (2721, 0.01124455155403013), (2442, 0.011242405613313893), (3794, 0.011242289478415789), (2809, 0.011240419710049354), (270, 0.01123970948749166), (2131, 0.01123712417668081), (3299, 0.011235501326045205), (4345, 0.011235495330349681), (698, 0.011233654803512013), (2049, 0.011228985333631366), (3711, 0.011225881904199106), (4136, 0.01122562887965282), (2801, 0.011225075583557141), (1622, 0.011217588226891836), (2784, 0.01121153615860548), (1616, 0.011211248240297504), (1975, 0.011208958273400361), (824, 0.011208946628742212), (1317, 0.011196552858983855), (884, 0.011192531337033438), (2356, 0.011191674747233817), (2759, 0.0111915430987146), (1632, 0.011191305763931495), (4176, 0.011188738118626512), (4471, 0.011188644615742451), (2758, 0.01118856926119256), (3, 0.011186944097954543), (997, 0.011182310634901547), (2992, 0.011176321837046335), (4043, 0.011174481199546392), (2554, 0.011171144342561222), (4566, 0.011167990808861347), (4036, 0.01116339598829812), (4056, 0.011163287430277061), (71, 0.011163028651607346), (2888, 0.011161212409051402), (3335, 0.011150331899978374), (3661, 0.011149771894660586), (467, 0.011149610992361943), (1392, 0.011148178862486367), (1438, 0.011146130433024948), (3908, 0.011143880518998912), (744, 0.011138992957132728), (396, 0.011136778023512378), (588, 0.011135037797963824), (3599, 0.011131846279770279), (4501, 0.011129645360280228), (657, 0.011128225235631386), (3782, 0.011125837266602588), (4011, 0.011124079615876099), (1927, 0.011122629510730626), (4604, 0.011119478937158046), (3487, 0.01111813319934646), (1009, 0.011116257509653298), (3352, 0.011105011993781227), (445, 0.01110492291276002), (3919, 0.011100836417976427), (2108, 0.011096325497055106), (2001, 0.011095145891317347), (3456, 0.01108851123254112), (3246, 0.011086521701892312), (1395, 0.01108463125386443), (1406, 0.011084625254347079), (499, 0.01108124921432873), (3705, 0.011077709050607005), (723, 0.011075601319994), (4649, 0.011067422474980501), (3637, 0.011059802266932805), (1202, 0.011058849558117095), (3045, 0.011057295282008677), (3329, 0.011051334113697934), (4586, 0.011049309133948833), (2232, 0.011046873010868607), (1356, 0.011041896158900551), (3875, 0.011036148953002494), (3974, 0.01103597910600922), (1262, 0.011035962785989051), (655, 0.011034357614487185), (72, 0.011034138437488447), (3445, 0.01102735591772345), (3517, 0.011026856787503243), (871, 0.011026454644671894), (3493, 0.011022941592424711), (1905, 0.011022016950430539), (2280, 0.011012244222301524), (1117, 0.011009471436586798), (2954, 0.011007849247065207), (3499, 0.011006150865152707), (3238, 0.011005083194507324), (4623, 0.011002035948907994), (1819, 0.011000264036885098), (1992, 0.010999349927647626), (4154, 0.01099510294045378), (3704, 0.010993633809773789), (3407, 0.010992988451085373), (1633, 0.010992834039417015), (1953, 0.010981791894005473), (346, 0.0109797841935567), (2292, 0.010978565391148219), (2119, 0.01097667683918102), (2057, 0.010973675703905554), (1722, 0.01097102355313158), (511, 0.01096846075419257), (3819, 0.01096812557247456), (1960, 0.010968037645822524), (4192, 0.010965562533593176), (1852, 0.010965031108544944), (703, 0.01096284427184421), (1082, 0.01096271873863794), (2396, 0.010960766828004561), (2031, 0.010956710756735747), (1281, 0.01095491188854924), (4271, 0.010951069907856843), (3641, 0.010947344487858647), (1667, 0.01093732839930598), (1449, 0.010930376404052018), (3426, 0.010930017878432825), (93, 0.010925581333165835), (4487, 0.01091978238874288), (2206, 0.010912207322745103), (759, 0.010909809260345333), (457, 0.0109066156996374), (1612, 0.010904761589081054), (3474, 0.010902318955751788), (3150, 0.0109006828507889), (1739, 0.010900136850625871), (756, 0.010899343643944757), (2929, 0.010898403797801924), (4106, 0.010897113083196984), (111, 0.010896548135039916), (4425, 0.010893199106753192), (2429, 0.010890301062573268), (1041, 0.010885250755040644), (1050, 0.01088447183772803), (3240, 0.010881746239275396), (1421, 0.010879637320578193), (2446, 0.010877584945319155), (2209, 0.01087418238472694), (3733, 0.010868780504499163), (4274, 0.010867783588454805), (4582, 0.010867089601812303), (1822, 0.0108621026780671), (1630, 0.010855642931677463), (377, 0.010852882067682234), (4381, 0.010847688180847906), (2473, 0.010846789415349613), (2489, 0.010846202964064876), (4442, 0.010836270421716318), (4670, 0.010834648453459076), (2055, 0.010833294150004774), (3174, 0.010831969113166985), (2524, 0.010829328383819701), (697, 0.01082524876089307), (1832, 0.010819221350443806), (4607, 0.010816759294384094), (1197, 0.01081357037894605), (1621, 0.010813052958512672), (2117, 0.0108125848911122), (4419, 0.010810165032890527), (3466, 0.010810060108392068), (202, 0.010809114799725008), (482, 0.010803501941012223), (874, 0.010798351127704756), (2278, 0.010792252689431878), (3668, 0.010791503872648744), (1300, 0.01079126499395092), (3389, 0.01079094762516289), (3194, 0.010786647753855865), (330, 0.010783669934866876), (2260, 0.010779278982970852), (1634, 0.010778409738542553), (3776, 0.010777789634326022), (2553, 0.010777322988586963), (4264, 0.010775902475428945), (851, 0.010774643620922994), (815, 0.010772729730596297), (4309, 0.010755163240371866), (135, 0.010752650184671532), (801, 0.010750761893486031), (1308, 0.010745469901534872), (292, 0.010743752803162279), (1838, 0.010743535137435641), (3501, 0.010742514822535541), (1964, 0.01073689377808094), (775, 0.010736262547964712), (1631, 0.010735939971119116), (3520, 0.010728876604177238), (2143, 0.010727691512398625), (3416, 0.01072210458569888), (2862, 0.010718592337493732), (2336, 0.010714681492066766), (452, 0.010713776015921085), (1211, 0.010711990437849109), (3824, 0.010711843142155241), (571, 0.010708233082772226), (1123, 0.010707004167749546), (1451, 0.010705550562135761), (625, 0.010701209753166397), (4000, 0.01069961980709159), (1861, 0.010693474440596007), (4320, 0.010691534610756708), (1084, 0.010687179037270619), (4422, 0.0106836514903299), (3513, 0.010673200331341951), (1367, 0.010670718120378044), (1922, 0.010670490474775836), (1642, 0.010663384831205096), (2622, 0.01066179655800554), (1706, 0.010660124385928064), (3646, 0.010653650812188244), (251, 0.010653132476282497), (3071, 0.010648717082859326), (423, 0.01064230791428431), (1845, 0.010641997201803664), (1696, 0.010635728779667362), (609, 0.010634432401709708), (1394, 0.010631989164340782), (641, 0.01062972595501862), (1598, 0.010629163997563335), (3882, 0.010628421906719865), (4339, 0.010628230363825101), (2084, 0.010627145957174578), (4071, 0.010618531453593014), (158, 0.010617691127920319), (120, 0.010616131835933601), (854, 0.010613206039754824), (3606, 0.01061215229170579), (3660, 0.010608556198282914), (816, 0.010608416541684757), (893, 0.01060202164041298), (1115, 0.010598441354193622), (90, 0.010590827984720823), (2748, 0.010590300444736446), (1210, 0.010588937058959913), (541, 0.010586379270759512), (61, 0.010583775605216804), (80, 0.010577220883648954), (285, 0.010573218656719806), (4290, 0.010572678926062569), (1114, 0.01057253620729773), (4504, 0.010572417606479029), (4652, 0.01057079594603562), (2587, 0.01056917965007384), (639, 0.010568118430859625), (2277, 0.010565111050114442), (3989, 0.010565075581954709), (856, 0.010563323999997973), (2876, 0.010562973479303872), (94, 0.010558140888111583), (2507, 0.010554572775653167), (3084, 0.010550872267985626), (1571, 0.010537168512231382), (4479, 0.01053438574398751), (234, 0.010528864242661687), (2984, 0.010524809771854257), (4052, 0.010520881292791285), (2076, 0.010508506004802272), (2251, 0.010508202372744123), (2382, 0.010508053145195817), (3444, 0.010507833849509957), (1462, 0.01050778177546886), (4310, 0.010506793156667646), (2789, 0.010505801310533353), (3279, 0.01050569003221032), (1408, 0.010503066207072864), (4366, 0.010492625286844316), (3471, 0.010489783787140914), (410, 0.010485291339248949), (1635, 0.010478659703859897), (2402, 0.01047523043544591), (1079, 0.010474360482169797), (3328, 0.010474129129370398), (4044, 0.01047264028284687), (3910, 0.010471273185462048), (4561, 0.010466730624516111), (147, 0.010466453977518879), (325, 0.010464615394304402), (494, 0.010462899733015283), (4357, 0.01046207822280867), (1816, 0.010455527278009616), (2230, 0.010450446112134103), (1943, 0.010445837264608892), (524, 0.010444315981139554), (1683, 0.010437852367367745), (106, 0.010434960749231057), (2812, 0.010434210942032708), (3403, 0.010428381553737154), (191, 0.01042736769284114), (3727, 0.010426607003998941), (733, 0.01042568365899088), (3491, 0.010423335919169635), (794, 0.01042053542695476), (2139, 0.0104182182496486), (241, 0.010414445370433893), (2285, 0.010413704406396267), (132, 0.010412726345720573), (1693, 0.010402722367829798), (692, 0.010387559593101604), (3723, 0.010387014547486839), (4060, 0.01037513229688792), (2174, 0.01037119679638874), (471, 0.010368500700418693), (570, 0.010367241970486317), (4585, 0.010365769778413027), (4391, 0.010345361695223623), (199, 0.010343744193651827), (2270, 0.01034268588813619), (4513, 0.010339334650549753), (260, 0.010332851814779175), (1677, 0.010332677611045362), (1774, 0.010327860535918745), (1493, 0.01032332923495913), (129, 0.010311299372775026), (119, 0.010306158533672881), (4441, 0.010299713619163854), (4661, 0.010287939028618511), (428, 0.010287059040862839), (3113, 0.010283764227743505), (3016, 0.010282749327988398), (2934, 0.010282264965142406), (4235, 0.010278350502924583), (2509, 0.010278329916583335), (4695, 0.010277198908800795), (1877, 0.01026230281135872), (792, 0.010255374988953755), (863, 0.010255096324755032), (507, 0.01024990838111941), (1900, 0.010244686219461693), (3176, 0.010241560875709875), (3941, 0.010240136931134155), (82, 0.010240077614072198), (1593, 0.010237849365278278), (76, 0.010235159830012747), (961, 0.01022561841323539), (1514, 0.010218409289038284), (566, 0.010215059909558346), (3429, 0.010214496264723365), (2441, 0.010200903823623464), (2432, 0.010197136721001759), (1559, 0.010193537416837197), (1153, 0.010192178334113974), (4193, 0.010190505955881867), (2452, 0.010190479564513908), (1309, 0.010188431363914405), (1830, 0.010187841408039203), (1914, 0.010184734915830286), (1950, 0.010183140214051593), (3418, 0.010182552122989753), (2603, 0.010180506315485418), (1948, 0.010175011937924638), (195, 0.010173969472104086), (1312, 0.010165912803563954), (2956, 0.01016512993512481), (369, 0.010160970357658767), (2110, 0.010147947825429146), (828, 0.010142505953581819), (3957, 0.010135938502756063), (3575, 0.01013270424543946), (2065, 0.010131402287551704), (400, 0.010124973334287865), (357, 0.01012273202635572), (99, 0.010119816543111317), (127, 0.010118868726612952), (594, 0.01010623761919362), (3099, 0.01010284184738658), (1519, 0.010094404433668575), (1465, 0.010087450480780953), (359, 0.010083686167273306), (3953, 0.01008005700279371), (88, 0.010078887667783802), (3663, 0.010075776968036486), (963, 0.010053134838660206), (940, 0.010051944574722494), (4450, 0.010048507429329615), (2048, 0.01003250348265712), (2871, 0.01003181981439127), (3441, 0.010029801080212451), (3160, 0.010027793273644283), (3900, 0.010024251606028647), (1539, 0.0100054472754261), (4373, 0.010004910889111767), (108, 0.010001484834359047), (487, 0.009997738702194899), (4733, 0.009989769929262055), (4473, 0.00997662365074221), (2852, 0.0099723262698312), (1352, 0.009964413941164032), (271, 0.009948396100859775), (2621, 0.009947998633152062), (2999, 0.009946992997584721), (1448, 0.009942634086887687), (699, 0.009926804172494263), (3725, 0.009926529826792202), (2917, 0.009924972763488143), (559, 0.009923097408358308), (1370, 0.009921758864985242), (242, 0.009916539623231663), (1989, 0.009912349090558898), (2007, 0.009901383436530286), (1699, 0.009878284340339761), (1954, 0.00987814678192183), (3035, 0.009876001651539778), (1833, 0.009859927488458486), (136, 0.009857782803439796), (417, 0.009857643836833846), (1414, 0.009852715134514748), (1348, 0.00985248324671185), (789, 0.009851032025459098), (3538, 0.00983547873132172), (691, 0.009833519914838872), (4679, 0.009829872850750827), (2093, 0.009823050590451248), (1461, 0.009821639808263671), (178, 0.00982091730287728), (78, 0.009817120129952412), (2244, 0.009816629414740619), (4493, 0.009804020499153335), (4156, 0.00978191737158082), (1815, 0.009773543903525571), (2279, 0.009764640696870731), (979, 0.009743974342833212), (4344, 0.009739157560739679), (4610, 0.009738485117282241), (718, 0.009735356997979153), (3078, 0.009728985271351558), (1628, 0.00969436755114273), (2248, 0.009658746329581164), (2573, 0.009628621113152956), (3918, 0.009628149429762423), (4681, 0.009628149429762423), (1540, 0.009618611838757823), (3795, 0.009616923879108834), (473, 0.00960997388756775), (3304, 0.009605983497734427), (2438, 0.009603269875502307), (4228, 0.009593078746718086), (505, 0.00957059941877556), (4272, 0.00952451103277838), (1781, 0.009521275020591802), (11, 0.0095210446189176), (1957, 0.009507322125281235), (4713, 0.009504763631109305), (829, 0.009503427011194469), (1321, 0.009499580042870673), (3906, 0.009473050520971641), (12, 0.009466185539622082), (4426, 0.009464317589641646), (779, 0.009456541505707093), (409, 0.009452020620984087), (3521, 0.009448887729878503), (4458, 0.00943721582161821), (2211, 0.009436741308290402), (304, 0.009431485283543286), (707, 0.009377910086863828), (2401, 0.009359845527161624), (496, 0.009339132921554623), (712, 0.009338020294549183), (393, 0.009335879405404162), (50, 0.009330128927618378), (3895, 0.00930851345429766), (142, 0.009285339529113572), (3186, 0.009284493164852085), (1209, 0.009282409075559595), (1880, 0.009259177905996306), (3674, 0.0092582353335932), (4455, 0.009250907713167687), (3553, 0.00925022700631237), (4744, 0.009244025446381568), (2182, 0.009216048446578655), (4281, 0.009204321510280514), (1160, 0.009198750882594437), (857, 0.009192938988546357), (3534, 0.009185559883031541), (3912, 0.00918285331795904), (951, 0.009179132321484876), (2581, 0.00916750004165794), (1277, 0.00916597649559345), (4311, 0.009161085620827632), (3307, 0.009155475123395646), (3689, 0.009152391560181411), (1842, 0.009143915364826831), (1636, 0.009140713161213397), (3577, 0.009135369560190723), (4030, 0.009130869883705105), (2533, 0.009113213134635516), (1078, 0.009106578183105162), (3760, 0.009104611686486875), (2556, 0.009085779544774308), (1164, 0.009064746098559494), (3423, 0.009064620903561419), (2226, 0.009049171407087109), (4553, 0.009048447108890348), (3169, 0.009041282448904155), (1737, 0.0090307480403931), (2982, 0.009021600367662974), (184, 0.009010699612735242), (1200, 0.009002221678690612), (373, 0.008993507274747604), (491, 0.008978554113081261), (3261, 0.008977712144308932), (2027, 0.008957807052586047), (429, 0.00894702517285716), (3715, 0.008942640330188203), (3029, 0.008936100378289508), (4752, 0.008923311796684348), (1459, 0.008921605207731009), (146, 0.008905776620609337), (1679, 0.008881466020159516), (154, 0.008880687412644228), (2179, 0.008880321391136687), (3223, 0.008872390804387738), (1341, 0.008823965486746766), (1157, 0.008822364439749708), (2134, 0.008817485608433531), (49, 0.008812779334835014), (4012, 0.008802554319682226), (3302, 0.008798034404314726), (1052, 0.008790097825263788), (4276, 0.008789770731515288), (1810, 0.008765462165647699), (302, 0.008750878882158038), (3008, 0.008750853323070053), (2275, 0.008750388282831197), (3626, 0.008743618228747727), (3142, 0.00873623807202345), (2004, 0.008727723232068926), (2378, 0.008716528414089353), (3944, 0.008712243694869901), (821, 0.008711896498651303), (237, 0.008701034889093719), (1511, 0.008696733514271346), (1577, 0.00869068888535927), (1236, 0.008680749002843085), (2430, 0.008670735619547806), (2033, 0.008668267127560494), (3258, 0.008660937221869313), (1051, 0.008654549732485589), (950, 0.008653919293733854), (1326, 0.008649275803989886), (10, 0.00864692639461473), (664, 0.008642618147408923), (4308, 0.008633839189983611), (3546, 0.00863185855097313), (1619, 0.008610800242178515), (564, 0.008610125818450956), (1365, 0.008599623827797798), (1353, 0.008570513977533497), (4048, 0.008568559048119996), (572, 0.008562580917798372), (1569, 0.008555160411487382), (1042, 0.008551462306755419), (29, 0.008549561145042888), (2138, 0.008548956261110359), (1898, 0.008521126656655378), (1589, 0.008517465758841922), (3365, 0.008509932438477644), (1818, 0.008497470625244339), (2358, 0.008487230281329156), (3434, 0.008483196481755441), (1674, 0.008466473527990506), (695, 0.00845653513282844), (1152, 0.008451685207616272), (3214, 0.008451418779030188), (446, 0.008450683344543509), (948, 0.008447633233140168), (1497, 0.008446976195700827), (1906, 0.008429601514499367), (4138, 0.008423617252304115), (17, 0.00841553255931917), (4270, 0.008412400710570842), (2657, 0.008402012032696313), (3421, 0.008379302945611214), (101, 0.008374823353801427), (2046, 0.008370550890459101), (2743, 0.008361311446936245), (3843, 0.008358232054740655), (3062, 0.008353390344701192), (545, 0.008346981594783316), (2849, 0.008339182866771308), (1692, 0.008331687194036102), (109, 0.008324039277990745), (4194, 0.008319401454837175), (1546, 0.00829565744536334), (4134, 0.008280888767605604), (548, 0.008276579039392457), (2261, 0.008273143571514421), (484, 0.008270568005671634), (4336, 0.008264215702155957), (929, 0.00826164948439792), (2146, 0.008247815673501361), (1972, 0.00822993654747577), (1113, 0.008214751192152623), (1586, 0.008212750435574009), (117, 0.008194702735514963), (2935, 0.008184957602872958), (946, 0.008183818583205108), (2658, 0.00817763012632475), (2361, 0.00817679974818038), (2637, 0.00815205778661562), (2620, 0.008151467197508831), (2407, 0.008149304886016107), (4232, 0.008141773147991374), (3165, 0.008138118459648904), (2083, 0.008130286066638487), (2870, 0.00810691881211489), (1868, 0.008093923247919296), (3742, 0.008085103032215187), (3114, 0.008077464256939212), (629, 0.008076836246741655), (791, 0.008057122378558806), (3400, 0.008044704013312715), (406, 0.00802945110537667), (933, 0.008024079496378438), (1579, 0.008016691959291708), (2892, 0.007990678771018568), (2114, 0.00798408442010629), (1190, 0.00797585300624415), (796, 0.007972153734361189), (1609, 0.007958928930720845), (1350, 0.007953642495523596), (598, 0.007949945764156505), (2828, 0.00794018665717072), (1704, 0.00792508587482708), (2794, 0.007918759542295081), (736, 0.007906121739578402), (2628, 0.00790335455602616), (3118, 0.007902618705467573), (4247, 0.007897357163498741), (3713, 0.007896636467717521), (1663, 0.007896311418902863), (1307, 0.00789399255227185), (4512, 0.00788239090367416), (982, 0.007873483786397), (1787, 0.007866032553493206), (846, 0.007863519474276976), (2562, 0.007862421858405176), (4066, 0.007855413934184537), (183, 0.00784861992886747), (1605, 0.007848086027204389), (2941, 0.007847457373364333), (3011, 0.00784701115232629), (2338, 0.007836234285439612), (1735, 0.007836150871530173), (3804, 0.007829623719173518), (495, 0.007825251227628623), (2520, 0.007824993579219695), (2235, 0.00782470665954314), (4051, 0.007821332120889545), (1086, 0.007815486688420886), (1161, 0.007814584707439861), (1839, 0.00781396967122675), (565, 0.0078122953376602924), (231, 0.007805556123748414), (3986, 0.007802554649995636), (63, 0.007778968855635143), (1181, 0.007769115162391072), (2127, 0.007766128467191478), (567, 0.007738785320579236), (4209, 0.007732226753182063), (464, 0.007729328664003927), (480, 0.007720093949763798), (679, 0.007712482927121546), (2907, 0.007711178577255014), (2715, 0.0077075560510400515), (2588, 0.007694479584782012), (156, 0.007684644928990212), (2769, 0.007676007816439443), (1882, 0.007673071529451384), (157, 0.007670509345969202), (985, 0.007666960165819404), (2688, 0.007643108714655962), (4254, 0.007635447870318122), (1393, 0.007633702461929678), (4230, 0.007633654081582697), (2282, 0.007626384934657268), (2168, 0.007615302509818145), (336, 0.007611477383356885), (538, 0.007606476821435625), (441, 0.007574031737723528), (2886, 0.007573764965174592), (1984, 0.007572165176574799), (823, 0.007563266437787734), (4475, 0.00754384274074924), (4603, 0.007540224563737402), (614, 0.007537121355455792), (892, 0.007533605714791031), (3253, 0.00753189765347188), (3472, 0.007525677950276327), (3630, 0.007517296474047088), (1715, 0.007510738836577392), (275, 0.007509471865248208), (3799, 0.007507899758324117), (2510, 0.007496890407321726), (949, 0.0074965494445497025), (4469, 0.007495778235369708), (140, 0.007495320466298878), (3243, 0.007490651808230955), (1793, 0.007490326343831853), (243, 0.0074896992074607125), (4348, 0.0074853599321074785), (2474, 0.007482121771311617), (4635, 0.007481272443343432), (527, 0.007478134478500765), (3268, 0.007475582343738355), (1171, 0.007474748351160111), (3613, 0.007472254379842697), (1728, 0.007467106948527681), (2531, 0.007460097426459808), (3117, 0.007456806791709021), (3775, 0.007455443659892286), (2162, 0.007454708443992858), (3683, 0.00744218331631437), (4171, 0.007434033045844702), (3832, 0.007423278702238302), (1460, 0.007414819332645087), (3675, 0.0074029422289482545), (4692, 0.007394889447899042), (374, 0.007390180990096824), (3757, 0.007384040377164627), (1711, 0.0073833583443797535), (1322, 0.007378203080423274), (3820, 0.007370320521335214), (2878, 0.007367149288872341), (342, 0.007354991205944407), (368, 0.007353067316100526), (4118, 0.007352501617675839), (941, 0.007350224914922826), (1602, 0.0073359561787872726), (2326, 0.007328885804339415), (4225, 0.007327808947975233), (1450, 0.007321185497190618), (1457, 0.0073175718367301575), (4313, 0.00729804344216539), (4416, 0.007290389811092092), (3353, 0.007290036684419337), (528, 0.007283242190034496), (2747, 0.0072806249463404785), (3409, 0.0072752106640838685), (2132, 0.007275137718019884), (3851, 0.007271447619966861), (4754, 0.007269978563884853), (4574, 0.007268475707616637), (3252, 0.007262912271397576), (1276, 0.00725698405054611), (4521, 0.007253870000782235), (159, 0.007250560452523192), (143, 0.007242497398210666), (2267, 0.007238498914035822), (1505, 0.007235904438744844), (2890, 0.007232029591586097), (37, 0.007231687011857765), (1503, 0.0072195746947911425), (3200, 0.007219136103657095), (1434, 0.007207655836192624), (2690, 0.0072040123014408975), (103, 0.007186895411472834), (1813, 0.007186516347896502), (1011, 0.007180090440963848), (3013, 0.007179329511689054), (16, 0.007178224535273291), (2528, 0.007173086663666114), (3172, 0.007160829874656332), (2304, 0.007154306334768363), (3729, 0.007145807826603573), (2047, 0.00714525244359346), (3963, 0.007144188476098506), (4625, 0.007138521354167166), (2814, 0.00713665772119733), (1019, 0.00713348644528894), (1097, 0.0071295966603546635), (2807, 0.0071224230185956815), (4535, 0.007121202630776115), (326, 0.007115157127997094), (3615, 0.007105752006436043), (1892, 0.007090164962876342), (2712, 0.007086640463407018), (1466, 0.007085081542950001), (4007, 0.007084071688570122), (1446, 0.007083229997013938), (2299, 0.007082930087212392), (1285, 0.0070786263471224655), (797, 0.007072422200877657), (2420, 0.007068232758135989), (777, 0.007065217645282529), (1517, 0.007062731994965715), (4480, 0.007053114012645172), (3551, 0.007042053804767842), (4158, 0.0070420496538831), (1705, 0.007036075942820684), (3125, 0.007032119168857846), (345, 0.007031868669793027), (1806, 0.007026975012142786), (1405, 0.007005112160514967), (2400, 0.007002780201514278), (552, 0.006997181268368164), (2977, 0.006996017762108614), (4688, 0.006990002198660858), (4557, 0.006989815911242193), (1596, 0.006988354016728175), (2160, 0.006986784311362813), (1620, 0.006985394526978479), (2535, 0.006976369544732323), (422, 0.006968881385868332), (2931, 0.006966268511278951), (4179, 0.006966051077427442), (385, 0.006960298403511138), (2835, 0.006943762772411948), (3198, 0.006941576620523009), (2960, 0.00694070496029461), (4084, 0.00693881078127746), (1682, 0.006937456028336647), (2472, 0.006933805074553755), (3647, 0.006933577070231496), (4321, 0.006928952162489677), (1201, 0.006922559793794431), (591, 0.006921781555923319), (3237, 0.006911990598075763), (3094, 0.006908938752008976), (2547, 0.006908768953943635), (3680, 0.006908353408728212), (2813, 0.00690452037690948), (1782, 0.0068968072773814), (4429, 0.006895852462749902), (4094, 0.006886980173065839), (3024, 0.006882183827153547), (913, 0.0068818682020735916), (2353, 0.006881557603919328), (2816, 0.006875156729863022), (150, 0.006874911013140611), (96, 0.006871727539200765), (1091, 0.006867205127418185), (1402, 0.0068669234676085825), (3956, 0.00686064548425316), (820, 0.006852155898130555), (2737, 0.006848004090956745), (778, 0.006843378036326465), (2670, 0.006839950821127357), (1504, 0.006837994615824746), (1125, 0.006833649196187421), (2265, 0.006826466490642173), (3259, 0.00682525542968389), (70, 0.006823806881901181), (122, 0.006818038731310521), (3073, 0.0068157650371251065), (2405, 0.006813790334684766), (2009, 0.006812628019678109), (1909, 0.006812561726875169), (4273, 0.006806746749543352), (2597, 0.006806649825198016), (2745, 0.006801330054820491), (355, 0.006800813052859183), (4003, 0.006792643652297016), (477, 0.006784408758127492), (1172, 0.006782750027890102), (1703, 0.006780351823254718), (4262, 0.006777413534183254), (897, 0.006773188499398482), (4407, 0.006771936999352519), (592, 0.006769652959665273), (3835, 0.006768823907612692), (3485, 0.006766556972446), (4507, 0.006765862667968739), (1205, 0.006763303434083667), (1526, 0.00676222906274454), (2674, 0.006757582752901054), (3718, 0.006748799803123457), (228, 0.0067486296853724115), (2002, 0.00674478815500492), (2039, 0.006744578197350954), (1244, 0.00674001330046485), (1306, 0.006739960500467548), (104, 0.006739880764715919), (1903, 0.006734916924481223), (4571, 0.006728520837355384), (2167, 0.006725554725383602), (3673, 0.006724594805153484), (232, 0.00672140373361526), (4050, 0.006721092163254783), (987, 0.006717865409959833), (1731, 0.0067170791803382365), (549, 0.006714695442821718), (4737, 0.006711785118750103), (4486, 0.006711586328026285), (164, 0.006710571511191081), (2491, 0.006706282575371321), (4718, 0.0067061288245746), (1439, 0.00670448709142445), (1617, 0.006698559797943728), (2856, 0.00669793671850219), (4082, 0.006697339053888415), (2092, 0.0066957475177549), (4534, 0.006690827093855585), (2980, 0.006689187943314223), (569, 0.0066871641673630616), (1867, 0.006682440592116069), (2043, 0.00666913463700956), (28, 0.00666809856759413), (1349, 0.0066639771464804265), (1969, 0.0066609492929605475), (3920, 0.006656942308242181), (2770, 0.006655764570000115), (585, 0.006654251960599858), (1336, 0.006652968617537041), (4093, 0.006651419425552725), (4725, 0.006649904308061554), (2691, 0.006636299325200793), (3475, 0.0066359262121339305), (2825, 0.006633902161318771), (2701, 0.006629457719584368), (1120, 0.0066293380507790375), (1550, 0.006629251844157698), (2298, 0.006625359958899093), (1258, 0.006624107543896954), (4188, 0.00662271946640362), (4349, 0.006622057008866077), (1935, 0.006621325771917633), (1499, 0.0066135737546851765), (3152, 0.006612329402622586), (2773, 0.006611831013301693), (1775, 0.006606742332773478), (3590, 0.006606225076407523), (300, 0.006601152334921374), (2703, 0.006597819291598705), (2898, 0.006597768575996709), (280, 0.0065960824940703745), (263, 0.006595727229180347), (3130, 0.0065909957822655706), (1995, 0.006589266311295172), (1330, 0.006584126934270528), (3250, 0.006580594497379943), (2170, 0.006573039425729274), (1116, 0.006572427919433839), (439, 0.006572283548594444), (1076, 0.006569176778672791), (262, 0.0065647917628873925), (945, 0.006564694376140228), (4074, 0.006558519076523665), (1921, 0.006557232090051199), (386, 0.006552801794152621), (2818, 0.00654924759650725), (1010, 0.006544559498223013), (66, 0.006540485827599569), (2762, 0.006532666607854292), (3905, 0.006528412449410883), (1060, 0.00652678990415094), (221, 0.006524569457182492), (4563, 0.00652391821196157), (1453, 0.006521672196993492), (2377, 0.006520741546300538), (3512, 0.006520463076513838), (2663, 0.006517751916057801), (4654, 0.006512980292206982), (3057, 0.00651218401783254), (4722, 0.006502270542915474), (379, 0.006492599466673859), (1033, 0.006484052837973479), (3714, 0.006479950633642017), (3007, 0.006478930265082696), (1354, 0.006478728440699596), (2497, 0.006478702089738414), (2207, 0.006477517250647713), (2678, 0.006476564361585125), (4542, 0.006473926764946727), (3541, 0.006471262201691839), (1755, 0.006469736909766279), (3847, 0.006465832805623354), (1917, 0.006465639028826518), (3332, 0.006461194361402226), (2023, 0.006457749762739247), (1464, 0.006451762801802607), (2757, 0.006450633942992492), (1850, 0.006443683902022214), (449, 0.006442117275408905), (2979, 0.0064418873347720325), (1884, 0.006441337610922276), (205, 0.006441044667016359), (557, 0.006427554824977656), (3244, 0.006426422941918865), (1750, 0.006423889769666345), (23, 0.006420437113306964), (4540, 0.006416095829038371), (3765, 0.006415909469688229), (3345, 0.006415283165342076), (347, 0.006413925461682686), (620, 0.006400280446353933), (24, 0.00639768226487933), (1566, 0.006395060538138679), (3629, 0.006390091054587134), (1567, 0.00638912049614215), (4622, 0.0063878176291215834), (4032, 0.0063869851396334415), (2288, 0.006385604105722165), (4243, 0.006382539281754361), (2386, 0.006378661908042921), (1606, 0.006378439302968513), (187, 0.006376996548121829), (2708, 0.006372633095641712), (2481, 0.006368794138463479), (3115, 0.006367509888349544), (3459, 0.0063640819646941845), (1128, 0.006361960108080655), (1131, 0.006358030563443667), (1075, 0.006351974927718614), (1513, 0.006345353441603021), (1512, 0.0063435130208580985), (558, 0.0063423797611554394), (196, 0.006342270879039909), (2225, 0.006341191010589511), (171, 0.006340311640838977), (2499, 0.006339564059676308), (2204, 0.006339224874686347), (730, 0.006336628454986055), (3313, 0.0063301144039421935), (2730, 0.006328655575199998), (3578, 0.0063210386284597376), (411, 0.006318311435156232), (1762, 0.006314295338882327), (134, 0.006309988949940211), (296, 0.006306626393629762), (3530, 0.00630571177710296), (1872, 0.006304731452781154), (843, 0.006297373978464098), (1730, 0.006294899716759188), (734, 0.006291581708274978), (2145, 0.006288738129338041), (596, 0.006281759149810483), (568, 0.0062802564923508004), (3761, 0.006278807052429345), (269, 0.006272697902806033), (4671, 0.006266453292520189), (1552, 0.006265715664925404), (33, 0.006260613183341976), (3236, 0.006257633793236158), (4173, 0.006254102759449941), (2654, 0.006253765529982327), (1342, 0.006252543661590799), (610, 0.00624956491731412), (3204, 0.006241330072070072), (492, 0.006240430466611881), (990, 0.006235711146135328), (2352, 0.006233717020007131), (2717, 0.006233062832215211), (1034, 0.006232552334141181), (907, 0.006229138341913201), (786, 0.006229025391400061), (2902, 0.00622632667385241), (2660, 0.006226163718915231), (3256, 0.006222561538428685), (2838, 0.006219107756967237), (535, 0.006217804415973478), (956, 0.006213965854363741), (3422, 0.006208389272379537), (1268, 0.006202853765554968), (3764, 0.006194421022933493), (4022, 0.006192747407911023), (573, 0.006184724908444211), (1029, 0.0061832368336976265), (2424, 0.006177081676133628), (2823, 0.006175863599005959), (1646, 0.006174236788423876), (3075, 0.006173165679882225), (2163, 0.006168339243241442), (3522, 0.00616532244589205), (2550, 0.006157204265681469), (2869, 0.006153101739206112), (3700, 0.006153017867494906), (3018, 0.00614898516628602), (3105, 0.006134891605329042), (3140, 0.006128216502044226), (348, 0.00612590301048351), (2149, 0.006124674588711911), (4438, 0.006121391240181174), (3791, 0.006116487661562784), (3672, 0.006115724064554583), (1530, 0.006105711204969952), (19, 0.006097857242197214), (2560, 0.006081902641301493), (97, 0.006079605362189468), (1487, 0.006074261111657332), (4651, 0.006069744049645398), (3842, 0.006063326701091893), (4223, 0.006061611347377203), (36, 0.006060464373593574), (453, 0.0060576313205644265), (1523, 0.006057433540851934), (2636, 0.006055474820612781), (3925, 0.006051720263811899), (75, 0.006049734635468682), (1077, 0.006046016927302621), (353, 0.006045813398733403), (3076, 0.00602884035627549), (4122, 0.006028746830222215), (1791, 0.006028725885680878), (414, 0.0060249140880156045), (4057, 0.006024212694442525), (1340, 0.006019440466719641), (3088, 0.006018801872949965), (407, 0.00601621345698103), (3340, 0.006015998290873816), (3364, 0.006012452464052909), (3257, 0.006007793452293192), (2362, 0.006001747738757639), (2431, 0.005995692023811351), (764, 0.005995315533845282), (607, 0.005994414577426627), (1492, 0.005987210250686945), (2539, 0.0059839425858500914), (2873, 0.005982288152459241), (2957, 0.005981084539579766), (4332, 0.005978010140053113), (1135, 0.005977367927802528), (1282, 0.005977340776477649), (4267, 0.005975732690055141), (2281, 0.005974197093127711), (2038, 0.005973072813004416), (1891, 0.0059709793401887), (476, 0.005956906056858887), (2684, 0.00595595201410906), (3954, 0.005953606150114095), (3116, 0.005951456258210183), (2777, 0.005949002854591893), (3145, 0.005943444685775144), (3219, 0.005937085466657194), (1565, 0.005928063854291074), (2398, 0.005924614545601678), (3234, 0.00592283418921356), (4451, 0.0059221113901140945), (4319, 0.005918323589825756), (2544, 0.0059144076380463085), (2851, 0.0059070780894987015), (3291, 0.005903784331054286), (1556, 0.005901507144486153), (4361, 0.00590102741128108), (4214, 0.005900626593413156), (3878, 0.0058986794381047595), (1371, 0.005896894449653914), (3266, 0.005896503771872623), (4519, 0.005891813371368928), (2010, 0.005891009784812781), (3309, 0.005890637675237186), (2490, 0.005888857228757223), (2804, 0.00588862635109085), (2734, 0.005888573997771289), (4204, 0.005883919255188923), (3763, 0.005871359249654451), (3009, 0.0058697939985664525), (2952, 0.00586250395813887), (2799, 0.005855220030839521), (47, 0.005852256375684019), (4292, 0.0058496083921778085), (2312, 0.005846925648270652), (964, 0.005844606024413878), (2368, 0.005843623593477104), (2521, 0.005836141009920618), (2566, 0.005831347570485762), (4021, 0.005831333652170644), (1912, 0.005828762513037379), (1538, 0.005823293987625551), (3730, 0.005822824181448607), (2266, 0.005821778070331808), (1751, 0.005820547521865082), (2698, 0.005819162335930875), (3378, 0.005818596295222453), (2891, 0.005817198378768243), (3921, 0.005816263030160501), (2003, 0.005815724539648046), (4144, 0.005815048005139097), (3990, 0.005810659446625236), (2744, 0.005809850115077321), (2673, 0.005809760609756975), (3392, 0.005805945435698474), (1437, 0.0057990139107940795), (2667, 0.005798930263245253), (3796, 0.005798578029478871), (2189, 0.005796937238815041), (2395, 0.005792070263402284), (4301, 0.005785036595231078), (2989, 0.005783406017294743), (2500, 0.005782373347851855), (3104, 0.005777818318608047), (3930, 0.005777645207371953), (3060, 0.005770182980738357), (2543, 0.005768099218256814), (2184, 0.005760682067859103), (4198, 0.005760621893498929), (3754, 0.005747216929056978), (437, 0.005743207434468112), (2025, 0.005740684458369547), (4617, 0.0057397546202729195), (3055, 0.005719785132109324), (2922, 0.005713625323853468), (3561, 0.005713076631587556), (3671, 0.005712034724543978), (3949, 0.005710518472539049), (3933, 0.005709642053486374), (582, 0.00570555419303056), (3455, 0.0057049118009068565), (2483, 0.005703681593903812), (2731, 0.005696647794555844), (711, 0.005688443470048132), (4666, 0.005686308686000908), (2339, 0.0056852696115356725), (2349, 0.005684053391014307), (4528, 0.0056829865364024556), (2433, 0.0056790953938822535), (4440, 0.005670934269550065), (4646, 0.005666323494533949), (4691, 0.00566262057433804), (2416, 0.005657678117203775), (2775, 0.005655486847840069), (3894, 0.005651733295808391), (4047, 0.00564614515320725), (2448, 0.005645345546869027), (722, 0.005645304179043402), (3054, 0.00564478887116931), (2585, 0.005644355751324375), (2883, 0.005642007413122423), (1315, 0.005640255026191559), (2568, 0.005637924113085247), (4529, 0.0056333927711802664), (3101, 0.005633136614880147), (3548, 0.005628586442950315), (3657, 0.005623765478531571), (4172, 0.005621662408818131), (1156, 0.005618381311380651), (1023, 0.005605740648829344), (3363, 0.005600249470835637), (3052, 0.005598746094403799), (4286, 0.005598456878545084), (4017, 0.00559831356133548), (4584, 0.005596059236859846), (2518, 0.005592645003528794), (3726, 0.00558889491864085), (3292, 0.005588559864944334), (2310, 0.00558669118725349), (2861, 0.005585849642493777), (1194, 0.005584766516333987), (2536, 0.005577190682197126), (4010, 0.00557591579531592), (612, 0.005567537797328938), (2785, 0.005567147789399726), (2392, 0.00556209403614916), (4353, 0.005557918668914027), (4537, 0.005554980935719193), (2900, 0.005550228263985558), (2384, 0.005549281802975584), (2582, 0.0055471263960141185), (2750, 0.005546880916084058), (4709, 0.005541677728336503), (4115, 0.005538831614947127), (2923, 0.005536564467679077), (3964, 0.005535934910866748), (708, 0.0055358392188091955), (4707, 0.005533938340847836), (2625, 0.00553257357945525), (3988, 0.00553050181671849), (2810, 0.005530385595429661), (3607, 0.005529846581620035), (4169, 0.00552790885375972), (3414, 0.005525370806335513), (3645, 0.005524476894094864), (2485, 0.005523921002613933), (2263, 0.005522305707940812), (2656, 0.005521616964772035), (4219, 0.005520428212636567), (2504, 0.005519250750492186), (3939, 0.005512173996855952), (2990, 0.00551110137407633), (3415, 0.005511066586544099), (3649, 0.00550958003632865), (4040, 0.005505548480076342), (1601, 0.005505067778849832), (4058, 0.005504332652319314), (4423, 0.005502749486833545), (1178, 0.005502572248186615), (4028, 0.005501735489162601), (4291, 0.005500165996973844), (3089, 0.0054989723434514925), (3789, 0.005496834294798739), (2436, 0.005494009303939756), (3515, 0.005493983976050923), (4101, 0.0054910983265374445), (2624, 0.005490229771536372), (2241, 0.005487041912152644), (3199, 0.005486649626355937), (751, 0.005484124561872275), (766, 0.005482316808159587), (3702, 0.005478405766022694), (4417, 0.005470956603802712), (2570, 0.0054695721008426595), (3936, 0.005469208977570084), (4166, 0.005465235985358263), (4700, 0.005463858298937384), (1669, 0.005462533483374221), (4599, 0.005461378345564807), (3361, 0.005460238101583416), (4208, 0.005452151902435037), (2817, 0.005447762562572559), (2032, 0.005447226669046299), (2342, 0.005446783875953725), (2425, 0.00544483499946331), (3759, 0.0054445320644847545), (2172, 0.005443738574538202), (2322, 0.005443305371509926), (462, 0.005442894833829221), (4449, 0.005442602397746313), (2415, 0.005439819896575733), (4127, 0.005438002891790158), (4293, 0.0054379037972108486), (2257, 0.005436668614547811), (4740, 0.005433217966241809), (1518, 0.005432968650422929), (4333, 0.005432113221684293), (4524, 0.005431371332745219), (4696, 0.005428472362333372), (4515, 0.005425308607865794), (3277, 0.005423816809219651), (4506, 0.005423247763792773), (3651, 0.005421759338047945), (839, 0.005420515778780527), (2332, 0.005415439266540877), (2845, 0.005415420857977739), (267, 0.005415059063229923), (4196, 0.005413372042161485), (4150, 0.005413057954256086), (4170, 0.005412672270417841), (2781, 0.005409744438799303), (4307, 0.005406914912837655), (2333, 0.005402120709817814), (4732, 0.005400239035102464), (1168, 0.0053994871317037604), (862, 0.00539784722601472), (4369, 0.005396240999681718), (3610, 0.005391116065999053), (3262, 0.0053886150790522095), (3027, 0.0053785111927488385), (2097, 0.005378264689350459), (2350, 0.005377990413330782), (3424, 0.005377934041628184), (3128, 0.005370742807808803), (3762, 0.0053676897484634025), (4302, 0.005367221405895779), (3354, 0.0053658485814212075), (2983, 0.005365560548051684), (4061, 0.005365185664090231), (2901, 0.0053647788124298185), (2675, 0.00536453888619281), (4016, 0.005362826969715625), (4341, 0.005361333905887824), (2875, 0.005361136344519374), (3800, 0.005360219185959112), (2604, 0.005360214640237407), (4518, 0.005359509416904754), (4484, 0.005358538137004753), (3996, 0.005358162864980745), (4538, 0.005355686192790546), (531, 0.005355108784527832), (3550, 0.005354992261377225), (1666, 0.005351623528045808), (3322, 0.005348945349433755), (4203, 0.005348176379996562), (4434, 0.005347235138879471), (1767, 0.005344956270688489), (3817, 0.0053425903854968084), (3848, 0.005342317923587947), (3831, 0.005338615736563291), (2494, 0.005338540545183571), (4280, 0.005334803060760082), (3039, 0.005334381850855371), (2271, 0.0053333803757470155), (3025, 0.005332658127182268), (3087, 0.005328785907532444), (4125, 0.005328536630927992), (2951, 0.005328282636101935), (1345, 0.00532447161280872), (2564, 0.005323414180443126), (3295, 0.005322576346937051), (2180, 0.0053216288711813615), (3772, 0.005321533280182197), (2600, 0.005321487328374051), (4370, 0.005320982552247578), (3903, 0.005319797759515837), (3497, 0.005313803063785321), (1758, 0.005313693792410387), (781, 0.005313688784614616), (4650, 0.005313213373996728), (4544, 0.005309004787989987), (2228, 0.005305038129380353), (2802, 0.005304872311067042), (3281, 0.005303343235766979), (3995, 0.005300527419889121), (3639, 0.005299110388247796), (889, 0.005297163377057271), (1887, 0.00529708772724275), (2948, 0.005295423466193584), (3922, 0.005294312432570212), (3109, 0.005294258349241927), (1486, 0.005293536450714316), (2218, 0.005293198156154552), (813, 0.005288217950961525), (731, 0.005287462855990369), (2709, 0.0052872884940967394), (3962, 0.005286833833345431), (795, 0.005284616705691436), (2993, 0.005283418074796167), (2101, 0.005282134038265749), (249, 0.005279451522176598), (2928, 0.005275683512496809), (3695, 0.005275096733178547), (4024, 0.0052698743364638645), (4656, 0.005267042619105251), (4368, 0.005263902064411737), (193, 0.00526011602229102), (4496, 0.005258341743512277), (3950, 0.005257861767228719), (3074, 0.0052568152356603556), (2328, 0.005256402022645565), (3758, 0.0052548026318712665), (100, 0.005254329848918471), (3015, 0.005253479211567269), (434, 0.005251591174737471), (2286, 0.005251579734021127), (448, 0.0052510231192764755), (3611, 0.005249732754944978), (2511, 0.0052391984784621575), (2185, 0.005238189082734098), (2158, 0.00523611936480263), (914, 0.005235826481821214), (3739, 0.005231534487899516), (3127, 0.005230063948524821), (681, 0.005229542772656372), (401, 0.005227684095025871), (2351, 0.005226066482088598), (4335, 0.005225869658273336), (1110, 0.005224605622749787), (3103, 0.005224080758846988), (4631, 0.005223880946271234), (3425, 0.005223630970370529), (3314, 0.005223206652440589), (4741, 0.005222948228380174), (3294, 0.005221699388270322), (3976, 0.0052216426515569805), (658, 0.005220761009962948), (3857, 0.005220694321947697), (162, 0.005220101642225009), (2247, 0.005219659685142291), (1456, 0.005218735021160386), (3790, 0.005215782867849225), (4331, 0.005215062772109239), (2763, 0.00521396640992494), (2454, 0.005213721332887179), (3866, 0.005212433322266276), (488, 0.0052117410767430535), (4185, 0.0052114859405188625), (4439, 0.005211157914923872), (2455, 0.0052100775150423235), (4628, 0.005208272037684135), (2140, 0.005208236512517759), (3049, 0.005205086853405134), (4720, 0.00520483634708185), (2249, 0.005204260573035008), (4492, 0.005201742174569377), (700, 0.00519920507453245), (2456, 0.00519800303816312), (3251, 0.005196925223348286), (1507, 0.005196261147863982), (2306, 0.0051953024661043744), (2837, 0.005193413348434922), (4396, 0.0051910356575436), (4728, 0.005190633232090463), (2864, 0.005190395999912051), (3190, 0.005189323923714611), (2451, 0.005188841357939618), (2357, 0.005188237619584957), (1640, 0.005187569058130843), (3081, 0.005186449066551146), (3972, 0.005183731252717714), (2470, 0.005183373296809931), (62, 0.0051794882796250205), (4375, 0.005179456903678534), (3740, 0.005174451979293002), (1803, 0.00517418677824113), (2909, 0.005172404354953587), (754, 0.005172323727863989), (2072, 0.005168140295319538), (3001, 0.005167917149245738), (1295, 0.0051662762271383125), (2513, 0.005164909017448367), (3510, 0.005164203092464419), (834, 0.005162753920669253), (4065, 0.005161637826346138), (3687, 0.005161337248060983), (2293, 0.005158893559373651), (2793, 0.0051580980662128215), (3737, 0.005157714346066857), (3774, 0.005156811704538343), (3453, 0.005155089573933201), (3686, 0.005154763782887218), (3316, 0.00515040630830046), (3874, 0.005148511120938929), (4755, 0.005148311061291809), (4372, 0.005148045766934147), (2921, 0.005146788496916663), (2672, 0.005146160772448745), (4034, 0.00514404643902997), (3162, 0.0051434306826398934), (3594, 0.005143331112973522), (2515, 0.005143116230549695), (4072, 0.00514112537077986), (1805, 0.005141101307394187), (865, 0.005140578697297806), (3036, 0.005139434852730012), (3701, 0.005138276258772022), (1959, 0.005138159598935193), (3321, 0.005137428849025251), (4258, 0.005137111651626039), (1121, 0.005135516479830798), (3770, 0.005133502143452257), (3458, 0.0051330073097529605), (3149, 0.00512824607503478), (4580, 0.005127204474051322), (3524, 0.005126145870470255), (2516, 0.005124508098681091), (2219, 0.005124481879497398), (3235, 0.005124356223547887), (4572, 0.00512415263242035), (1424, 0.005123868498087364), (2317, 0.005122583134164348), (2790, 0.005121235417766228), (841, 0.005119500402151225), (3984, 0.00511908721556402), (2563, 0.005118734715055596), (3869, 0.005117620677903329), (4269, 0.005117370676198916), (955, 0.005116574476701297), (3272, 0.005116478449003165), (4613, 0.0051156546962514765), (4697, 0.005112879831815409), (3778, 0.005112107829394176), (2363, 0.005110877163717194), (1613, 0.0051090856852864155), (1344, 0.005107765945572965), (3092, 0.005107140997246471), (847, 0.005105571915948194), (245, 0.005103339964481949), (2557, 0.005103337197528883), (1615, 0.005103088938604502), (1271, 0.005102689401873362), (773, 0.005102075256299771), (2575, 0.005101935249778863), (121, 0.005100698403948296), (4187, 0.005098707704524554), (1890, 0.0050981849144016225), (2975, 0.005097928878995661), (2290, 0.005097868926090293), (4105, 0.005094801066640154), (3977, 0.005094309761796621), (235, 0.0050940029898703), (4539, 0.005093725831622437), (2453, 0.00509342545941808), (3604, 0.00509287634191701), (225, 0.005092402819819226), (3208, 0.005091750016688122), (1766, 0.005091181702092483), (391, 0.0050908343224747785), (2130, 0.0050908189515934295), (4597, 0.005090527701919595), (3269, 0.005089900307561204), (4508, 0.00508923284999343), (1786, 0.005088841165128101), (630, 0.005085333963672277), (601, 0.005085198923759214), (1583, 0.005084601876742106), (2583, 0.005083743231312747), (4545, 0.00508358052534537), (523, 0.005081572463971165), (2532, 0.005081059212283785), (3230, 0.005080760403579417), (3031, 0.005079945786692918), (959, 0.005079052841670476), (587, 0.00507846363982231), (3151, 0.0050780752132365565), (2911, 0.005077882060288319), (2848, 0.005076854455414591), (516, 0.005076757897056238), (2381, 0.005075607303604922), (490, 0.005075307917542455), (4157, 0.00507370862030789), (3539, 0.005072042106429439), (2719, 0.005071286484299026), (529, 0.005069882162715889), (3620, 0.005069717550252045), (2904, 0.0050686201475778556), (1228, 0.005067835039149672), (3241, 0.005066907200867684), (2253, 0.005066425553816836), (2077, 0.005066344087341179), (4632, 0.005065085803497637), (4086, 0.005063590028013674), (2054, 0.00506226256469357), (2651, 0.005061449124293852), (3297, 0.005059433692518262), (1725, 0.005059180248646138), (4215, 0.005057504818316445), (709, 0.00505694911987108), (2252, 0.005055026928775347), (1264, 0.0050545539030350615), (2894, 0.005053459156834204), (2021, 0.005053441337607215), (4045, 0.005053143825703722), (1389, 0.005052899214108592), (3846, 0.005052165282009965), (1655, 0.0050518348722700425), (4694, 0.005051109372705635), (38, 0.005050937268487573), (2258, 0.005048816687961877), (4001, 0.005047025286172702), (131, 0.005046314108421214), (2853, 0.005045810635727628), (3072, 0.005042921965007101), (2877, 0.005042068351789603), (1416, 0.005041644310348083), (1435, 0.005041488282206459), (3358, 0.005040767280475755), (4324, 0.00504044425747999), (4736, 0.005039737864358832), (4410, 0.005038713559433807), (771, 0.005037753290346132), (4424, 0.005035568085998211), (4567, 0.0050355387264705825), (3207, 0.005031837329212298), (3406, 0.005031012727096883), (2765, 0.005028893043310055), (3969, 0.005027503254576054), (3736, 0.005026466975822068), (4497, 0.005025873128446366), (3047, 0.005024862662530571), (2337, 0.0050239662549023175), (2968, 0.005022854257809212), (1770, 0.00502144259309749), (4346, 0.0050212461960904755), (4454, 0.005021228395204089), (4226, 0.005020913968545699), (522, 0.00502009138372286), (677, 0.005018448122472358), (4495, 0.005018250344027316), (3631, 0.00501746402051092), (859, 0.005016856482095308), (402, 0.005016798168442572), (3242, 0.005016748996420638), (1473, 0.0050167379304772095), (532, 0.0050156791876426595), (1445, 0.005014466908359628), (2118, 0.005012750460224919), (1165, 0.005012356175971261), (1844, 0.005011706570839207), (214, 0.0050112890093884244), (274, 0.0050109399973365665), (365, 0.005010594178949003), (4526, 0.005009635083987699), (2300, 0.005005485420240316), (1260, 0.005003837498505341), (3838, 0.005003550950102574), (4031, 0.005002637125417177), (626, 0.0050013985579753974), (1329, 0.004999943595018911), (3566, 0.0049997239356990245), (3893, 0.004999488255742545), (4167, 0.004998773194115422), (2829, 0.004998594826236403), (4549, 0.0049985682169697895), (4408, 0.004996003470938225), (1741, 0.004995745457963994), (4097, 0.00499367154192581), (217, 0.00499307502985521), (203, 0.004993056050015071), (2590, 0.004991107029512987), (3188, 0.004990233881429835), (1143, 0.004990091985154187), (1094, 0.004988548000125156), (2319, 0.004987570139340244), (3090, 0.004984165819683669), (2865, 0.00498354065732769), (4087, 0.00498326637126262), (1700, 0.004983241297733181), (4355, 0.004982073650551816), (4714, 0.004980630773216219), (1463, 0.0049804564164833), (1916, 0.004979766179679649), (2234, 0.0049794089172675166), (4207, 0.004978192598476176), (833, 0.0049765322599032), (520, 0.004976087579624847), (1777, 0.004975631455675411), (2203, 0.004974199347442261), (2572, 0.004973081557324701), (1911, 0.004971670675395362), (962, 0.004970983476297031), (74, 0.004970823052486731), (3519, 0.004970610798953936), (4323, 0.004970039311123038), (308, 0.004969943212892115), (3554, 0.0049698667146017075), (2924, 0.004969737135658965), (98, 0.004969610571209438), (3229, 0.004969350781119486), (3355, 0.004969177145964362), (518, 0.00496885474377126), (2493, 0.0049685767580635596), (1390, 0.004968321254321707), (1534, 0.004964754716592952), (1599, 0.004964734356993049), (602, 0.004964476649999077), (938, 0.004963737663474105), (3564, 0.0049632588252979705), (747, 0.004962772856868511), (361, 0.004962026415851604), (4514, 0.004961361344907749), (2133, 0.00496103258623273), (3489, 0.0049608986056234065), (1584, 0.0049588927789043745), (2194, 0.004956916808654285), (2360, 0.00495657397684219), (4075, 0.004956202238555236), (3648, 0.0049560030632964675), (2927, 0.004953590939871113), (1014, 0.004952615280969835), (3924, 0.004952567138016412), (216, 0.004952545868158878), (3935, 0.004951981134134601), (3473, 0.004951148155843094), (3837, 0.004950747774095841), (2142, 0.004950570680570739), (4685, 0.004950378849195709), (2613, 0.004949461456574472), (2860, 0.004949162907116509), (4595, 0.004948288206792626), (1544, 0.0049479889368779385), (1889, 0.004947931983101971), (1328, 0.004947460027300907), (1520, 0.00494644036672497), (2967, 0.004945958936326906), (4149, 0.004945459457117189), (3343, 0.0049447683421934875), (3529, 0.004944424556902446), (1154, 0.004944189715000988), (3688, 0.004944024444081053), (4329, 0.004943924291579794), (3375, 0.00494286759017952), (4126, 0.004942857364591694), (3681, 0.004942381385359651), (1926, 0.0049422151104447035), (748, 0.004941854576385872), (3273, 0.004941637629576276), (1689, 0.004941493381465032), (2175, 0.004940571347607944), (739, 0.004940413819845725), (3858, 0.004939798086392061), (553, 0.004939674703852703), (2437, 0.004939401880321951), (444, 0.004939065335737406), (4237, 0.0049383843751669605), (4680, 0.004938363694288919), (4078, 0.004938256642736589), (2704, 0.004937610618377644), (3628, 0.004936294848857092), (4746, 0.00493569695104331), (3097, 0.004935187763211038), (1952, 0.0049346112587885516), (2987, 0.004934340268816967), (4053, 0.0049338510455810055), (1318, 0.004933450539852764), (3697, 0.004933370981271886), (1233, 0.004932945552741227), (432, 0.004932909136563974), (4675, 0.004932860037161276), (3181, 0.004932522295017847), (2085, 0.004932468939481285), (3462, 0.004932406499616043), (3102, 0.004932013658824449), (1946, 0.004931511448503949), (840, 0.004929889753009426), (4388, 0.00492911954165104), (574, 0.0049281358952104155), (3505, 0.004928111102621616), (3915, 0.004927359464060318), (1496, 0.004926498864765305), (2552, 0.004926163103380231), (4505, 0.004923854176140513), (2190, 0.004923654257622831), (1142, 0.004923469883554542), (3532, 0.004923364815670863), (3503, 0.0049232813722465355), (4077, 0.00492281663407669), (349, 0.004922280932672265), (2798, 0.004920399157798466), (352, 0.004919683669090987), (2291, 0.00491919392529719), (2418, 0.004918300954684899), (2325, 0.004918239408133353), (388, 0.004917712050272771), (957, 0.004916859289255672), (4460, 0.00491654729357854), (3359, 0.004915994239296707), (1278, 0.004915912786969036), (4162, 0.004913096490041432), (3387, 0.004912262513123651), (960, 0.0049121645158174895), (3591, 0.004912005275597443), (1401, 0.004911440628599138), (3816, 0.004911138504362952), (1597, 0.004910647430873997), (4190, 0.004910620238739864), (2503, 0.004910618599042486), (2165, 0.004909493765949943), (3192, 0.004908618038216989), (4081, 0.004908348115292941), (1790, 0.00490789472169939), (198, 0.004906566447726744), (339, 0.004906549546155986), (4359, 0.004906312628361593), (461, 0.004904159534965102), (1250, 0.004903118112618593), (850, 0.004902144425861475), (4371, 0.004901865358456748), (2331, 0.004900817430606438), (4678, 0.004900214974942165), (3914, 0.004897711547199364), (3341, 0.004897406226505703), (1376, 0.0048970229139507675), (226, 0.00489632586087335), (4570, 0.004896267229535951), (1723, 0.004896206158717066), (258, 0.004895000892521564), (1103, 0.004894371656304152), (362, 0.004893990464383035), (2565, 0.0048920973842843645), (3573, 0.004891828286337364), (1057, 0.004889900244461032), (415, 0.004889757348946953), (3580, 0.004889746201199793), (1246, 0.004889401966475616), (307, 0.004888753012141116), (340, 0.004888596623515779), (2465, 0.0048878186099717905), (3141, 0.0048872294898544), (4485, 0.004886597932342715), (3356, 0.004884296978996488), (3371, 0.004884069376563872), (3812, 0.00488389101773464), (2022, 0.004883708340445711), (1961, 0.004883497628390139), (2676, 0.004882164658723542), (297, 0.004881602934611464), (1718, 0.004881201546586944), (780, 0.0048806821349092755), (686, 0.004879686791364506), (1947, 0.004879199052698893), (1101, 0.004879177963900522), (2874, 0.004878738142442844), (4256, 0.0048779568645594155), (1296, 0.00487793842115592), (1441, 0.0048779280343223385), (1575, 0.004877891401675393), (3654, 0.0048778796988653145), (1196, 0.0048778589463380154), (4027, 0.004877823067554789), (2623, 0.004876645376492044), (4008, 0.004875936723683563), (4338, 0.004875018144055808), (3955, 0.004874526064815594), (1227, 0.004874489075037838), (2665, 0.004874446654341098), (3401, 0.004874131525768745), (4453, 0.004872807505924295), (663, 0.004872653930917044), (1379, 0.0048719140179184954), (4006, 0.004871623947473512), (1013, 0.0048712705440255456), (367, 0.004871207355201889), (2419, 0.004870010940045066), (3457, 0.004869339007876941), (1319, 0.004868509831520389), (1923, 0.004868426004467713), (3310, 0.004868163370439119), (3834, 0.0048677291011839305), (4462, 0.004866767146865009), (2841, 0.004865878602223211), (2376, 0.004865597987207723), (3931, 0.0048650941146556985), (1910, 0.004865024870353506), (180, 0.004864607915047307), (2897, 0.004864191583431039), (822, 0.004863720400864767), (521, 0.004863583660471658), (3600, 0.004863142066283984), (126, 0.0048629358192956215), (2914, 0.004862632522587536), (1785, 0.0048617369390737755), (758, 0.004861662113000266), (2090, 0.0048616350516311295), (4233, 0.004861541413408496), (2964, 0.004861232766155346), (1404, 0.004860640790126339), (2156, 0.004860383605114873), (1263, 0.004855385729423455), (685, 0.004854249393608611), (478, 0.004853852420283936), (413, 0.004852523259539679), (86, 0.004851545702405607), (1102, 0.004851181828359286), (869, 0.004850827154811442), (3390, 0.004850682162777422), (1193, 0.004848264142981215), (4427, 0.004847953639657872), (2343, 0.004847338038465434), (4238, 0.004845922716836168), (2635, 0.0048459136115417845), (4020, 0.004842915875482091), (3061, 0.004841325582827108), (3380, 0.004840422000921282), (3193, 0.0048399279554968005), (3000, 0.004839336517807217), (1907, 0.004836345113924544), (2115, 0.004836224821861096), (4575, 0.0048359880590669035), (1778, 0.0048357547090324676), (768, 0.004835604190436854), (3586, 0.004834409917656627), (4277, 0.004834192769233402), (925, 0.004834045933732788), (2106, 0.004833871066386193), (2753, 0.004833710733861055), (1578, 0.004833078668846439), (1090, 0.004832636680474542), (2311, 0.004832577074279431), (2502, 0.004832020473678032), (1039, 0.0048318557458377435), (586, 0.004831641536401224), (3911, 0.004831121924754108), (3442, 0.0048310050309987845), (167, 0.004829590022845231), (1265, 0.004829244937237054), (4025, 0.00482889585589142), (3873, 0.0048286998860154785), (1710, 0.004828395134642985), (4433, 0.004828110882609414), (283, 0.004827496507959758), (1105, 0.004827343059190085), (4148, 0.004826953335470608), (2239, 0.0048255772931450535), (3643, 0.004823667831842254), (3197, 0.004823255531199588), (42, 0.004822690577053874), (3464, 0.00482231445245484), (2953, 0.004820969896626513), (1027, 0.004819892947818802), (2629, 0.004818935200155819), (1133, 0.00481788975081711), (3158, 0.004817714646511966), (3808, 0.004817036307349028), (192, 0.0048170312720872185), (3998, 0.004816458824390123), (20, 0.004816341654439268), (1769, 0.004816134338637195), (1928, 0.004815787243495443), (867, 0.0048156189532363525), (1500, 0.0048156068416493735), (3540, 0.004812772246375), (4327, 0.004812242996902916), (4210, 0.004811693908295348), (4218, 0.004809539826077227), (4265, 0.004808717621423229), (1189, 0.0048079741078389335), (2370, 0.004807593234852227), (1600, 0.004807584489839711), (2821, 0.004807325412940317), (141, 0.004806480860615777), (3745, 0.004806326450228993), (2354, 0.0048057410183215766), (4088, 0.004804614357583035), (4655, 0.004804447586280531), (4565, 0.0048041906939888315), (4662, 0.004804092237714868), (2217, 0.004803418101718351), (1159, 0.004802878585573291), (1501, 0.004801063839078282), (298, 0.004800984561676129), (1585, 0.004800552129070969), (2487, 0.004800418954974099), (4367, 0.004799707999436232), (577, 0.004799323124649186), (3547, 0.004798651985019284), (395, 0.004798393638206472), (2081, 0.00479685793275402), (2833, 0.004796618304350304), (3890, 0.004796612298382552), (4184, 0.004795561952047716), (3447, 0.0047945987712002865), (1333, 0.004794475458927335), (4676, 0.004794181263228512), (3690, 0.004793960572423127), (4753, 0.004793543513138527), (4108, 0.0047932432336092855), (3454, 0.004792873265986503), (4055, 0.004792749843349559), (4459, 0.004790933523192802), (741, 0.004789804824319753), (1673, 0.004789462525844928), (2994, 0.004787818087555182), (1, 0.004786996649989914), (1222, 0.004786890422436114), (3463, 0.004786550752806082), (1525, 0.004786015026181368), (4421, 0.004785320727815549), (1563, 0.004785039140028244), (257, 0.004784497421443894), (2677, 0.004783636316219048), (454, 0.004782744399074957), (638, 0.004782481978447555), (3752, 0.004781058504954887), (1399, 0.004780298641143717), (2297, 0.004778568778533334), (1849, 0.004778130963419421), (1841, 0.004776747039754792), (230, 0.004776339530625497), (59, 0.004774905733877026), (4042, 0.0047741195208898905), (2305, 0.004773819098929873), (4397, 0.004773465593456396), (4527, 0.004772949261775374), (4300, 0.004772217507753931), (881, 0.004771137291844521), (517, 0.004771040606179196), (1592, 0.004770622354162714), (3132, 0.004769346086638213), (1564, 0.004769034456332486), (1106, 0.004769022015758901), (2058, 0.004768719506485051), (4181, 0.004768513358102857), (1734, 0.004768509535831484), (1235, 0.004768164648746187), (2393, 0.004767706146603148), (705, 0.004767301528097887), (2109, 0.0047671057837170155), (1557, 0.004766568300348082), (1668, 0.004766513528591425), (73, 0.004766490913887342), (702, 0.004766045188889182), (277, 0.004765970416370877), (1524, 0.00476537926396353), (603, 0.004764786118185128), (2359, 0.004764645216610328), (4073, 0.004764391909833158), (1541, 0.004763169401191137), (1155, 0.004763084122632337), (2296, 0.004762158956691308), (2222, 0.004761167563981268), (3596, 0.004761147314600681), (392, 0.00476096624187341), (772, 0.00476044294850328), (301, 0.004760298377415658), (3585, 0.004758827058714556), (4070, 0.004757489461202472), (3265, 0.004755540226709206), (3811, 0.004753424128468575), (2936, 0.0047530606893473205), (752, 0.004752820965166991), (1738, 0.004752772988371068), (4241, 0.004752056930552586), (1130, 0.004751993900089898), (1956, 0.004751879365413374), (2411, 0.004750805131777132), (965, 0.00475042380692677), (1291, 0.0047501980676409265), (2974, 0.004749992408190353), (3461, 0.004749520975580594), (1126, 0.0047492556420118195), (1896, 0.004747706394721994), (656, 0.004747468877610657), (4406, 0.004746815135684042), (782, 0.004746691505897453), (3722, 0.004746688785663082), (13, 0.004744817337868868), (1294, 0.0047440731871783715), (2836, 0.0047440073884064595), (3603, 0.004743747724746315), (2000, 0.004743194338655983), (1028, 0.0047424953062762155), (1768, 0.004742197453875342), (4478, 0.004742173802523278), (680, 0.004742124800070421), (3412, 0.004741856318383963), (561, 0.004741770957685755), (2498, 0.004740682318601606), (2171, 0.004740051876441723), (1965, 0.004738741274756066), (4702, 0.004738620849444825), (4112, 0.004738546296295699), (4303, 0.00473827869247157), (1253, 0.004738273714154518), (844, 0.004738100415501059), (2648, 0.004737306672791765), (2041, 0.004736747957047293), (835, 0.004736631291596478), (54, 0.004736602463247813), (2030, 0.00473547358078126), (3467, 0.0047344826934318405), (3164, 0.004734325892456669), (3569, 0.004734323427568968), (4224, 0.00473390951309822), (1056, 0.004733872559373534), (1603, 0.004733766225314132), (4686, 0.004733530538183702), (3490, 0.004733262044489518), (3189, 0.0047327863004703544), (4146, 0.0047326687905837085), (4312, 0.00473238295666412), (2824, 0.004731534886989165), (2259, 0.004729825675225364), (1843, 0.004729433412290896), (3121, 0.004729107724925933), (922, 0.004728487274145316), (525, 0.0047282243344697345), (3971, 0.004727628687670612), (1016, 0.0047268427474116475), (1240, 0.004725763720758289), (4347, 0.0047253219861871434), (2125, 0.004725265878222923), (1166, 0.004724842604572813), (3724, 0.004724516323003887), (1913, 0.004723553080054124), (3934, 0.004723225240202324), (3508, 0.004722961425336255), (2458, 0.004722704621381138), (576, 0.004721843984972001), (908, 0.004721695290256369), (2301, 0.004721586956009173), (4663, 0.004721567017442925), (2029, 0.004720995725646221), (4168, 0.004720930096006475), (2435, 0.004719835936388932), (659, 0.004718831290520064), (1256, 0.0047175460745343244), (1269, 0.0047167335225756024), (2272, 0.004716723604267456), (3958, 0.0047160554839106575), (3216, 0.0047158822387633435), (1714, 0.004714652629938507), (3735, 0.004713577341441682), (3287, 0.0047133011042280555), (2028, 0.0047126161684519965), (4110, 0.004712520541056548), (971, 0.004711632008858917), (4363, 0.004711226606374812), (1862, 0.0047112242870730875), (1031, 0.004710394702709468), (4352, 0.00470921391747255), (4600, 0.004708907386600259), (3326, 0.00470829842037239), (2105, 0.0047081574746818166), (1048, 0.004707928013694105), (3864, 0.004707637712783099), (1089, 0.004706666673663054), (2973, 0.0047059206870436205), (399, 0.00470527051688747), (1717, 0.004704811612835204), (4687, 0.00470475648333198), (53, 0.004704318975228711), (0, 0.004704113243851237), (3080, 0.004703787186545341), (2796, 0.00470376994829022), (713, 0.004703592026197065), (2144, 0.004703407033210087), (1836, 0.004703375411130776), (819, 0.004702653478190386), (3926, 0.004701842436623511), (4135, 0.004701535712714654), (3184, 0.0047011932660852435), (2086, 0.004700873270310586), (1915, 0.0047003607873394165), (1386, 0.004699479188891483), (599, 0.0046994292812857635), (40, 0.004697965187051335), (472, 0.00469767278335148), (2766, 0.004697126185751511), (3536, 0.004697016442871377), (4750, 0.004696055837210959), (665, 0.004695939698321483), (1697, 0.004695914239701205), (56, 0.0046958518117564555), (536, 0.004695628712528146), (1618, 0.004694706081880173), (977, 0.0046938684401567985), (498, 0.004693736853622794), (4648, 0.004692576415677235), (1582, 0.004692523016148203), (3531, 0.004692055528628428), (1515, 0.004692044192839794), (4491, 0.004690823978225351), (3148, 0.004690274746764563), (331, 0.004689530231869454), (3041, 0.004688929188828737), (2965, 0.004688620495683816), (139, 0.004687976347448911), (1054, 0.004687884740974775), (817, 0.004687357757994346), (1726, 0.00468686933961875), (2195, 0.004686679423323832), (2806, 0.0046863054338470225), (2051, 0.004685176944946419), (22, 0.0046848445923995796), (3106, 0.004684297811636857), (3478, 0.004683917791147834), (2699, 0.004683884693754539), (3033, 0.004683299398587559), (993, 0.004681300009425711), (671, 0.004681292678380439), (3979, 0.004681046955402627), (3298, 0.0046808432479224504), (2164, 0.004680612011735972), (2463, 0.004680480488719111), (3965, 0.004680298527537369), (995, 0.004680175037550886), (389, 0.004679456309487556), (1955, 0.0046794002903480375), (1180, 0.004678676555624039), (1835, 0.0046785028982766815), (173, 0.004678243572101629), (2664, 0.00467737799352499), (1374, 0.004677069810306344), (1560, 0.004675726948530055), (894, 0.004675288777909936), (5, 0.00467488874325846), (1783, 0.004674184757089075), (551, 0.004672980829595027), (2177, 0.004671943363376837), (1231, 0.0046708376936661355), (4330, 0.004669587703749723), (3968, 0.004669093428907993), (1490, 0.004668190591988445), (114, 0.004667309715599008), (4404, 0.004667071768986172), (4334, 0.004665447499288847), (344, 0.004664766880637458), (474, 0.004664711499255684), (2372, 0.004664151822408483), (4560, 0.004663951130589732), (4364, 0.00466285578784726), (2073, 0.004662814191291553), (3937, 0.0046613769797524355), (1026, 0.004660495007689561), (1712, 0.004660469027445114), (814, 0.00466018973373475), (3482, 0.0046599460110412095), (4085, 0.00465987869127147), (2103, 0.0046597657865930665), (3622, 0.004659568777223098), (2315, 0.00465936988682983), (91, 0.00465877795249464), (1879, 0.004658392912806426), (583, 0.004657950080988691), (2605, 0.004657155252614219), (2444, 0.0046560608646897175), (4100, 0.004655235107026605), (3346, 0.004653618115762882), (4609, 0.004653126219653086), (4457, 0.004652788339373062), (1709, 0.004652476362701342), (4592, 0.004651151479758229), (2896, 0.004650948014173782), (1536, 0.004650932785258301), (2732, 0.004650417514043975), (3533, 0.00464938298502915), (2855, 0.004649274307925612), (1238, 0.004648935765093217), (2508, 0.004648558301635526), (2815, 0.004648437610005969), (4657, 0.004647982071564994), (3743, 0.004647537682425715), (2792, 0.004646998742164987), (1626, 0.004646048848264842), (4640, 0.004645831098744654), (151, 0.004645644828108921), (4009, 0.004644601925619593), (3366, 0.004644365552095283), (1111, 0.004643182686809601), (1470, 0.004641874650162669), (3581, 0.004641228444403451), (1239, 0.004641065328675517), (1361, 0.004639883183888589), (1468, 0.0046389636060918255), (901, 0.004638322921778442), (1425, 0.004637680021261115), (1644, 0.00463765603108734), (3120, 0.004636258619668515), (3818, 0.004635483639947398), (2341, 0.004634284149725486), (554, 0.004632919301378989), (3682, 0.004631998832486999), (2639, 0.00463108915143448), (405, 0.00463033285859004), (1638, 0.004630315577511054), (4183, 0.004629601049948808), (2685, 0.004629195726886829), (3943, 0.004628878355715335), (2966, 0.004628647079081547), (1022, 0.0046280032143229104), (2223, 0.004627824739552236), (1820, 0.0046276472165185205), (1814, 0.004627418734494418), (1338, 0.004627370567731705), (3685, 0.004626803044054096), (1981, 0.004626644863651911), (3709, 0.004626190976563043), (3650, 0.0046254596411333705), (2726, 0.004624508707880349), (3417, 0.004624298195545849), (440, 0.004623510489339876), (81, 0.004622586024542057), (2233, 0.004622491116048693), (3783, 0.0046221805046281214), (299, 0.004621922700134293), (4294, 0.004621679343567216), (3865, 0.004621148538607258), (1883, 0.004620838008736559), (2035, 0.004620245632537216), (1855, 0.004617663651107435), (312, 0.004617345698365059), (2574, 0.0046170434812589575), (3856, 0.004616960242696984), (1447, 0.004616949277643949), (3896, 0.0046167809320175855), (3798, 0.004616457525771575), (3614, 0.004616441631357727), (2729, 0.00461544278190637), (4467, 0.004615424431350389), (4583, 0.004615363173963948), (2220, 0.004614613654355519), (2124, 0.004614222446953375), (272, 0.004613989606121068), (1870, 0.0046128265108772515), (3855, 0.004612794463426804), (2128, 0.004612443979161808), (1038, 0.00461155227983499), (1986, 0.0046070766597710155), (1139, 0.004606922003476132), (2995, 0.004606811837366002), (4037, 0.004606190083990533), (3985, 0.0046053337403561875), (3879, 0.004604832820678588), (1607, 0.00460407912050032), (3494, 0.004602932464471365), (3829, 0.004601218467991212), (1305, 0.004601070915210471), (2783, 0.0046000156026047186), (2178, 0.004599694829465753), (4041, 0.004598984424889364), (1388, 0.0045985161006488785), (3749, 0.00459819277906726), (1894, 0.004597770100283602), (2749, 0.004597732194460661), (3350, 0.0045974339990822646), (4212, 0.00459647581186913), (1491, 0.0045960505499787144), (1176, 0.004595736336230767), (2662, 0.004595169774933652), (4482, 0.004594477049789403), (2462, 0.004592873327705738), (2215, 0.004592499582136185), (1908, 0.004592381990802474), (181, 0.004591218390070203), (1066, 0.004590988393182421), (2268, 0.004590816021663177), (4083, 0.004590084499671909), (2779, 0.004590041467553695), (2616, 0.004590012300139808), (3069, 0.004589989237653589), (3111, 0.00458916032713068), (3006, 0.004589019287208673), (1288, 0.004588947679636566), (4708, 0.004588543104530501), (3773, 0.004587131325195859), (983, 0.004586654551197236), (3098, 0.004585189379854698), (3563, 0.004584535962122823), (1508, 0.004584375796055424), (2693, 0.004583525696883655), (3549, 0.004583122961211061), (504, 0.0045827792794183395), (2800, 0.00458214885521765), (1532, 0.004581871110875182), (2068, 0.00458091098323147), (4634, 0.004579446469682928), (2202, 0.004579305576301531), (4245, 0.004577984271379477), (3644, 0.004577674686513364), (1823, 0.004577514513530942), (4, 0.004577436215533949), (324, 0.004576453994321229), (366, 0.004575483141130586), (1691, 0.004574725763652161), (1346, 0.004574427788653308), (1151, 0.0045742851366188785), (4161, 0.004573702348561258), (1825, 0.004573085060741455), (1888, 0.004571413278957916), (3636, 0.004570700879875631), (1987, 0.004570470070467783), (1242, 0.004569940946800287), (4360, 0.004569349105302881), (3107, 0.004568903951440519), (3881, 0.004568381104968282), (4111, 0.00456804533172798), (219, 0.004567131959125971), (3698, 0.00456687512335308), (3784, 0.004566707823642972), (2850, 0.004566324901467516), (4253, 0.00456495727198491), (2958, 0.00456471964760673), (2169, 0.004563885182881875), (4180, 0.0045638310708080165), (466, 0.004563018643999559), (805, 0.004562825531487557), (1847, 0.00456242720918015), (4376, 0.004561708943949477), (55, 0.004561621011367478), (4615, 0.004561204415353643), (1355, 0.0045606654541790435), (818, 0.004559349139714753), (4153, 0.004558751759405901), (3662, 0.0045583557242259145), (926, 0.004556412864234092), (1297, 0.004556410731111106), (4559, 0.0045557961924597165), (4382, 0.004555631215532838), (899, 0.004554722161136886), (1963, 0.004553552153997209), (1313, 0.004552983578285017), (3509, 0.004552881428576849), (1327, 0.004552837578126909), (1771, 0.0045515792784848914), (2713, 0.004551254047961241), (1802, 0.004551084289706442), (1522, 0.004550897998868967), (1856, 0.004549804985764417), (3994, 0.004549751202213098), (1378, 0.004548818907735418), (1245, 0.0045480169466822935), (2681, 0.00454775145110458), (2843, 0.004547575851880765), (2653, 0.004547565526610453), (2262, 0.004547535398016056), (2150, 0.0045474902616893225), (1521, 0.004547470887518879), (3014, 0.004546809703601061), (1831, 0.004545511466563842), (3048, 0.00454508135333194), (2414, 0.004544520163849467), (4358, 0.004542824739914699), (4029, 0.004542366510676301), (662, 0.004542281496255414), (776, 0.004542025493120777), (2523, 0.004541495308000124), (1108, 0.004540507760650125), (837, 0.004540139628037317), (909, 0.004539534319992201), (2243, 0.004539298619549477), (1670, 0.004539206672332291), (3067, 0.0045379924963064155), (390, 0.004537425644439212), (3381, 0.004537277126939764), (358, 0.004537044685109447), (1944, 0.004536242973996069), (649, 0.004536167998121539), (578, 0.004536061443023116), (4399, 0.004535699817267083), (3545, 0.004535393653669446), (3870, 0.004534924245219993), (1274, 0.004534047808009858), (3068, 0.0045340043575503655), (556, 0.004533542973021122), (2880, 0.004532739791733046), (4683, 0.004532427704399672), (1147, 0.004532346545522939), (651, 0.004531126886311137), (4472, 0.004529919154959252), (2042, 0.004529426701441623), (4099, 0.0045292461763818855), (1495, 0.004526839540651575), (4114, 0.004526144059928383), (1895, 0.004524654130005331), (1006, 0.004521967459349414), (8, 0.004521698231242121), (427, 0.004520848354657558), (3632, 0.004520294887265965), (2593, 0.004518580349535259), (1574, 0.004518578229159551), (3369, 0.0045185380216959895), (2327, 0.004518316680809939), (895, 0.0045168484850529236), (650, 0.004516143855236514), (798, 0.004515637468360225), (4227, 0.004514607304754866), (1974, 0.004514530493046794), (3209, 0.004514088038279976), (1045, 0.004513504479402564), (4159, 0.004512863360559217), (717, 0.004512806058640247), (397, 0.004509005884997584), (1945, 0.004508563047469922), (4278, 0.0045083680599552756), (163, 0.004508098974186379), (2307, 0.004507707851027439), (3595, 0.004504966041308076), (1287, 0.0045042738169031975), (3982, 0.004503507988421366), (2205, 0.004503408625232542), (2176, 0.004502759063743234), (3840, 0.0045016694116761305), (1807, 0.00450027969805719), (2445, 0.004500059563498434), (4568, 0.00449987840420918), (3063, 0.00449932175740058), (4351, 0.004498170871802681), (864, 0.004497733461434464), (4383, 0.004497532911021469), (2754, 0.0044958191864769795), (3476, 0.004493694680997226), (2942, 0.004493300448974605), (1756, 0.004493231735982747), (3288, 0.004492979971841168), (539, 0.004492135827670373), (4266, 0.004491266078371426), (4456, 0.004490340358501545), (2612, 0.004489630200473263), (343, 0.004489372944356959), (2159, 0.004489367209974778), (2056, 0.004489097017192491), (546, 0.004488491051595583), (2545, 0.004488225764317268), (600, 0.004487668290897542), (1920, 0.004487551932618707), (2408, 0.004487272516924648), (335, 0.004486602642682051), (3562, 0.004486199491445951), (3781, 0.004484214525362325), (1824, 0.004483772681756931), (714, 0.00448233764473458), (4109, 0.004481855718053833), (155, 0.004481589391617972), (4318, 0.004481066699820065), (2050, 0.004480578198865286), (807, 0.00448006015167177), (704, 0.004479713861487228), (1978, 0.00447778469551041), (2335, 0.0044771252833429274), (1182, 0.0044769163131130885), (1422, 0.004476913212426844), (1794, 0.0044768171138959666), (4356, 0.004476214747953102), (4059, 0.004476198773179243), (725, 0.004475262631469065), (958, 0.004474609028506325), (264, 0.004474181275150548), (767, 0.004472725705128723), (2905, 0.0044720564665769276), (1869, 0.004471982300193057), (3597, 0.00447125707078309), (2930, 0.0044708841557705836), (26, 0.004470511821462117), (4664, 0.0044702782651520135), (412, 0.004470125477911284), (1198, 0.004470115602530115), (404, 0.004469701180360089), (1732, 0.004469313727224016), (2256, 0.00446905214801727), (2213, 0.004468525394882259), (3658, 0.0044671014910671845), (3397, 0.004466823991501305), (3305, 0.0044667589541447115), (4716, 0.0044666788223519), (3376, 0.004466244217797377), (616, 0.00446596291143698), (2549, 0.004465873571351426), (1163, 0.004465295778530942), (486, 0.004462630405253319), (2915, 0.004461620256087652), (4641, 0.004460560580342146), (3082, 0.0044598236185555895), (4279, 0.004459668136331576), (4751, 0.0044583775653190185), (2534, 0.0044574992952511015), (613, 0.004455519508750371), (1581, 0.004454742074846623), (2955, 0.004454674148425503), (1641, 0.004454381991170569), (4314, 0.004452303507917567), (784, 0.004452012674951248), (2153, 0.0044510702268709314), (4260, 0.0044499747226493), (2542, 0.0044497495330110305), (3885, 0.004449573915565002), (3746, 0.004448210398112679), (3002, 0.004448106247313665), (2439, 0.004447939371372516), (1742, 0.00444765555947243), (506, 0.004447100752572982), (2183, 0.004446105813440725), (1604, 0.004445959667723456), (2985, 0.004445746932968673), (1467, 0.0044457297839351605), (1218, 0.004444851412624752), (2906, 0.00444446705118339), (227, 0.004444174925594152), (4234, 0.004444048374482279), (376, 0.004440683191808523), (3528, 0.004438417753322666), (674, 0.004437171331916092), (2822, 0.0044363222679330225), (1212, 0.004434829545264005), (2551, 0.004434824178715222), (2514, 0.0044336191266704655), (259, 0.004431479607331322), (1310, 0.004430986327647449), (2036, 0.004430392169207525), (2586, 0.004430106683594759), (4354, 0.004429382665942414), (4564, 0.004428876276761061), (762, 0.004428730705542755), (3987, 0.0044274851641423274), (465, 0.004427330423536697), (2641, 0.0044259575849146405), (724, 0.004425193865664024), (2962, 0.004425094638776396), (2525, 0.004424741197101995), (2811, 0.004424638132899606), (1707, 0.004423063877971202), (745, 0.004422796812208652), (3245, 0.004421405060663651), (4556, 0.004421257917895816), (3056, 0.004421093249431043), (4205, 0.004418872059812528), (4155, 0.0044188636030716155), (2006, 0.004418320661808571), (2644, 0.004418286332828498), (2367, 0.0044176700308132255), (1685, 0.004417480761745654), (3902, 0.004415869666679078), (906, 0.004415635961506933), (1721, 0.004414482443617581), (2938, 0.004412833410325244), (1373, 0.004410956589414973), (2594, 0.004410787675635036), (1046, 0.004409262147417395), (1545, 0.004409147455035985), (1423, 0.004408819119784345), (555, 0.0044085432750289415), (2107, 0.004407903907400533), (597, 0.004407526198816857), (954, 0.004407186078433871), (1773, 0.004406380739397649), (3372, 0.004405809070184001), (2866, 0.004405471943607306), (4689, 0.004405027389322905), (4581, 0.004402132552270814), (1093, 0.00440156003614707), (3633, 0.004400707460696523), (624, 0.004400182383755889), (1804, 0.00439937904011147), (3077, 0.0043980761248878595), (3872, 0.004397270520462226), (311, 0.004394539497978262), (4672, 0.004394498283067462), (1797, 0.0043937653926792285), (3785, 0.004392476799529131), (1729, 0.00439223427228134), (3786, 0.004391903473624623), (265, 0.0043907358166776055), (3021, 0.004387642672550771), (4069, 0.004387402961179446), (4596, 0.004387267052579575), (4525, 0.004386512267116309), (3058, 0.0043856254869396195), (1290, 0.00438283454184771), (2380, 0.004381924571037565), (975, 0.004381426197930128), (2926, 0.004379683857370614), (1561, 0.004378219322153999), (338, 0.004374953051620483), (223, 0.004374830890923215), (4350, 0.004374675195879476), (2347, 0.004373824817658321), (2064, 0.004372060582279741), (3570, 0.004371570819653269), (2141, 0.004370569488181417), (1004, 0.004369877386025029), (2369, 0.00436960199022236), (1743, 0.004367393182203668), (3173, 0.00436732533452939), (188, 0.004366993896374151), (2071, 0.004366262380011125), (1784, 0.004365460905688508), (1299, 0.0043649332154628365), (972, 0.004364620717194633), (1746, 0.004362611522913309), (2679, 0.004362606483095899), (9, 0.004362390165987367), (4738, 0.004361573162549579), (14, 0.004360771355082343), (1966, 0.004357062014634268), (3201, 0.004356815271688445), (3839, 0.004356738020623866), (2950, 0.00435551156967127), (1068, 0.004354609817276277), (2482, 0.004354054735778467), (1549, 0.0043539853123125), (3609, 0.004352860834529251), (1988, 0.004352447698369074), (4667, 0.0043521706817331255), (2615, 0.004349739845379815), (3738, 0.004347336693384295), (3333, 0.0043472195179142005), (3066, 0.004345990442941589), (3368, 0.004345090982816974), (1654, 0.004344795113627669), (2, 0.00434475170750537), (1062, 0.0043436109612601595), (1293, 0.004343377115462787), (3691, 0.004343219697822599), (3887, 0.004343206111791437), (1610, 0.004341976998034245), (755, 0.004341907549514604), (2200, 0.004341807930580932), (4437, 0.00434160337249951), (3286, 0.004339617174846105), (372, 0.004338933696014086), (1214, 0.0043372952986607365), (4063, 0.00433722705423039), (2019, 0.004333721729564915), (4543, 0.004333597987738381), (4569, 0.004333252721409045), (3568, 0.004332387895376376), (4509, 0.004332355432988733), (3567, 0.004331531206051715), (4447, 0.004326989380379179), (1553, 0.004325434841607833), (248, 0.004323066923483043), (1639, 0.0043229741586395705), (503, 0.004322435260640802), (3589, 0.004320900567515315), (3028, 0.00432010495189529), (746, 0.0043195114739058476), (1149, 0.00431806770825323), (1032, 0.004314966663703429), (3557, 0.004314070167407996), (3495, 0.004313647833384177), (3809, 0.004312065601340072), (2471, 0.004310912063611724), (763, 0.004310344149534144), (3940, 0.0043100901283152065), (4182, 0.004307043835515789), (4468, 0.004300871308249283), (3991, 0.0042999043923935675), (3226, 0.004299325733698596), (2589, 0.004298755341610087), (2661, 0.004295173583376742), (3543, 0.0042931872157834835), (3270, 0.00429291991040084), (978, 0.004292461783132831), (785, 0.004289269615851226), (1067, 0.0042886333936031015), (886, 0.004288037532344127), (309, 0.004286556427398976), (4257, 0.004285170425619524), (2457, 0.004285014279037588), (4305, 0.004284642423079596), (1025, 0.004282850320885313), (3542, 0.004280937625814941), (4342, 0.0042805602336165455), (3300, 0.004280035815173994), (1558, 0.004280022961468023), (1649, 0.004279144064889232), (2364, 0.004278066336229652), (3716, 0.004277087967474507), (229, 0.004275329462021106), (133, 0.004274910048732617), (912, 0.0042726834237744), (2827, 0.00427160717970216), (1875, 0.004271336357745935), (944, 0.00426968403010395), (497, 0.00426643878248294), (1368, 0.0042656056720258625), (2274, 0.004265004631802736), (3707, 0.004264821776021716), (3034, 0.004264136490995796), (1221, 0.0042586412343201254), (4536, 0.004256781195687486), (4638, 0.004256749202241313), (4191, 0.004255163466549636), (3825, 0.004253272765712491), (394, 0.004250291470246442), (2466, 0.00425026770992234), (3311, 0.004248787327183532), (2666, 0.004248675580887883), (2839, 0.004247223627559537), (1073, 0.004245471623844731), (451, 0.0042443471542455095), (2129, 0.004244243778035155), (1444, 0.004243855157617795), (2671, 0.0042429767858962585), (4409, 0.004242156580412642), (1664, 0.004240881194100997), (4620, 0.004240370610280219), (4217, 0.004240221293029858), (2095, 0.00423856700552137), (1249, 0.004238139872845298), (2005, 0.004233242056104808), (177, 0.004230810547942842), (1624, 0.004230789613681237), (1008, 0.004226542153972666), (1899, 0.004224918456073635), (1973, 0.004223119293123414), (1686, 0.00422253190113431), (3859, 0.004219902951043054), (4476, 0.004219707139622373), (2867, 0.004219528786191343), (1932, 0.004217767625633464), (3222, 0.004216924783033166), (4558, 0.004216376761881771), (1529, 0.004213046172416413), (3929, 0.004212382213924356), (3821, 0.004211655249713951), (317, 0.004211307975168497), (3278, 0.004210031913515199), (3379, 0.004209923326080245), (770, 0.004209714817925268), (943, 0.004207914103055278), (1698, 0.00420588050358324), (1795, 0.004205138447764126), (1072, 0.004202539225307528), (438, 0.004200881782580273), (1651, 0.004198848442742228), (1863, 0.004198492928427481), (1801, 0.004195256883959525), (337, 0.004192797780602256), (4712, 0.004191671150565653), (4511, 0.004190521532065538), (4236, 0.004187319180655093), (1979, 0.004186884468861726), (1331, 0.004185081725387971), (3320, 0.004183375079027915), (2538, 0.004182393343822144), (4018, 0.004181872968736939), (2366, 0.00418075181840267), (1684, 0.004179935509758254), (382, 0.004179405307521795), (2526, 0.004179278882109984), (2548, 0.004172523325061651), (3836, 0.004169787693934373), (648, 0.004167951740664263), (970, 0.004166001671617959), (1055, 0.004165129154856133), (4297, 0.004163255123645847), (3693, 0.0041607999234283145), (3880, 0.00415536550931922), (3909, 0.004148053081001187), (4141, 0.004147562755772745), (319, 0.0041452385496894215), (1752, 0.004145226928165043), (416, 0.00414330952906239), (4690, 0.004142955064876667), (4405, 0.004140612504915415), (3788, 0.0041390786291420015), (3411, 0.004138651569968243), (2323, 0.004136247127973515), (2161, 0.004134075313976726), (2608, 0.004132246218835124), (3948, 0.004131987842766383), (1744, 0.00413177394111373), (2087, 0.004129134144417636), (3863, 0.00412899918721229), (920, 0.004122546072646731), (1316, 0.004121827196904524), (4186, 0.004118661284556917), (1213, 0.004117717370386122), (3861, 0.004117581874089505), (2329, 0.004114181394792704), (3598, 0.004105499148707748), (1676, 0.004105203351549558), (2287, 0.004102849119356222), (2805, 0.004098172879522146), (3803, 0.0040965084302587145), (4647, 0.004089669150130454), (130, 0.004087094395217208), (2227, 0.004084026445518814), (4530, 0.004082536597659092), (2460, 0.00407535608359702), (787, 0.004073594070454178), (2627, 0.004070180064568369), (1672, 0.004067947617579092), (1747, 0.004067839480987), (403, 0.0040673613808990036), (4598, 0.004066599896552351), (4748, 0.004062189460722239), (3619, 0.004039993942907008), (2761, 0.004034589968256649), (1323, 0.0040293130853923794), (3980, 0.004025900439724436), (2976, 0.004025029920355319), (194, 0.00402343629043828), (1648, 0.004015332870496716), (575, 0.00401054948076593), (1485, 0.004006604283758012), (3719, 0.004000392509495739), (4498, 0.003998591303150399), (2120, 0.003996739789317922), (706, 0.003995497362281977), (3916, 0.003991388045529228), (4577, 0.0039876059942647), (4385, 0.003985203674781496), (2842, 0.003972341873541426), (2052, 0.003972084528713199), (2059, 0.003969731062225052), (3732, 0.003965159454663814), (3667, 0.003964431058447749), (2774, 0.003961288741485601), (3634, 0.003957085522929398), (4261, 0.003956524241598992), (4414, 0.003954111524211981), (3050, 0.0039530948507989425), (3231, 0.003952655448261553), (4411, 0.003949399703075451), (2913, 0.003927157937532136), (924, 0.003925582328810625), (3205, 0.003900724936088517), (2705, 0.003887839199898126), (3525, 0.00388385809471905), (2098, 0.003879586035852747), (3399, 0.003874539919029878), (3750, 0.003872461624277164), (726, 0.0038246003061237054), (2240, 0.003822849559610519), (1289, 0.0038112790171261476), (3212, 0.0038017040791671263), (2389, 0.0038012039339431506), (1081, 0.0037606278779007732), (2686, 0.003747208838514823), (720, 0.003723966873708887), (4745, 0.0037234866839417325), (1695, 0.0037125327203870314), (1938, 0.003703490078231238), (1535, 0.003703214259280145), (4343, 0.0036794251118086618), (3079, 0.0036557771231031555), (1418, 0.003654866669994771), (4415, 0.003630572241606172), (1415, 0.0036098288719680015), (168, 0.0036023477299826673), (4386, 0.003589193583405369), (2469, 0.003567093676595901), (4390, 0.0035528441975698345), (3037, 0.0035023311191577406), (3928, 0.00347054798088549), (3558, 0.0034632917118825185), (3301, 0.003448132498525866), (268, 0.003417111601379741), (611, 0.0033705591783641116), (1040, 0.003147498503234029), (3506, 0.0029119913427916085), (2756, 0.0027150986044458063), (2889, 0.002658089857751792), (3221, 0.0026492981218269526), (4483, 0.0025579497760863323), (526, 0.0025239568854737364), (2659, 0.002451106149861115), (4711, 0.0023822901272709247), (1069, 0.0023560577113266802), (3217, 0.002328941169470283), (1247, 0.0023051916592102444), (363, 0.002269883734911973), (3274, 0.0022593844031884623), (3296, 0.0022300246040633), (4706, 0.002210375980327554), (4413, 0.002187944140146812), (3383, 0.0021740603062685715), (4734, 0.0021665160654390234), (2479, 0.002158341357935895), (3038, 0.002118159992423275), (2238, 0.0020815943805610406), (4742, 0.0020808969251069984), (2063, 0.0020757747817274417), (4315, 0.0020702472901806927), (3625, 0.0020670918454566687), (1800, 0.002065098338997447), (4250, 0.0020616159274016504), (2345, 0.002053356743477908), (2916, 0.0020516985661864287), (4177, 0.002051383874853843), (3579, 0.002031673645567322), (1834, 0.0020286644681489076), (2700, 0.002020601274740922), (3805, 0.002019468345514554), (3669, 0.0020174293055624263), (2135, 0.002002045651702971), (4393, 0.0019968754898460842), (4461, 0.0019875308879167973), (4463, 0.0019853192269639938), (3059, 0.0019811596791662143), (256, 0.0019806280127029), (3827, 0.0019742737795271042), (4131, 0.001972801977346631), (4129, 0.0019649659812611777), (693, 0.0019624984415951966), (1625, 0.0019616861503502746), (186, 0.0019588735367508667), (3500, 0.001958066498810131), (4573, 0.001956639275678233), (3144, 0.0019433065891386108), (32, 0.0019383464440311108), (2173, 0.001937282221330817), (4014, 0.001934335931195048), (4729, 0.0019334923662436088), (2152, 0.0019308607858540248), (2596, 0.0019139495355726126), (3170, 0.0019136847625814103), (4326, 0.0019107792385375491), (3898, 0.001908034225647928), (647, 0.0019022703007777744), (2997, 0.0018990617102074803), (4079, 0.0018907342009552817), (58, 0.001876369160054153), (882, 0.0018640698065766866), (3254, 0.0018638343626902747), (2475, 0.001863713603876343), (2584, 0.0018598473094270755), (475, 0.0018563268048745621), (3627, 0.0018554595912373044), (4726, 0.0018532269048454966), (4693, 0.0018523632932509167), (4616, 0.001851221043358487), (1144, 0.0018504192773781205), (2289, 0.001846746507123981), (57, 0.0018427649695946114), (3927, 0.0018413771019851906), (3394, 0.0018312063147833725), (1020, 0.001817070144080827), (3347, 0.0018119328623994214), (3806, 0.0018114774869285792), (1745, 0.00180791695071972), (1826, 0.0018043329080512415), (4229, 0.0018038495131878001), (2741, 0.0017994522874789996), (1753, 0.0017984607216067212), (838, 0.0017976447288588664), (4296, 0.0017970583947870317), (2946, 0.0017957014247567936), (3755, 0.0017946487636568442), (2373, 0.0017888982624438123), (4520, 0.0017772601727524522), (64, 0.0017767475949188804), (7, 0.0017751957494087926), (1005, 0.0017744763574798316), (4151, 0.001761599091460217), (3138, 0.00174087422552751), (3481, 0.0017333831394809093), (2933, 0.0017330710802588433), (2426, 0.001730584898000681), (645, 0.0017178840165351982), (2113, 0.0017166621240990434), (252, 0.0017149338115502505), (293, 0.0017100693928083564), (3431, 0.0016825355637360743), (3211, 0.0016589514763181862), (224, 0.0016233199950719938), (1037, 0.001618881428366022), (3608, 0.001370843981214931), (783, 0.0), (2186, 0.0), (2450, 0.0), (2631, 0.0), (2735, 0.0), (2832, 0.0), (3157, 0.0), (3159, 0.0), (3175, 0.0), (3177, 0.0), (3293, 0.0), (3324, 0.0), (3396, 0.0), (3420, 0.0), (3439, 0.0), (3523, 0.0), (3617, 0.0), (3676, 0.0), (3703, 0.0), (3712, 0.0), (3717, 0.0), (3748, 0.0), (3830, 0.0), (3884, 0.0), (3892, 0.0), (3981, 0.0), (4019, 0.0), (4026, 0.0), (4062, 0.0), (4107, 0.0), (4220, 0.0), (4239, 0.0), (4316, 0.0), (4317, 0.0), (4499, 0.0), (4500, 0.0), (4532, 0.0), (4541, 0.0), (4547, 0.0), (4562, 0.0), (4618, 0.0), (4619, 0.0), (4645, 0.0), (4730, 0.0), (4749, 0.0), (4758, 0.0), (4759, 0.0)]\n"
          ]
        }
      ]
    },
    {
      "cell_type": "code",
      "source": [
        "# Print the name of similar movies based on the index\n",
        "\n",
        "print(\"\\n Top 30 movies suggested for you : \\n\")\n",
        "\n",
        "i = 1\n",
        "for movie in sorted_movielist:\n",
        "  index = movie[0]\n",
        "  title_from_index = df[df.index == index]['Movie_Title'].values[0]\n",
        "  if i<31:\n",
        "    print(i,'.',title_from_index)\n",
        "  i+=1"
      ],
      "metadata": {
        "colab": {
          "base_uri": "https://localhost:8080/"
        },
        "id": "Auiju5KywfZe",
        "outputId": "4d06bac9-cd0d-4977-8498-d73a40211a4e"
      },
      "execution_count": 45,
      "outputs": [
        {
          "output_type": "stream",
          "name": "stdout",
          "text": [
            "\n",
            " Top 30 movies suggested for you : \n",
            "\n",
            "1 . Niagara\n",
            "2 . Back to the Future\n",
            "3 . Harry Brown\n",
            "4 . Duel in the Sun\n",
            "5 . Some Like It Hot\n",
            "6 . Alice Through the Looking Glass\n",
            "7 . The Curse of Downers Grove\n",
            "8 . Welcome to the Sticks\n",
            "9 . The Misfits\n",
            "10 . Enough\n",
            "11 . Eye for an Eye\n",
            "12 . Small Soldiers\n",
            "13 . Tora! Tora! Tora!\n",
            "14 . Minority Report\n",
            "15 . Camping Sauvage\n",
            "16 . Master and Commander: The Far Side of the World\n",
            "17 . Source Code\n",
            "18 . World Trade Center\n",
            "19 . To Kill a Mockingbird\n",
            "20 . Edge of Darkness\n",
            "21 . The Lazarus Effect\n",
            "22 . Smiling Fish & Goat On Fire\n",
            "23 . Hugo\n",
            "24 . Heartbeeps\n",
            "25 . It Follows\n",
            "26 . Fetching Cody\n",
            "27 . Independence Day: Resurgence\n",
            "28 . The Other Side of Heaven\n",
            "29 . The Dark Knight Rises\n",
            "30 . Running with Scissors\n"
          ]
        }
      ]
    },
    {
      "cell_type": "markdown",
      "source": [
        "# Top 10 Movie Recommendation System"
      ],
      "metadata": {
        "id": "7RCm5Yhs1okv"
      }
    },
    {
      "cell_type": "code",
      "source": [
        "movie_name = input(\"Enter the movie name : \")\n",
        "movie_list = df['Movie_Title'].tolist()\n",
        "movie_recommendation = difflib.get_close_matches(movie_name,movie_list)\n",
        "close_match = movie_recommendation[0]\n",
        "movie_index = df[df.Movie_Title == close_match]['Movie_ID'].values[0]\n",
        "recommendation_score = list(enumerate(similarity_score[movie_index]))\n",
        "sorted_movielist = sorted(recommendation_score, key = lambda x:x[1],reverse = True)\n",
        "print(\"\\n Top 10 movies suggested for you : \\n\")\n",
        "\n",
        "i = 1\n",
        "for movie in sorted_movielist:\n",
        "  index = movie[0]\n",
        "  title_from_index = df[df.index == index]['Movie_Title'].values[0]\n",
        "  if i<11:\n",
        "    print(i,'.',title_from_index)\n",
        "  i+=1"
      ],
      "metadata": {
        "colab": {
          "base_uri": "https://localhost:8080/"
        },
        "id": "keOmBc-m1twg",
        "outputId": "1deec08e-4e8e-4925-f5f4-1e8abdc71be7"
      },
      "execution_count": 47,
      "outputs": [
        {
          "output_type": "stream",
          "name": "stdout",
          "text": [
            "Enter the movie name : avtaar\n",
            "\n",
            " Top 10 movies suggested for you : \n",
            "\n",
            "1 . Niagara\n",
            "2 . Back to the Future\n",
            "3 . Harry Brown\n",
            "4 . Duel in the Sun\n",
            "5 . Some Like It Hot\n",
            "6 . Alice Through the Looking Glass\n",
            "7 . The Curse of Downers Grove\n",
            "8 . Welcome to the Sticks\n",
            "9 . The Misfits\n",
            "10 . Enough\n"
          ]
        }
      ]
    }
  ]
}